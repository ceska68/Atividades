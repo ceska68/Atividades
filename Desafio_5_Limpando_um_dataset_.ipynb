{
  "cells": [
    {
      "cell_type": "markdown",
      "metadata": {
        "id": "view-in-github",
        "colab_type": "text"
      },
      "source": [
        "<a href=\"https://colab.research.google.com/github/ceska68/Atividades/blob/main/Desafio_5_Limpando_um_dataset_.ipynb\" target=\"_parent\"><img src=\"https://colab.research.google.com/assets/colab-badge.svg\" alt=\"Open In Colab\"/></a>"
      ]
    },
    {
      "cell_type": "markdown",
      "metadata": {
        "id": "6xP-b4V4ob2Y"
      },
      "source": [
        "<div>\n",
        "    <p style=\"float: right;\"><img src=\"https://media.swipepages.com/2021/2/sirius-logo-principal-tag-1-300.png\" height=\"80px\"border=\"1px\"></p>\n",
        "    \n",
        "</div>\n",
        "<h1>Nano Desafio</h1>\n",
        "<h2>Pandas </h2>\n",
        "\n",
        "Aluno: Bastien\n",
        "\n",
        "Data: 23/04/2023"
      ]
    },
    {
      "cell_type": "markdown",
      "metadata": {
        "id": "EmKQ7k-Wob2a"
      },
      "source": [
        "###### Estima-se em torno de 70-80% do tempo e esforço total de um projeto de análise de dados é o pré-processamento.Uma das partes do processamento é o que chamamos de \"data cleaning\" que é  limpeza de dados e o processo de detecção e correção de registros corrompidos ou imprecisos. Isso é importante  para deixar os dados prontos para análises posteriores!\n",
        "###### Por isso, chegou sua vez de ver um pouco como isso tudo acontece!"
      ]
    },
    {
      "cell_type": "markdown",
      "metadata": {
        "id": "BfowTv9-ob2b"
      },
      "source": [
        "[Acesse o csv chamado Churn](https://drive.google.com/file/d/1jQYxZTvOa7qQMdF1-PNHx9_Io_rT5X9S/view?usp=sharing). Você deve limpar e deixar esse dataset pronto para análises. Não se preocupe tanto em analisar o dataset agora. Seu objetivo, por hora, é encontrar possíveis erros de input, discutir com a área de negócios e tomar algumas decisões que serão comuns quando você receber um dataset:\n",
        " - Excluir ou não uma informação;\n",
        " - inputar um valor faltante;\n",
        " - substituir valores, etc"
      ]
    },
    {
      "cell_type": "markdown",
      "metadata": {
        "id": "FWf_VBkUob2b"
      },
      "source": [
        "**Obs.: churn, em poucas palavras,são os casos onde um cliente ou usuário para de comprar ou usar o produto ou serviço de uma empresa.**"
      ]
    },
    {
      "cell_type": "markdown",
      "metadata": {
        "id": "_oP2YUrHob2c"
      },
      "source": [
        "1 - sua primeira tarefa é importar alguns pacotes importantes para seu trabalho:\n",
        "\n",
        "- importe os pacotes pandas e seaborn\n",
        "    "
      ]
    },
    {
      "cell_type": "code",
      "execution_count": 25,
      "metadata": {
        "id": "qRWmWoSPob2c",
        "colab": {
          "base_uri": "https://localhost:8080/"
        },
        "outputId": "e567f6a7-502c-4120-aa85-e0a20f35ff22"
      },
      "outputs": [
        {
          "output_type": "stream",
          "name": "stdout",
          "text": [
            "Mounted at /content/drive\n"
          ]
        }
      ],
      "source": [
        "import pandas as pd\n",
        "import seaborn as sns\n",
        "from google.colab import drive\n",
        "drive.mount('/content/drive')"
      ]
    },
    {
      "cell_type": "markdown",
      "metadata": {
        "id": "VulrXa0Gob2c"
      },
      "source": [
        "2 - para trabalhar com os dados você precisa trazê-los para o Python. Faça isso:"
      ]
    },
    {
      "cell_type": "code",
      "execution_count": 18,
      "metadata": {
        "id": "_X_VkfNcob2d"
      },
      "outputs": [],
      "source": [
        "df = pd.read_csv('Churn.csv', delimiter=\";\")"
      ]
    },
    {
      "cell_type": "markdown",
      "metadata": {
        "id": "74zTi604ob2j"
      },
      "source": [
        "3 - agora que você trouxe os dados para o mundo maravilhoso do Python, visualize algumas linhas desse conjunto de dados, afinal você precisa conhecer esses dados não é?!!"
      ]
    },
    {
      "cell_type": "code",
      "execution_count": 19,
      "metadata": {
        "id": "QIxl9C6gob2j",
        "colab": {
          "base_uri": "https://localhost:8080/",
          "height": 206
        },
        "outputId": "bc3ddc5a-4ec2-468b-8b80-6da1912d81f5"
      },
      "outputs": [
        {
          "output_type": "execute_result",
          "data": {
            "text/plain": [
              "   X0   X1  X2        X3  X4  X4.1        X6  X7  X8  X9         X10  X11\n",
              "0   1  619  RS  Feminino  42     2         0   1   1   1  10134888.0    1\n",
              "1   2  608  SC  Feminino  41     1   8380786   1   0   1  11254258.0    0\n",
              "2   3  502  RS  Feminino  42     8   1596608   3   1   0  11393157.0    1\n",
              "3   4  699  RS  Feminino  39     1         0   2   0   0   9382663.0    0\n",
              "4   5  850  SC  Feminino  43     2  12551082   1   1   1    790841.0    0"
            ],
            "text/html": [
              "\n",
              "  <div id=\"df-efb5b183-8fb1-4611-ba11-87a65450f6b2\">\n",
              "    <div class=\"colab-df-container\">\n",
              "      <div>\n",
              "<style scoped>\n",
              "    .dataframe tbody tr th:only-of-type {\n",
              "        vertical-align: middle;\n",
              "    }\n",
              "\n",
              "    .dataframe tbody tr th {\n",
              "        vertical-align: top;\n",
              "    }\n",
              "\n",
              "    .dataframe thead th {\n",
              "        text-align: right;\n",
              "    }\n",
              "</style>\n",
              "<table border=\"1\" class=\"dataframe\">\n",
              "  <thead>\n",
              "    <tr style=\"text-align: right;\">\n",
              "      <th></th>\n",
              "      <th>X0</th>\n",
              "      <th>X1</th>\n",
              "      <th>X2</th>\n",
              "      <th>X3</th>\n",
              "      <th>X4</th>\n",
              "      <th>X4.1</th>\n",
              "      <th>X6</th>\n",
              "      <th>X7</th>\n",
              "      <th>X8</th>\n",
              "      <th>X9</th>\n",
              "      <th>X10</th>\n",
              "      <th>X11</th>\n",
              "    </tr>\n",
              "  </thead>\n",
              "  <tbody>\n",
              "    <tr>\n",
              "      <th>0</th>\n",
              "      <td>1</td>\n",
              "      <td>619</td>\n",
              "      <td>RS</td>\n",
              "      <td>Feminino</td>\n",
              "      <td>42</td>\n",
              "      <td>2</td>\n",
              "      <td>0</td>\n",
              "      <td>1</td>\n",
              "      <td>1</td>\n",
              "      <td>1</td>\n",
              "      <td>10134888.0</td>\n",
              "      <td>1</td>\n",
              "    </tr>\n",
              "    <tr>\n",
              "      <th>1</th>\n",
              "      <td>2</td>\n",
              "      <td>608</td>\n",
              "      <td>SC</td>\n",
              "      <td>Feminino</td>\n",
              "      <td>41</td>\n",
              "      <td>1</td>\n",
              "      <td>8380786</td>\n",
              "      <td>1</td>\n",
              "      <td>0</td>\n",
              "      <td>1</td>\n",
              "      <td>11254258.0</td>\n",
              "      <td>0</td>\n",
              "    </tr>\n",
              "    <tr>\n",
              "      <th>2</th>\n",
              "      <td>3</td>\n",
              "      <td>502</td>\n",
              "      <td>RS</td>\n",
              "      <td>Feminino</td>\n",
              "      <td>42</td>\n",
              "      <td>8</td>\n",
              "      <td>1596608</td>\n",
              "      <td>3</td>\n",
              "      <td>1</td>\n",
              "      <td>0</td>\n",
              "      <td>11393157.0</td>\n",
              "      <td>1</td>\n",
              "    </tr>\n",
              "    <tr>\n",
              "      <th>3</th>\n",
              "      <td>4</td>\n",
              "      <td>699</td>\n",
              "      <td>RS</td>\n",
              "      <td>Feminino</td>\n",
              "      <td>39</td>\n",
              "      <td>1</td>\n",
              "      <td>0</td>\n",
              "      <td>2</td>\n",
              "      <td>0</td>\n",
              "      <td>0</td>\n",
              "      <td>9382663.0</td>\n",
              "      <td>0</td>\n",
              "    </tr>\n",
              "    <tr>\n",
              "      <th>4</th>\n",
              "      <td>5</td>\n",
              "      <td>850</td>\n",
              "      <td>SC</td>\n",
              "      <td>Feminino</td>\n",
              "      <td>43</td>\n",
              "      <td>2</td>\n",
              "      <td>12551082</td>\n",
              "      <td>1</td>\n",
              "      <td>1</td>\n",
              "      <td>1</td>\n",
              "      <td>790841.0</td>\n",
              "      <td>0</td>\n",
              "    </tr>\n",
              "  </tbody>\n",
              "</table>\n",
              "</div>\n",
              "      <button class=\"colab-df-convert\" onclick=\"convertToInteractive('df-efb5b183-8fb1-4611-ba11-87a65450f6b2')\"\n",
              "              title=\"Convert this dataframe to an interactive table.\"\n",
              "              style=\"display:none;\">\n",
              "        \n",
              "  <svg xmlns=\"http://www.w3.org/2000/svg\" height=\"24px\"viewBox=\"0 0 24 24\"\n",
              "       width=\"24px\">\n",
              "    <path d=\"M0 0h24v24H0V0z\" fill=\"none\"/>\n",
              "    <path d=\"M18.56 5.44l.94 2.06.94-2.06 2.06-.94-2.06-.94-.94-2.06-.94 2.06-2.06.94zm-11 1L8.5 8.5l.94-2.06 2.06-.94-2.06-.94L8.5 2.5l-.94 2.06-2.06.94zm10 10l.94 2.06.94-2.06 2.06-.94-2.06-.94-.94-2.06-.94 2.06-2.06.94z\"/><path d=\"M17.41 7.96l-1.37-1.37c-.4-.4-.92-.59-1.43-.59-.52 0-1.04.2-1.43.59L10.3 9.45l-7.72 7.72c-.78.78-.78 2.05 0 2.83L4 21.41c.39.39.9.59 1.41.59.51 0 1.02-.2 1.41-.59l7.78-7.78 2.81-2.81c.8-.78.8-2.07 0-2.86zM5.41 20L4 18.59l7.72-7.72 1.47 1.35L5.41 20z\"/>\n",
              "  </svg>\n",
              "      </button>\n",
              "      \n",
              "  <style>\n",
              "    .colab-df-container {\n",
              "      display:flex;\n",
              "      flex-wrap:wrap;\n",
              "      gap: 12px;\n",
              "    }\n",
              "\n",
              "    .colab-df-convert {\n",
              "      background-color: #E8F0FE;\n",
              "      border: none;\n",
              "      border-radius: 50%;\n",
              "      cursor: pointer;\n",
              "      display: none;\n",
              "      fill: #1967D2;\n",
              "      height: 32px;\n",
              "      padding: 0 0 0 0;\n",
              "      width: 32px;\n",
              "    }\n",
              "\n",
              "    .colab-df-convert:hover {\n",
              "      background-color: #E2EBFA;\n",
              "      box-shadow: 0px 1px 2px rgba(60, 64, 67, 0.3), 0px 1px 3px 1px rgba(60, 64, 67, 0.15);\n",
              "      fill: #174EA6;\n",
              "    }\n",
              "\n",
              "    [theme=dark] .colab-df-convert {\n",
              "      background-color: #3B4455;\n",
              "      fill: #D2E3FC;\n",
              "    }\n",
              "\n",
              "    [theme=dark] .colab-df-convert:hover {\n",
              "      background-color: #434B5C;\n",
              "      box-shadow: 0px 1px 3px 1px rgba(0, 0, 0, 0.15);\n",
              "      filter: drop-shadow(0px 1px 2px rgba(0, 0, 0, 0.3));\n",
              "      fill: #FFFFFF;\n",
              "    }\n",
              "  </style>\n",
              "\n",
              "      <script>\n",
              "        const buttonEl =\n",
              "          document.querySelector('#df-efb5b183-8fb1-4611-ba11-87a65450f6b2 button.colab-df-convert');\n",
              "        buttonEl.style.display =\n",
              "          google.colab.kernel.accessAllowed ? 'block' : 'none';\n",
              "\n",
              "        async function convertToInteractive(key) {\n",
              "          const element = document.querySelector('#df-efb5b183-8fb1-4611-ba11-87a65450f6b2');\n",
              "          const dataTable =\n",
              "            await google.colab.kernel.invokeFunction('convertToInteractive',\n",
              "                                                     [key], {});\n",
              "          if (!dataTable) return;\n",
              "\n",
              "          const docLinkHtml = 'Like what you see? Visit the ' +\n",
              "            '<a target=\"_blank\" href=https://colab.research.google.com/notebooks/data_table.ipynb>data table notebook</a>'\n",
              "            + ' to learn more about interactive tables.';\n",
              "          element.innerHTML = '';\n",
              "          dataTable['output_type'] = 'display_data';\n",
              "          await google.colab.output.renderOutput(dataTable, element);\n",
              "          const docLink = document.createElement('div');\n",
              "          docLink.innerHTML = docLinkHtml;\n",
              "          element.appendChild(docLink);\n",
              "        }\n",
              "      </script>\n",
              "    </div>\n",
              "  </div>\n",
              "  "
            ]
          },
          "metadata": {},
          "execution_count": 19
        }
      ],
      "source": [
        "df.head()"
      ]
    },
    {
      "cell_type": "markdown",
      "metadata": {
        "id": "htVn2z9Job2k"
      },
      "source": [
        "4 - Notou algo estranho? Apesar de você saber do que se trata  o problema e os dados, parece que falta alguma coisa, não é?\n",
        "\n",
        "Você não sabe quem são suas variáveis pois as colunas não estão nomeadas!! Bem Vindo ao mundo da análise de dados!!!\n",
        "\n"
      ]
    },
    {
      "cell_type": "markdown",
      "metadata": {
        "id": "zgepn4dCob2k"
      },
      "source": [
        "5 - Essa é a hora que você deveria procurar a área de negócios para descobrir o que é cada coluna!\n",
        "\n",
        "Faça isso! Lembre-se que no dia-dia de trabalho você terá contato com várias áreas e é de suma importancia ser proativo!!!\n",
        "\n",
        "Consulte um tutor, abra um ticket!!( ele é a sua área de negócios hoje!!) e peça a para ele te ajudar a identificar nome das colunas desse dataset!"
      ]
    },
    {
      "cell_type": "markdown",
      "metadata": {
        "id": "5W7rm_0Qob2k"
      },
      "source": []
    },
    {
      "cell_type": "markdown",
      "metadata": {
        "id": "um7TiNolob2k"
      },
      "source": [
        "6 - Agora que você tem os nomes das colunas, dê os nomes correspondentes:"
      ]
    },
    {
      "cell_type": "code",
      "execution_count": 49,
      "metadata": {
        "id": "pPLT5YSyob2k"
      },
      "outputs": [],
      "source": [
        "df.rename(columns={'X0': 'Index', 'X1': 'Score', 'X2': 'Estado', 'X2': 'Estado', 'X2': 'Estado', \n",
        "                   'X3': 'Genero', 'X4': 'Idade', 'X4.1': 'X5', 'X6': 'X6', 'X7': 'X7',\n",
        "                   'X8': 'X8', 'X9': 'X9', 'X10': 'X10', 'X11': 'X11'}, inplace=True)"
      ]
    },
    {
      "cell_type": "markdown",
      "metadata": {
        "id": "rGyMw7qDob2l"
      },
      "source": [
        "7 - visualize novamente algumas linhas do seu conjunto de dados"
      ]
    },
    {
      "cell_type": "code",
      "execution_count": 50,
      "metadata": {
        "id": "mwWANG61ob2l",
        "colab": {
          "base_uri": "https://localhost:8080/",
          "height": 206
        },
        "outputId": "b81c81f5-a0e7-4321-9184-49c1bad41b4d"
      },
      "outputs": [
        {
          "output_type": "execute_result",
          "data": {
            "text/plain": [
              "   Index  Score Estado    Genero  Idade  X5        X6  X7  X8  X9         X10  \\\n",
              "0      1    619     RS  Feminino     42   2         0   1   1   1  10134888.0   \n",
              "1      2    608     SC  Feminino     41   1   8380786   1   0   1  11254258.0   \n",
              "2      3    502     RS  Feminino     42   8   1596608   3   1   0  11393157.0   \n",
              "3      4    699     RS  Feminino     39   1         0   2   0   0   9382663.0   \n",
              "4      5    850     SC  Feminino     43   2  12551082   1   1   1    790841.0   \n",
              "\n",
              "   X11  \n",
              "0    1  \n",
              "1    0  \n",
              "2    1  \n",
              "3    0  \n",
              "4    0  "
            ],
            "text/html": [
              "\n",
              "  <div id=\"df-1967eea2-120d-48dc-b842-a59e7dbb2a01\">\n",
              "    <div class=\"colab-df-container\">\n",
              "      <div>\n",
              "<style scoped>\n",
              "    .dataframe tbody tr th:only-of-type {\n",
              "        vertical-align: middle;\n",
              "    }\n",
              "\n",
              "    .dataframe tbody tr th {\n",
              "        vertical-align: top;\n",
              "    }\n",
              "\n",
              "    .dataframe thead th {\n",
              "        text-align: right;\n",
              "    }\n",
              "</style>\n",
              "<table border=\"1\" class=\"dataframe\">\n",
              "  <thead>\n",
              "    <tr style=\"text-align: right;\">\n",
              "      <th></th>\n",
              "      <th>Index</th>\n",
              "      <th>Score</th>\n",
              "      <th>Estado</th>\n",
              "      <th>Genero</th>\n",
              "      <th>Idade</th>\n",
              "      <th>X5</th>\n",
              "      <th>X6</th>\n",
              "      <th>X7</th>\n",
              "      <th>X8</th>\n",
              "      <th>X9</th>\n",
              "      <th>X10</th>\n",
              "      <th>X11</th>\n",
              "    </tr>\n",
              "  </thead>\n",
              "  <tbody>\n",
              "    <tr>\n",
              "      <th>0</th>\n",
              "      <td>1</td>\n",
              "      <td>619</td>\n",
              "      <td>RS</td>\n",
              "      <td>Feminino</td>\n",
              "      <td>42</td>\n",
              "      <td>2</td>\n",
              "      <td>0</td>\n",
              "      <td>1</td>\n",
              "      <td>1</td>\n",
              "      <td>1</td>\n",
              "      <td>10134888.0</td>\n",
              "      <td>1</td>\n",
              "    </tr>\n",
              "    <tr>\n",
              "      <th>1</th>\n",
              "      <td>2</td>\n",
              "      <td>608</td>\n",
              "      <td>SC</td>\n",
              "      <td>Feminino</td>\n",
              "      <td>41</td>\n",
              "      <td>1</td>\n",
              "      <td>8380786</td>\n",
              "      <td>1</td>\n",
              "      <td>0</td>\n",
              "      <td>1</td>\n",
              "      <td>11254258.0</td>\n",
              "      <td>0</td>\n",
              "    </tr>\n",
              "    <tr>\n",
              "      <th>2</th>\n",
              "      <td>3</td>\n",
              "      <td>502</td>\n",
              "      <td>RS</td>\n",
              "      <td>Feminino</td>\n",
              "      <td>42</td>\n",
              "      <td>8</td>\n",
              "      <td>1596608</td>\n",
              "      <td>3</td>\n",
              "      <td>1</td>\n",
              "      <td>0</td>\n",
              "      <td>11393157.0</td>\n",
              "      <td>1</td>\n",
              "    </tr>\n",
              "    <tr>\n",
              "      <th>3</th>\n",
              "      <td>4</td>\n",
              "      <td>699</td>\n",
              "      <td>RS</td>\n",
              "      <td>Feminino</td>\n",
              "      <td>39</td>\n",
              "      <td>1</td>\n",
              "      <td>0</td>\n",
              "      <td>2</td>\n",
              "      <td>0</td>\n",
              "      <td>0</td>\n",
              "      <td>9382663.0</td>\n",
              "      <td>0</td>\n",
              "    </tr>\n",
              "    <tr>\n",
              "      <th>4</th>\n",
              "      <td>5</td>\n",
              "      <td>850</td>\n",
              "      <td>SC</td>\n",
              "      <td>Feminino</td>\n",
              "      <td>43</td>\n",
              "      <td>2</td>\n",
              "      <td>12551082</td>\n",
              "      <td>1</td>\n",
              "      <td>1</td>\n",
              "      <td>1</td>\n",
              "      <td>790841.0</td>\n",
              "      <td>0</td>\n",
              "    </tr>\n",
              "  </tbody>\n",
              "</table>\n",
              "</div>\n",
              "      <button class=\"colab-df-convert\" onclick=\"convertToInteractive('df-1967eea2-120d-48dc-b842-a59e7dbb2a01')\"\n",
              "              title=\"Convert this dataframe to an interactive table.\"\n",
              "              style=\"display:none;\">\n",
              "        \n",
              "  <svg xmlns=\"http://www.w3.org/2000/svg\" height=\"24px\"viewBox=\"0 0 24 24\"\n",
              "       width=\"24px\">\n",
              "    <path d=\"M0 0h24v24H0V0z\" fill=\"none\"/>\n",
              "    <path d=\"M18.56 5.44l.94 2.06.94-2.06 2.06-.94-2.06-.94-.94-2.06-.94 2.06-2.06.94zm-11 1L8.5 8.5l.94-2.06 2.06-.94-2.06-.94L8.5 2.5l-.94 2.06-2.06.94zm10 10l.94 2.06.94-2.06 2.06-.94-2.06-.94-.94-2.06-.94 2.06-2.06.94z\"/><path d=\"M17.41 7.96l-1.37-1.37c-.4-.4-.92-.59-1.43-.59-.52 0-1.04.2-1.43.59L10.3 9.45l-7.72 7.72c-.78.78-.78 2.05 0 2.83L4 21.41c.39.39.9.59 1.41.59.51 0 1.02-.2 1.41-.59l7.78-7.78 2.81-2.81c.8-.78.8-2.07 0-2.86zM5.41 20L4 18.59l7.72-7.72 1.47 1.35L5.41 20z\"/>\n",
              "  </svg>\n",
              "      </button>\n",
              "      \n",
              "  <style>\n",
              "    .colab-df-container {\n",
              "      display:flex;\n",
              "      flex-wrap:wrap;\n",
              "      gap: 12px;\n",
              "    }\n",
              "\n",
              "    .colab-df-convert {\n",
              "      background-color: #E8F0FE;\n",
              "      border: none;\n",
              "      border-radius: 50%;\n",
              "      cursor: pointer;\n",
              "      display: none;\n",
              "      fill: #1967D2;\n",
              "      height: 32px;\n",
              "      padding: 0 0 0 0;\n",
              "      width: 32px;\n",
              "    }\n",
              "\n",
              "    .colab-df-convert:hover {\n",
              "      background-color: #E2EBFA;\n",
              "      box-shadow: 0px 1px 2px rgba(60, 64, 67, 0.3), 0px 1px 3px 1px rgba(60, 64, 67, 0.15);\n",
              "      fill: #174EA6;\n",
              "    }\n",
              "\n",
              "    [theme=dark] .colab-df-convert {\n",
              "      background-color: #3B4455;\n",
              "      fill: #D2E3FC;\n",
              "    }\n",
              "\n",
              "    [theme=dark] .colab-df-convert:hover {\n",
              "      background-color: #434B5C;\n",
              "      box-shadow: 0px 1px 3px 1px rgba(0, 0, 0, 0.15);\n",
              "      filter: drop-shadow(0px 1px 2px rgba(0, 0, 0, 0.3));\n",
              "      fill: #FFFFFF;\n",
              "    }\n",
              "  </style>\n",
              "\n",
              "      <script>\n",
              "        const buttonEl =\n",
              "          document.querySelector('#df-1967eea2-120d-48dc-b842-a59e7dbb2a01 button.colab-df-convert');\n",
              "        buttonEl.style.display =\n",
              "          google.colab.kernel.accessAllowed ? 'block' : 'none';\n",
              "\n",
              "        async function convertToInteractive(key) {\n",
              "          const element = document.querySelector('#df-1967eea2-120d-48dc-b842-a59e7dbb2a01');\n",
              "          const dataTable =\n",
              "            await google.colab.kernel.invokeFunction('convertToInteractive',\n",
              "                                                     [key], {});\n",
              "          if (!dataTable) return;\n",
              "\n",
              "          const docLinkHtml = 'Like what you see? Visit the ' +\n",
              "            '<a target=\"_blank\" href=https://colab.research.google.com/notebooks/data_table.ipynb>data table notebook</a>'\n",
              "            + ' to learn more about interactive tables.';\n",
              "          element.innerHTML = '';\n",
              "          dataTable['output_type'] = 'display_data';\n",
              "          await google.colab.output.renderOutput(dataTable, element);\n",
              "          const docLink = document.createElement('div');\n",
              "          docLink.innerHTML = docLinkHtml;\n",
              "          element.appendChild(docLink);\n",
              "        }\n",
              "      </script>\n",
              "    </div>\n",
              "  </div>\n",
              "  "
            ]
          },
          "metadata": {},
          "execution_count": 50
        }
      ],
      "source": [
        "df.head()"
      ]
    },
    {
      "cell_type": "markdown",
      "metadata": {
        "id": "ZeLX76mKob2l"
      },
      "source": [
        "8 - Agora que você conhece um pouco melhor os dados, veja o tamanho desse conjunto de dados."
      ]
    },
    {
      "cell_type": "code",
      "execution_count": 51,
      "metadata": {
        "id": "rizdnGR5ob2l",
        "colab": {
          "base_uri": "https://localhost:8080/"
        },
        "outputId": "784d42ec-0057-477b-82c2-0c9f0d275aaf"
      },
      "outputs": [
        {
          "output_type": "stream",
          "name": "stdout",
          "text": [
            "<class 'pandas.core.frame.DataFrame'>\n",
            "RangeIndex: 999 entries, 0 to 998\n",
            "Data columns (total 12 columns):\n",
            " #   Column  Non-Null Count  Dtype  \n",
            "---  ------  --------------  -----  \n",
            " 0   Index   999 non-null    int64  \n",
            " 1   Score   999 non-null    int64  \n",
            " 2   Estado  999 non-null    object \n",
            " 3   Genero  991 non-null    object \n",
            " 4   Idade   999 non-null    int64  \n",
            " 5   X5      999 non-null    int64  \n",
            " 6   X6      999 non-null    int64  \n",
            " 7   X7      999 non-null    int64  \n",
            " 8   X8      999 non-null    int64  \n",
            " 9   X9      999 non-null    int64  \n",
            " 10  X10     992 non-null    float64\n",
            " 11  X11     999 non-null    int64  \n",
            "dtypes: float64(1), int64(9), object(2)\n",
            "memory usage: 93.8+ KB\n"
          ]
        }
      ],
      "source": [
        "df.info()"
      ]
    },
    {
      "cell_type": "code",
      "execution_count": null,
      "metadata": {
        "id": "gxFY2t6-ob2l"
      },
      "outputs": [],
      "source": []
    },
    {
      "cell_type": "markdown",
      "metadata": {
        "id": "gKmxDquHob2l"
      },
      "source": [
        "9 - Antes de continuar sua análise, salve  esse dataset com as colunas renomeadas em um arquivo csv:"
      ]
    },
    {
      "cell_type": "code",
      "execution_count": 52,
      "metadata": {
        "id": "H8y40DxLob2m",
        "colab": {
          "base_uri": "https://localhost:8080/",
          "height": 206
        },
        "outputId": "785efd6a-0847-4525-a99e-444514da0a10"
      },
      "outputs": [
        {
          "output_type": "execute_result",
          "data": {
            "text/plain": [
              "   Index  Score Estado    Genero  Idade  X5        X6  X7  X8  X9         X10  \\\n",
              "0      1    619     RS  Feminino     42   2         0   1   1   1  10134888.0   \n",
              "1      2    608     SC  Feminino     41   1   8380786   1   0   1  11254258.0   \n",
              "2      3    502     RS  Feminino     42   8   1596608   3   1   0  11393157.0   \n",
              "3      4    699     RS  Feminino     39   1         0   2   0   0   9382663.0   \n",
              "4      5    850     SC  Feminino     43   2  12551082   1   1   1    790841.0   \n",
              "\n",
              "   X11  \n",
              "0    1  \n",
              "1    0  \n",
              "2    1  \n",
              "3    0  \n",
              "4    0  "
            ],
            "text/html": [
              "\n",
              "  <div id=\"df-174f73ff-542f-4619-80e2-371dfff0f191\">\n",
              "    <div class=\"colab-df-container\">\n",
              "      <div>\n",
              "<style scoped>\n",
              "    .dataframe tbody tr th:only-of-type {\n",
              "        vertical-align: middle;\n",
              "    }\n",
              "\n",
              "    .dataframe tbody tr th {\n",
              "        vertical-align: top;\n",
              "    }\n",
              "\n",
              "    .dataframe thead th {\n",
              "        text-align: right;\n",
              "    }\n",
              "</style>\n",
              "<table border=\"1\" class=\"dataframe\">\n",
              "  <thead>\n",
              "    <tr style=\"text-align: right;\">\n",
              "      <th></th>\n",
              "      <th>Index</th>\n",
              "      <th>Score</th>\n",
              "      <th>Estado</th>\n",
              "      <th>Genero</th>\n",
              "      <th>Idade</th>\n",
              "      <th>X5</th>\n",
              "      <th>X6</th>\n",
              "      <th>X7</th>\n",
              "      <th>X8</th>\n",
              "      <th>X9</th>\n",
              "      <th>X10</th>\n",
              "      <th>X11</th>\n",
              "    </tr>\n",
              "  </thead>\n",
              "  <tbody>\n",
              "    <tr>\n",
              "      <th>0</th>\n",
              "      <td>1</td>\n",
              "      <td>619</td>\n",
              "      <td>RS</td>\n",
              "      <td>Feminino</td>\n",
              "      <td>42</td>\n",
              "      <td>2</td>\n",
              "      <td>0</td>\n",
              "      <td>1</td>\n",
              "      <td>1</td>\n",
              "      <td>1</td>\n",
              "      <td>10134888.0</td>\n",
              "      <td>1</td>\n",
              "    </tr>\n",
              "    <tr>\n",
              "      <th>1</th>\n",
              "      <td>2</td>\n",
              "      <td>608</td>\n",
              "      <td>SC</td>\n",
              "      <td>Feminino</td>\n",
              "      <td>41</td>\n",
              "      <td>1</td>\n",
              "      <td>8380786</td>\n",
              "      <td>1</td>\n",
              "      <td>0</td>\n",
              "      <td>1</td>\n",
              "      <td>11254258.0</td>\n",
              "      <td>0</td>\n",
              "    </tr>\n",
              "    <tr>\n",
              "      <th>2</th>\n",
              "      <td>3</td>\n",
              "      <td>502</td>\n",
              "      <td>RS</td>\n",
              "      <td>Feminino</td>\n",
              "      <td>42</td>\n",
              "      <td>8</td>\n",
              "      <td>1596608</td>\n",
              "      <td>3</td>\n",
              "      <td>1</td>\n",
              "      <td>0</td>\n",
              "      <td>11393157.0</td>\n",
              "      <td>1</td>\n",
              "    </tr>\n",
              "    <tr>\n",
              "      <th>3</th>\n",
              "      <td>4</td>\n",
              "      <td>699</td>\n",
              "      <td>RS</td>\n",
              "      <td>Feminino</td>\n",
              "      <td>39</td>\n",
              "      <td>1</td>\n",
              "      <td>0</td>\n",
              "      <td>2</td>\n",
              "      <td>0</td>\n",
              "      <td>0</td>\n",
              "      <td>9382663.0</td>\n",
              "      <td>0</td>\n",
              "    </tr>\n",
              "    <tr>\n",
              "      <th>4</th>\n",
              "      <td>5</td>\n",
              "      <td>850</td>\n",
              "      <td>SC</td>\n",
              "      <td>Feminino</td>\n",
              "      <td>43</td>\n",
              "      <td>2</td>\n",
              "      <td>12551082</td>\n",
              "      <td>1</td>\n",
              "      <td>1</td>\n",
              "      <td>1</td>\n",
              "      <td>790841.0</td>\n",
              "      <td>0</td>\n",
              "    </tr>\n",
              "  </tbody>\n",
              "</table>\n",
              "</div>\n",
              "      <button class=\"colab-df-convert\" onclick=\"convertToInteractive('df-174f73ff-542f-4619-80e2-371dfff0f191')\"\n",
              "              title=\"Convert this dataframe to an interactive table.\"\n",
              "              style=\"display:none;\">\n",
              "        \n",
              "  <svg xmlns=\"http://www.w3.org/2000/svg\" height=\"24px\"viewBox=\"0 0 24 24\"\n",
              "       width=\"24px\">\n",
              "    <path d=\"M0 0h24v24H0V0z\" fill=\"none\"/>\n",
              "    <path d=\"M18.56 5.44l.94 2.06.94-2.06 2.06-.94-2.06-.94-.94-2.06-.94 2.06-2.06.94zm-11 1L8.5 8.5l.94-2.06 2.06-.94-2.06-.94L8.5 2.5l-.94 2.06-2.06.94zm10 10l.94 2.06.94-2.06 2.06-.94-2.06-.94-.94-2.06-.94 2.06-2.06.94z\"/><path d=\"M17.41 7.96l-1.37-1.37c-.4-.4-.92-.59-1.43-.59-.52 0-1.04.2-1.43.59L10.3 9.45l-7.72 7.72c-.78.78-.78 2.05 0 2.83L4 21.41c.39.39.9.59 1.41.59.51 0 1.02-.2 1.41-.59l7.78-7.78 2.81-2.81c.8-.78.8-2.07 0-2.86zM5.41 20L4 18.59l7.72-7.72 1.47 1.35L5.41 20z\"/>\n",
              "  </svg>\n",
              "      </button>\n",
              "      \n",
              "  <style>\n",
              "    .colab-df-container {\n",
              "      display:flex;\n",
              "      flex-wrap:wrap;\n",
              "      gap: 12px;\n",
              "    }\n",
              "\n",
              "    .colab-df-convert {\n",
              "      background-color: #E8F0FE;\n",
              "      border: none;\n",
              "      border-radius: 50%;\n",
              "      cursor: pointer;\n",
              "      display: none;\n",
              "      fill: #1967D2;\n",
              "      height: 32px;\n",
              "      padding: 0 0 0 0;\n",
              "      width: 32px;\n",
              "    }\n",
              "\n",
              "    .colab-df-convert:hover {\n",
              "      background-color: #E2EBFA;\n",
              "      box-shadow: 0px 1px 2px rgba(60, 64, 67, 0.3), 0px 1px 3px 1px rgba(60, 64, 67, 0.15);\n",
              "      fill: #174EA6;\n",
              "    }\n",
              "\n",
              "    [theme=dark] .colab-df-convert {\n",
              "      background-color: #3B4455;\n",
              "      fill: #D2E3FC;\n",
              "    }\n",
              "\n",
              "    [theme=dark] .colab-df-convert:hover {\n",
              "      background-color: #434B5C;\n",
              "      box-shadow: 0px 1px 3px 1px rgba(0, 0, 0, 0.15);\n",
              "      filter: drop-shadow(0px 1px 2px rgba(0, 0, 0, 0.3));\n",
              "      fill: #FFFFFF;\n",
              "    }\n",
              "  </style>\n",
              "\n",
              "      <script>\n",
              "        const buttonEl =\n",
              "          document.querySelector('#df-174f73ff-542f-4619-80e2-371dfff0f191 button.colab-df-convert');\n",
              "        buttonEl.style.display =\n",
              "          google.colab.kernel.accessAllowed ? 'block' : 'none';\n",
              "\n",
              "        async function convertToInteractive(key) {\n",
              "          const element = document.querySelector('#df-174f73ff-542f-4619-80e2-371dfff0f191');\n",
              "          const dataTable =\n",
              "            await google.colab.kernel.invokeFunction('convertToInteractive',\n",
              "                                                     [key], {});\n",
              "          if (!dataTable) return;\n",
              "\n",
              "          const docLinkHtml = 'Like what you see? Visit the ' +\n",
              "            '<a target=\"_blank\" href=https://colab.research.google.com/notebooks/data_table.ipynb>data table notebook</a>'\n",
              "            + ' to learn more about interactive tables.';\n",
              "          element.innerHTML = '';\n",
              "          dataTable['output_type'] = 'display_data';\n",
              "          await google.colab.output.renderOutput(dataTable, element);\n",
              "          const docLink = document.createElement('div');\n",
              "          docLink.innerHTML = docLinkHtml;\n",
              "          element.appendChild(docLink);\n",
              "        }\n",
              "      </script>\n",
              "    </div>\n",
              "  </div>\n",
              "  "
            ]
          },
          "metadata": {},
          "execution_count": 52
        }
      ],
      "source": [
        "df.to_csv('/content/drive/MyDrive/Churn.csv', index=False)\n",
        "\n",
        "df_salvo = pd.read_csv('/content/drive/MyDrive/Churn.csv')\n",
        "\n",
        "df_salvo.head()"
      ]
    },
    {
      "cell_type": "markdown",
      "metadata": {
        "id": "VM9H0XmAob2m"
      },
      "source": [
        "10 - No mundo da análise de dados as colunas(que são as variáveis) podem ser numéricas ou categóricas. Você verá isso com mais precisão no curso de estatística, porém aqui variaveis categóricas serão representadas por letras, por exemplo cor dos olhos(preto, azul, verde, castanho) e variáveis numéricas serão representadas por números, por exemplo quantidade de filhos(1,2,3,4,etc).\n",
        "\n",
        "Disto isso vamos explorar as variáveis categóricas:"
      ]
    },
    {
      "cell_type": "markdown",
      "metadata": {
        "id": "Fka7sk-iob2m"
      },
      "source": [
        "11 - Explore a variável *Estado* vendo como as pessoas estão distribuídas nos estados!"
      ]
    },
    {
      "cell_type": "code",
      "execution_count": 33,
      "metadata": {
        "id": "0_YxIFnuob2m",
        "colab": {
          "base_uri": "https://localhost:8080/",
          "height": 269
        },
        "outputId": "63b5d1c7-305d-4422-9776-b5d91ec06cf0"
      },
      "outputs": [
        {
          "output_type": "execute_result",
          "data": {
            "text/plain": [
              "        Index\n",
              "Estado       \n",
              "PR        257\n",
              "RP          1\n",
              "RS        478\n",
              "SC        258\n",
              "SP          4\n",
              "TD          1"
            ],
            "text/html": [
              "\n",
              "  <div id=\"df-0fd6de86-2ea6-4d53-bbf2-01580a28b5cf\">\n",
              "    <div class=\"colab-df-container\">\n",
              "      <div>\n",
              "<style scoped>\n",
              "    .dataframe tbody tr th:only-of-type {\n",
              "        vertical-align: middle;\n",
              "    }\n",
              "\n",
              "    .dataframe tbody tr th {\n",
              "        vertical-align: top;\n",
              "    }\n",
              "\n",
              "    .dataframe thead th {\n",
              "        text-align: right;\n",
              "    }\n",
              "</style>\n",
              "<table border=\"1\" class=\"dataframe\">\n",
              "  <thead>\n",
              "    <tr style=\"text-align: right;\">\n",
              "      <th></th>\n",
              "      <th>Index</th>\n",
              "    </tr>\n",
              "    <tr>\n",
              "      <th>Estado</th>\n",
              "      <th></th>\n",
              "    </tr>\n",
              "  </thead>\n",
              "  <tbody>\n",
              "    <tr>\n",
              "      <th>PR</th>\n",
              "      <td>257</td>\n",
              "    </tr>\n",
              "    <tr>\n",
              "      <th>RP</th>\n",
              "      <td>1</td>\n",
              "    </tr>\n",
              "    <tr>\n",
              "      <th>RS</th>\n",
              "      <td>478</td>\n",
              "    </tr>\n",
              "    <tr>\n",
              "      <th>SC</th>\n",
              "      <td>258</td>\n",
              "    </tr>\n",
              "    <tr>\n",
              "      <th>SP</th>\n",
              "      <td>4</td>\n",
              "    </tr>\n",
              "    <tr>\n",
              "      <th>TD</th>\n",
              "      <td>1</td>\n",
              "    </tr>\n",
              "  </tbody>\n",
              "</table>\n",
              "</div>\n",
              "      <button class=\"colab-df-convert\" onclick=\"convertToInteractive('df-0fd6de86-2ea6-4d53-bbf2-01580a28b5cf')\"\n",
              "              title=\"Convert this dataframe to an interactive table.\"\n",
              "              style=\"display:none;\">\n",
              "        \n",
              "  <svg xmlns=\"http://www.w3.org/2000/svg\" height=\"24px\"viewBox=\"0 0 24 24\"\n",
              "       width=\"24px\">\n",
              "    <path d=\"M0 0h24v24H0V0z\" fill=\"none\"/>\n",
              "    <path d=\"M18.56 5.44l.94 2.06.94-2.06 2.06-.94-2.06-.94-.94-2.06-.94 2.06-2.06.94zm-11 1L8.5 8.5l.94-2.06 2.06-.94-2.06-.94L8.5 2.5l-.94 2.06-2.06.94zm10 10l.94 2.06.94-2.06 2.06-.94-2.06-.94-.94-2.06-.94 2.06-2.06.94z\"/><path d=\"M17.41 7.96l-1.37-1.37c-.4-.4-.92-.59-1.43-.59-.52 0-1.04.2-1.43.59L10.3 9.45l-7.72 7.72c-.78.78-.78 2.05 0 2.83L4 21.41c.39.39.9.59 1.41.59.51 0 1.02-.2 1.41-.59l7.78-7.78 2.81-2.81c.8-.78.8-2.07 0-2.86zM5.41 20L4 18.59l7.72-7.72 1.47 1.35L5.41 20z\"/>\n",
              "  </svg>\n",
              "      </button>\n",
              "      \n",
              "  <style>\n",
              "    .colab-df-container {\n",
              "      display:flex;\n",
              "      flex-wrap:wrap;\n",
              "      gap: 12px;\n",
              "    }\n",
              "\n",
              "    .colab-df-convert {\n",
              "      background-color: #E8F0FE;\n",
              "      border: none;\n",
              "      border-radius: 50%;\n",
              "      cursor: pointer;\n",
              "      display: none;\n",
              "      fill: #1967D2;\n",
              "      height: 32px;\n",
              "      padding: 0 0 0 0;\n",
              "      width: 32px;\n",
              "    }\n",
              "\n",
              "    .colab-df-convert:hover {\n",
              "      background-color: #E2EBFA;\n",
              "      box-shadow: 0px 1px 2px rgba(60, 64, 67, 0.3), 0px 1px 3px 1px rgba(60, 64, 67, 0.15);\n",
              "      fill: #174EA6;\n",
              "    }\n",
              "\n",
              "    [theme=dark] .colab-df-convert {\n",
              "      background-color: #3B4455;\n",
              "      fill: #D2E3FC;\n",
              "    }\n",
              "\n",
              "    [theme=dark] .colab-df-convert:hover {\n",
              "      background-color: #434B5C;\n",
              "      box-shadow: 0px 1px 3px 1px rgba(0, 0, 0, 0.15);\n",
              "      filter: drop-shadow(0px 1px 2px rgba(0, 0, 0, 0.3));\n",
              "      fill: #FFFFFF;\n",
              "    }\n",
              "  </style>\n",
              "\n",
              "      <script>\n",
              "        const buttonEl =\n",
              "          document.querySelector('#df-0fd6de86-2ea6-4d53-bbf2-01580a28b5cf button.colab-df-convert');\n",
              "        buttonEl.style.display =\n",
              "          google.colab.kernel.accessAllowed ? 'block' : 'none';\n",
              "\n",
              "        async function convertToInteractive(key) {\n",
              "          const element = document.querySelector('#df-0fd6de86-2ea6-4d53-bbf2-01580a28b5cf');\n",
              "          const dataTable =\n",
              "            await google.colab.kernel.invokeFunction('convertToInteractive',\n",
              "                                                     [key], {});\n",
              "          if (!dataTable) return;\n",
              "\n",
              "          const docLinkHtml = 'Like what you see? Visit the ' +\n",
              "            '<a target=\"_blank\" href=https://colab.research.google.com/notebooks/data_table.ipynb>data table notebook</a>'\n",
              "            + ' to learn more about interactive tables.';\n",
              "          element.innerHTML = '';\n",
              "          dataTable['output_type'] = 'display_data';\n",
              "          await google.colab.output.renderOutput(dataTable, element);\n",
              "          const docLink = document.createElement('div');\n",
              "          docLink.innerHTML = docLinkHtml;\n",
              "          element.appendChild(docLink);\n",
              "        }\n",
              "      </script>\n",
              "    </div>\n",
              "  </div>\n",
              "  "
            ]
          },
          "metadata": {},
          "execution_count": 33
        }
      ],
      "source": [
        "df.groupby(['Estado'])[['Index']].count()"
      ]
    },
    {
      "cell_type": "markdown",
      "metadata": {
        "id": "QvsuVoglob2m"
      },
      "source": [
        "12 - Não é obrigatório, mas não menos importante, você conseguiria fazer um gráfico de barras com a contagem que fez acima?\n",
        "\n",
        "Você pode consultar aqui a documentação do pandas e gráficos de barras:\n",
        "    \n",
        "https://pandas.pydata.org/docs/reference/api/pandas.DataFrame.plot.bar.html"
      ]
    },
    {
      "cell_type": "code",
      "execution_count": 40,
      "metadata": {
        "id": "wGQcfHk1ob2n",
        "colab": {
          "base_uri": "https://localhost:8080/",
          "height": 476
        },
        "outputId": "fe16bc2c-af94-4aa9-8323-579c61054911"
      },
      "outputs": [
        {
          "output_type": "execute_result",
          "data": {
            "text/plain": [
              "<Axes: xlabel='Estado'>"
            ]
          },
          "metadata": {},
          "execution_count": 40
        },
        {
          "output_type": "display_data",
          "data": {
            "text/plain": [
              "<Figure size 640x480 with 1 Axes>"
            ],
            "image/png": "[encoded data removed]"
          },
          "metadata": {}
        }
      ],
      "source": [
        "df.groupby(['Estado'])[['Index']].count().plot(kind='bar')"
      ]
    },
    {
      "cell_type": "markdown",
      "metadata": {
        "id": "c7pOqzXvob2n"
      },
      "source": [
        "13 - Você chegou até aqui? Consulte novamente a área de negócios pois eles tem uma informação importante para te passar.\n",
        "\n"
      ]
    },
    {
      "cell_type": "code",
      "execution_count": null,
      "metadata": {
        "id": "ACYhPfVcob2n"
      },
      "outputs": [],
      "source": []
    },
    {
      "cell_type": "code",
      "execution_count": null,
      "metadata": {
        "id": "mXxNNadZob2n"
      },
      "outputs": [],
      "source": []
    },
    {
      "cell_type": "code",
      "execution_count": null,
      "metadata": {
        "id": "T9bBKcrwob2n"
      },
      "outputs": [],
      "source": []
    },
    {
      "cell_type": "markdown",
      "metadata": {
        "id": "bZuPb1oaob2n"
      },
      "source": [
        "14 - Explore a variável *genero* vendo como essa variável está distribuida!"
      ]
    },
    {
      "cell_type": "code",
      "execution_count": 39,
      "metadata": {
        "id": "dJLBhffeob2o",
        "colab": {
          "base_uri": "https://localhost:8080/",
          "height": 238
        },
        "outputId": "0fe5b2b2-dcd0-40d1-935b-d3a84ade37dd"
      },
      "outputs": [
        {
          "output_type": "execute_result",
          "data": {
            "text/plain": [
              "           Index\n",
              "Genero          \n",
              "F              2\n",
              "Fem            1\n",
              "Feminino     461\n",
              "M              6\n",
              "Masculino    521"
            ],
            "text/html": [
              "\n",
              "  <div id=\"df-402c8b03-2bf9-40a3-9429-29c295fa7421\">\n",
              "    <div class=\"colab-df-container\">\n",
              "      <div>\n",
              "<style scoped>\n",
              "    .dataframe tbody tr th:only-of-type {\n",
              "        vertical-align: middle;\n",
              "    }\n",
              "\n",
              "    .dataframe tbody tr th {\n",
              "        vertical-align: top;\n",
              "    }\n",
              "\n",
              "    .dataframe thead th {\n",
              "        text-align: right;\n",
              "    }\n",
              "</style>\n",
              "<table border=\"1\" class=\"dataframe\">\n",
              "  <thead>\n",
              "    <tr style=\"text-align: right;\">\n",
              "      <th></th>\n",
              "      <th>Index</th>\n",
              "    </tr>\n",
              "    <tr>\n",
              "      <th>Genero</th>\n",
              "      <th></th>\n",
              "    </tr>\n",
              "  </thead>\n",
              "  <tbody>\n",
              "    <tr>\n",
              "      <th>F</th>\n",
              "      <td>2</td>\n",
              "    </tr>\n",
              "    <tr>\n",
              "      <th>Fem</th>\n",
              "      <td>1</td>\n",
              "    </tr>\n",
              "    <tr>\n",
              "      <th>Feminino</th>\n",
              "      <td>461</td>\n",
              "    </tr>\n",
              "    <tr>\n",
              "      <th>M</th>\n",
              "      <td>6</td>\n",
              "    </tr>\n",
              "    <tr>\n",
              "      <th>Masculino</th>\n",
              "      <td>521</td>\n",
              "    </tr>\n",
              "  </tbody>\n",
              "</table>\n",
              "</div>\n",
              "      <button class=\"colab-df-convert\" onclick=\"convertToInteractive('df-402c8b03-2bf9-40a3-9429-29c295fa7421')\"\n",
              "              title=\"Convert this dataframe to an interactive table.\"\n",
              "              style=\"display:none;\">\n",
              "        \n",
              "  <svg xmlns=\"http://www.w3.org/2000/svg\" height=\"24px\"viewBox=\"0 0 24 24\"\n",
              "       width=\"24px\">\n",
              "    <path d=\"M0 0h24v24H0V0z\" fill=\"none\"/>\n",
              "    <path d=\"M18.56 5.44l.94 2.06.94-2.06 2.06-.94-2.06-.94-.94-2.06-.94 2.06-2.06.94zm-11 1L8.5 8.5l.94-2.06 2.06-.94-2.06-.94L8.5 2.5l-.94 2.06-2.06.94zm10 10l.94 2.06.94-2.06 2.06-.94-2.06-.94-.94-2.06-.94 2.06-2.06.94z\"/><path d=\"M17.41 7.96l-1.37-1.37c-.4-.4-.92-.59-1.43-.59-.52 0-1.04.2-1.43.59L10.3 9.45l-7.72 7.72c-.78.78-.78 2.05 0 2.83L4 21.41c.39.39.9.59 1.41.59.51 0 1.02-.2 1.41-.59l7.78-7.78 2.81-2.81c.8-.78.8-2.07 0-2.86zM5.41 20L4 18.59l7.72-7.72 1.47 1.35L5.41 20z\"/>\n",
              "  </svg>\n",
              "      </button>\n",
              "      \n",
              "  <style>\n",
              "    .colab-df-container {\n",
              "      display:flex;\n",
              "      flex-wrap:wrap;\n",
              "      gap: 12px;\n",
              "    }\n",
              "\n",
              "    .colab-df-convert {\n",
              "      background-color: #E8F0FE;\n",
              "      border: none;\n",
              "      border-radius: 50%;\n",
              "      cursor: pointer;\n",
              "      display: none;\n",
              "      fill: #1967D2;\n",
              "      height: 32px;\n",
              "      padding: 0 0 0 0;\n",
              "      width: 32px;\n",
              "    }\n",
              "\n",
              "    .colab-df-convert:hover {\n",
              "      background-color: #E2EBFA;\n",
              "      box-shadow: 0px 1px 2px rgba(60, 64, 67, 0.3), 0px 1px 3px 1px rgba(60, 64, 67, 0.15);\n",
              "      fill: #174EA6;\n",
              "    }\n",
              "\n",
              "    [theme=dark] .colab-df-convert {\n",
              "      background-color: #3B4455;\n",
              "      fill: #D2E3FC;\n",
              "    }\n",
              "\n",
              "    [theme=dark] .colab-df-convert:hover {\n",
              "      background-color: #434B5C;\n",
              "      box-shadow: 0px 1px 3px 1px rgba(0, 0, 0, 0.15);\n",
              "      filter: drop-shadow(0px 1px 2px rgba(0, 0, 0, 0.3));\n",
              "      fill: #FFFFFF;\n",
              "    }\n",
              "  </style>\n",
              "\n",
              "      <script>\n",
              "        const buttonEl =\n",
              "          document.querySelector('#df-402c8b03-2bf9-40a3-9429-29c295fa7421 button.colab-df-convert');\n",
              "        buttonEl.style.display =\n",
              "          google.colab.kernel.accessAllowed ? 'block' : 'none';\n",
              "\n",
              "        async function convertToInteractive(key) {\n",
              "          const element = document.querySelector('#df-402c8b03-2bf9-40a3-9429-29c295fa7421');\n",
              "          const dataTable =\n",
              "            await google.colab.kernel.invokeFunction('convertToInteractive',\n",
              "                                                     [key], {});\n",
              "          if (!dataTable) return;\n",
              "\n",
              "          const docLinkHtml = 'Like what you see? Visit the ' +\n",
              "            '<a target=\"_blank\" href=https://colab.research.google.com/notebooks/data_table.ipynb>data table notebook</a>'\n",
              "            + ' to learn more about interactive tables.';\n",
              "          element.innerHTML = '';\n",
              "          dataTable['output_type'] = 'display_data';\n",
              "          await google.colab.output.renderOutput(dataTable, element);\n",
              "          const docLink = document.createElement('div');\n",
              "          docLink.innerHTML = docLinkHtml;\n",
              "          element.appendChild(docLink);\n",
              "        }\n",
              "      </script>\n",
              "    </div>\n",
              "  </div>\n",
              "  "
            ]
          },
          "metadata": {},
          "execution_count": 39
        }
      ],
      "source": [
        "df.groupby(['Genero'])[['Index']].count()"
      ]
    },
    {
      "cell_type": "markdown",
      "metadata": {
        "id": "zK2WB70lob2o"
      },
      "source": [
        "15 - Consegue ver a mesma informação graficamente?"
      ]
    },
    {
      "cell_type": "code",
      "execution_count": 41,
      "metadata": {
        "id": "z4tj2nuRob2o",
        "colab": {
          "base_uri": "https://localhost:8080/",
          "height": 522
        },
        "outputId": "e3efc8c9-7d5f-4815-b8aa-b7aee8afdd30"
      },
      "outputs": [
        {
          "output_type": "execute_result",
          "data": {
            "text/plain": [
              "<Axes: xlabel='Genero'>"
            ]
          },
          "metadata": {},
          "execution_count": 41
        },
        {
          "output_type": "display_data",
          "data": {
            "text/plain": [
              "<Figure size 640x480 with 1 Axes>"
            ],
            "image/png": "[encoded data removed]"
          },
          "metadata": {}
        }
      ],
      "source": [
        "df.groupby(['Genero'])[['Index']].count().plot(kind='bar')"
      ]
    },
    {
      "cell_type": "markdown",
      "metadata": {
        "id": "uDuUSCn_ob2o"
      },
      "source": [
        "16 - Notou algo estranho? Acho que seu grupo precisa tomar uma decisão em relação a essa variável, o que farão?\n",
        "Pode consultar a área de negócios se quiser ampliar a discussão!!"
      ]
    },
    {
      "cell_type": "code",
      "execution_count": 42,
      "metadata": {
        "id": "cIDOi8KUob2o"
      },
      "outputs": [],
      "source": [
        "df['Genero'] = df['Genero'].replace(['F','Fem'], 'Feminino')\n",
        "df['Genero'] = df['Genero'].replace('M', 'Masculino')"
      ]
    },
    {
      "cell_type": "code",
      "execution_count": 44,
      "metadata": {
        "id": "kD0sF9pRob2o",
        "colab": {
          "base_uri": "https://localhost:8080/",
          "height": 522
        },
        "outputId": "0b1d6cac-b8fa-43ec-fd7a-3524d76e0a53"
      },
      "outputs": [
        {
          "output_type": "execute_result",
          "data": {
            "text/plain": [
              "<Axes: xlabel='Genero'>"
            ]
          },
          "metadata": {},
          "execution_count": 44
        },
        {
          "output_type": "display_data",
          "data": {
            "text/plain": [
              "<Figure size 640x480 with 1 Axes>"
            ],
            "image/png": "[encoded data removed]"
          },
          "metadata": {}
        }
      ],
      "source": [
        "df.groupby(['Genero'])[['Index']].count().plot(kind='bar')"
      ]
    },
    {
      "cell_type": "markdown",
      "metadata": {
        "id": "de9OhdEUob2o"
      },
      "source": [
        "17 - Ainda na variável genero, veja se há dados faltantes:"
      ]
    },
    {
      "cell_type": "code",
      "execution_count": 48,
      "metadata": {
        "id": "5RysA70rob2p",
        "colab": {
          "base_uri": "https://localhost:8080/"
        },
        "outputId": "edf857cc-1c64-4e12-87da-15cdfdaf2222"
      },
      "outputs": [
        {
          "output_type": "execute_result",
          "data": {
            "text/plain": [
              "array(['Feminino', 'Feminino', 'Feminino', 'Feminino', 'Feminino',\n",
              "       'Masculino', 'Masculino', 'Feminino', 'Masculino', 'Masculino',\n",
              "       'Masculino', 'Masculino', 'Feminino', 'Feminino', 'Feminino',\n",
              "       'Masculino', 'Masculino', 'Feminino', 'Masculino', 'Feminino',\n",
              "       'Masculino', 'Feminino', 'Feminino', 'Masculino', 'Feminino',\n",
              "       'Masculino', 'Masculino', 'Masculino', 'Feminino', 'Masculino',\n",
              "       'Feminino', 'Masculino', 'Masculino', 'Feminino', 'Feminino',\n",
              "       'Feminino', 'Masculino', 'Masculino', 'Masculino', 'Masculino',\n",
              "       'Masculino', 'Feminino', 'Feminino', 'Feminino', 'Feminino',\n",
              "       'Feminino', 'Feminino', 'Feminino', 'Masculino', 'Feminino',\n",
              "       'Masculino', 'Masculino', 'Feminino', 'Masculino', 'Masculino',\n",
              "       'Masculino', 'Masculino', 'Masculino', 'Feminino', 'Masculino',\n",
              "       'Masculino', 'Feminino', 'Masculino', 'Masculino', nan, 'Feminino',\n",
              "       'Feminino', 'Masculino', 'Feminino', 'Feminino', 'Masculino',\n",
              "       'Masculino', 'Feminino', 'Feminino', 'Masculino', 'Feminino',\n",
              "       'Masculino', 'Feminino', 'Masculino', 'Feminino', 'Feminino',\n",
              "       'Feminino', 'Feminino', 'Feminino', nan, 'Feminino', 'Masculino',\n",
              "       'Masculino', 'Feminino', 'Feminino', 'Feminino', 'Masculino',\n",
              "       'Feminino', 'Masculino', 'Masculino', 'Masculino', 'Masculino',\n",
              "       'Masculino', 'Masculino', 'Masculino', 'Feminino', 'Feminino',\n",
              "       'Masculino', 'Masculino', 'Feminino', 'Feminino', 'Masculino',\n",
              "       'Feminino', 'Masculino', 'Masculino', 'Masculino', 'Masculino',\n",
              "       'Masculino', 'Masculino', 'Masculino', 'Feminino', 'Feminino',\n",
              "       'Feminino', 'Feminino', 'Masculino', 'Masculino', 'Masculino',\n",
              "       'Feminino', 'Feminino', 'Feminino', 'Masculino', 'Feminino',\n",
              "       'Masculino', 'Feminino', 'Masculino', 'Feminino', 'Feminino',\n",
              "       'Masculino', 'Masculino', 'Masculino', 'Feminino', 'Feminino',\n",
              "       'Masculino', 'Feminino', 'Feminino', 'Masculino', 'Feminino',\n",
              "       'Feminino', 'Masculino', 'Feminino', 'Feminino', 'Feminino',\n",
              "       'Masculino', 'Masculino', 'Masculino', 'Feminino', 'Feminino',\n",
              "       'Masculino', 'Masculino', 'Feminino', 'Masculino', 'Feminino',\n",
              "       'Feminino', 'Feminino', 'Feminino', 'Feminino', 'Masculino',\n",
              "       'Feminino', 'Feminino', 'Masculino', 'Masculino', 'Feminino',\n",
              "       'Feminino', 'Feminino', 'Masculino', 'Feminino', 'Masculino',\n",
              "       'Masculino', 'Masculino', 'Masculino', 'Feminino', 'Feminino',\n",
              "       'Masculino', 'Feminino', 'Feminino', 'Feminino', 'Masculino',\n",
              "       'Feminino', 'Masculino', 'Feminino', 'Masculino', 'Feminino',\n",
              "       'Feminino', 'Masculino', 'Feminino', 'Feminino', 'Feminino',\n",
              "       'Masculino', 'Masculino', 'Masculino', 'Masculino', 'Feminino',\n",
              "       'Masculino', 'Masculino', 'Masculino', 'Masculino', 'Masculino',\n",
              "       'Masculino', 'Feminino', 'Masculino', 'Masculino', 'Feminino',\n",
              "       'Masculino', 'Masculino', 'Masculino', 'Masculino', 'Masculino',\n",
              "       'Feminino', nan, 'Masculino', 'Masculino', 'Masculino', 'Feminino',\n",
              "       'Masculino', 'Masculino', 'Feminino', 'Masculino', 'Masculino',\n",
              "       'Masculino', 'Masculino', 'Masculino', 'Feminino', 'Feminino',\n",
              "       'Masculino', 'Feminino', 'Masculino', 'Masculino', 'Feminino',\n",
              "       'Masculino', 'Feminino', 'Masculino', 'Feminino', 'Feminino',\n",
              "       'Feminino', 'Masculino', 'Masculino', 'Feminino', 'Masculino',\n",
              "       'Masculino', 'Masculino', 'Feminino', 'Masculino', 'Feminino',\n",
              "       'Masculino', 'Masculino', 'Feminino', 'Feminino', 'Feminino',\n",
              "       'Masculino', 'Masculino', 'Masculino', 'Masculino', 'Feminino',\n",
              "       'Feminino', 'Masculino', 'Masculino', 'Feminino', 'Feminino',\n",
              "       'Feminino', 'Masculino', 'Feminino', 'Masculino', 'Masculino',\n",
              "       'Feminino', 'Feminino', 'Masculino', 'Masculino', 'Feminino',\n",
              "       'Masculino', 'Masculino', 'Feminino', 'Masculino', 'Feminino',\n",
              "       'Masculino', 'Masculino', 'Masculino', 'Masculino', 'Masculino',\n",
              "       'Masculino', 'Feminino', 'Masculino', 'Masculino', 'Feminino',\n",
              "       'Feminino', 'Masculino', 'Masculino', 'Feminino', 'Masculino',\n",
              "       'Feminino', 'Masculino', 'Masculino', nan, 'Feminino', 'Masculino',\n",
              "       'Masculino', 'Feminino', 'Feminino', 'Masculino', 'Feminino',\n",
              "       'Masculino', 'Masculino', 'Masculino', 'Masculino', 'Masculino',\n",
              "       'Masculino', 'Feminino', 'Masculino', 'Masculino', 'Feminino',\n",
              "       'Masculino', 'Masculino', 'Masculino', 'Masculino', 'Feminino',\n",
              "       'Masculino', 'Feminino', 'Feminino', 'Masculino', 'Feminino',\n",
              "       'Masculino', 'Masculino', 'Masculino', 'Feminino', 'Masculino',\n",
              "       'Masculino', 'Masculino', 'Feminino', 'Masculino', 'Feminino',\n",
              "       'Feminino', 'Masculino', 'Feminino', 'Masculino', 'Feminino',\n",
              "       'Feminino', 'Feminino', 'Masculino', 'Feminino', 'Masculino',\n",
              "       'Feminino', 'Feminino', 'Feminino', 'Masculino', 'Feminino',\n",
              "       'Masculino', 'Masculino', 'Masculino', 'Feminino', 'Masculino',\n",
              "       'Feminino', 'Masculino', 'Feminino', 'Masculino', 'Masculino',\n",
              "       'Masculino', 'Masculino', 'Feminino', 'Feminino', 'Feminino',\n",
              "       'Masculino', 'Feminino', 'Feminino', 'Feminino', 'Masculino',\n",
              "       'Feminino', nan, 'Feminino', 'Masculino', 'Masculino', 'Masculino',\n",
              "       'Feminino', 'Masculino', 'Masculino', 'Feminino', 'Feminino',\n",
              "       'Feminino', 'Masculino', 'Feminino', 'Masculino', 'Masculino',\n",
              "       'Feminino', 'Masculino', 'Masculino', 'Feminino', 'Feminino',\n",
              "       'Feminino', 'Masculino', 'Masculino', 'Masculino', 'Feminino',\n",
              "       'Feminino', 'Masculino', 'Masculino', 'Feminino', 'Feminino',\n",
              "       'Masculino', 'Feminino', 'Masculino', 'Masculino', 'Masculino',\n",
              "       'Masculino', 'Feminino', 'Feminino', 'Masculino', 'Feminino',\n",
              "       'Masculino', 'Masculino', 'Feminino', 'Feminino', 'Masculino',\n",
              "       'Masculino', 'Feminino', 'Feminino', 'Feminino', 'Feminino',\n",
              "       'Feminino', 'Feminino', 'Masculino', 'Feminino', 'Masculino',\n",
              "       'Masculino', 'Masculino', 'Masculino', 'Feminino', 'Masculino',\n",
              "       'Masculino', 'Masculino', 'Feminino', 'Feminino', 'Masculino',\n",
              "       'Feminino', 'Feminino', 'Masculino', 'Feminino', 'Feminino',\n",
              "       'Feminino', 'Feminino', 'Feminino', 'Masculino', 'Masculino',\n",
              "       'Feminino', 'Masculino', 'Masculino', 'Feminino', 'Feminino',\n",
              "       'Feminino', 'Masculino', 'Masculino', 'Feminino', 'Feminino',\n",
              "       'Masculino', 'Masculino', 'Masculino', 'Masculino', 'Masculino',\n",
              "       'Masculino', 'Masculino', 'Feminino', 'Feminino', 'Masculino',\n",
              "       'Masculino', 'Feminino', 'Feminino', 'Masculino', 'Masculino',\n",
              "       'Masculino', 'Masculino', 'Masculino', 'Masculino', 'Feminino',\n",
              "       'Masculino', 'Feminino', 'Feminino', 'Masculino', 'Masculino',\n",
              "       'Masculino', 'Feminino', 'Masculino', 'Masculino', 'Masculino',\n",
              "       'Feminino', 'Masculino', 'Masculino', 'Masculino', 'Feminino',\n",
              "       'Masculino', 'Feminino', 'Feminino', 'Feminino', 'Feminino',\n",
              "       'Masculino', 'Feminino', 'Masculino', 'Masculino', 'Feminino',\n",
              "       'Masculino', nan, 'Masculino', 'Masculino', 'Feminino',\n",
              "       'Masculino', 'Masculino', 'Feminino', 'Masculino', 'Feminino',\n",
              "       'Feminino', 'Feminino', 'Masculino', 'Masculino', 'Feminino',\n",
              "       'Masculino', 'Feminino', 'Masculino', 'Masculino', 'Masculino',\n",
              "       'Feminino', 'Masculino', 'Masculino', 'Masculino', 'Masculino',\n",
              "       'Feminino', 'Masculino', 'Masculino', 'Feminino', 'Masculino',\n",
              "       'Feminino', 'Feminino', 'Masculino', 'Masculino', 'Feminino',\n",
              "       'Masculino', 'Masculino', 'Masculino', 'Feminino', 'Feminino',\n",
              "       'Masculino', 'Masculino', 'Feminino', 'Masculino', 'Feminino',\n",
              "       'Feminino', 'Masculino', 'Feminino', 'Masculino', 'Masculino',\n",
              "       'Feminino', 'Masculino', 'Feminino', 'Masculino', 'Masculino',\n",
              "       'Feminino', 'Masculino', 'Masculino', 'Masculino', 'Feminino',\n",
              "       'Feminino', 'Masculino', 'Masculino', 'Feminino', 'Feminino',\n",
              "       'Masculino', 'Feminino', 'Feminino', 'Masculino', 'Masculino',\n",
              "       'Masculino', 'Masculino', 'Masculino', 'Feminino', 'Masculino',\n",
              "       'Feminino', 'Feminino', 'Masculino', 'Feminino', 'Masculino',\n",
              "       'Masculino', 'Feminino', 'Feminino', 'Feminino', 'Feminino',\n",
              "       'Feminino', 'Masculino', 'Masculino', 'Masculino', 'Feminino',\n",
              "       'Feminino', 'Masculino', 'Feminino', 'Masculino', 'Feminino',\n",
              "       'Feminino', 'Masculino', 'Masculino', 'Feminino', 'Feminino',\n",
              "       'Feminino', 'Feminino', 'Feminino', 'Masculino', 'Masculino',\n",
              "       'Masculino', 'Masculino', 'Masculino', 'Masculino', 'Feminino',\n",
              "       'Masculino', 'Feminino', 'Feminino', 'Masculino', 'Masculino',\n",
              "       'Feminino', 'Masculino', 'Feminino', 'Masculino', 'Feminino',\n",
              "       'Masculino', 'Feminino', 'Feminino', 'Masculino', 'Feminino',\n",
              "       'Masculino', 'Masculino', 'Masculino', 'Masculino', 'Feminino',\n",
              "       'Feminino', 'Feminino', 'Feminino', 'Masculino', 'Masculino',\n",
              "       'Feminino', 'Feminino', 'Masculino', 'Feminino', 'Feminino',\n",
              "       'Masculino', 'Feminino', 'Feminino', 'Feminino', 'Feminino',\n",
              "       'Feminino', 'Feminino', 'Masculino', 'Feminino', 'Masculino',\n",
              "       'Feminino', 'Masculino', 'Masculino', 'Masculino', 'Masculino',\n",
              "       'Masculino', 'Masculino', 'Feminino', 'Masculino', 'Feminino',\n",
              "       'Feminino', 'Masculino', 'Masculino', 'Masculino', 'Feminino',\n",
              "       'Masculino', 'Feminino', 'Masculino', 'Masculino', 'Feminino',\n",
              "       'Feminino', 'Masculino', 'Masculino', 'Feminino', 'Masculino',\n",
              "       'Feminino', 'Feminino', 'Masculino', 'Feminino', 'Feminino',\n",
              "       'Masculino', 'Masculino', 'Feminino', 'Feminino', 'Masculino',\n",
              "       'Masculino', 'Feminino', 'Feminino', 'Feminino', 'Feminino',\n",
              "       'Masculino', 'Masculino', 'Masculino', 'Masculino', 'Feminino',\n",
              "       'Masculino', 'Masculino', 'Feminino', 'Masculino', 'Masculino',\n",
              "       'Feminino', 'Masculino', 'Feminino', 'Masculino', 'Masculino',\n",
              "       'Masculino', 'Masculino', 'Masculino', 'Feminino', 'Feminino',\n",
              "       'Masculino', 'Masculino', 'Masculino', 'Feminino', 'Feminino',\n",
              "       'Masculino', 'Feminino', 'Feminino', 'Masculino', 'Feminino',\n",
              "       'Feminino', 'Feminino', 'Masculino', 'Feminino', 'Masculino',\n",
              "       'Feminino', 'Masculino', 'Feminino', 'Feminino', 'Feminino',\n",
              "       'Masculino', 'Feminino', 'Masculino', 'Masculino', 'Feminino',\n",
              "       'Masculino', 'Masculino', 'Masculino', 'Masculino', 'Feminino',\n",
              "       'Feminino', 'Masculino', 'Masculino', 'Feminino', 'Masculino',\n",
              "       'Masculino', 'Masculino', 'Feminino', 'Masculino', 'Masculino',\n",
              "       'Masculino', 'Feminino', 'Feminino', 'Masculino', 'Feminino',\n",
              "       'Masculino', 'Feminino', 'Feminino', 'Feminino', 'Masculino',\n",
              "       'Feminino', 'Feminino', 'Feminino', 'Feminino', 'Masculino',\n",
              "       'Feminino', 'Feminino', 'Masculino', 'Masculino', 'Feminino',\n",
              "       'Feminino', 'Masculino', 'Masculino', 'Masculino', 'Masculino',\n",
              "       'Masculino', 'Feminino', 'Masculino', 'Masculino', 'Feminino',\n",
              "       'Masculino', 'Feminino', 'Masculino', 'Feminino', 'Masculino',\n",
              "       'Masculino', 'Masculino', 'Masculino', 'Feminino', 'Masculino',\n",
              "       'Masculino', 'Masculino', 'Feminino', 'Feminino', 'Masculino',\n",
              "       'Masculino', 'Feminino', 'Masculino', 'Feminino', 'Feminino',\n",
              "       'Masculino', 'Feminino', 'Feminino', 'Feminino', 'Masculino',\n",
              "       'Feminino', 'Feminino', 'Masculino', 'Masculino', 'Feminino',\n",
              "       'Feminino', 'Masculino', 'Feminino', 'Masculino', 'Feminino',\n",
              "       'Masculino', 'Masculino', 'Feminino', 'Masculino', 'Feminino',\n",
              "       'Masculino', 'Feminino', 'Masculino', 'Feminino', 'Masculino',\n",
              "       'Masculino', 'Feminino', 'Masculino', 'Feminino', 'Feminino',\n",
              "       'Feminino', 'Feminino', 'Feminino', 'Masculino', 'Feminino',\n",
              "       'Masculino', 'Feminino', 'Feminino', 'Feminino', 'Masculino',\n",
              "       'Masculino', 'Feminino', 'Masculino', 'Feminino', 'Masculino',\n",
              "       'Masculino', 'Masculino', 'Feminino', 'Masculino', 'Masculino',\n",
              "       'Masculino', 'Feminino', 'Feminino', 'Feminino', 'Feminino',\n",
              "       'Masculino', 'Feminino', 'Masculino', 'Masculino', 'Masculino',\n",
              "       'Masculino', 'Feminino', 'Masculino', 'Masculino', 'Masculino',\n",
              "       'Feminino', 'Masculino', 'Feminino', 'Masculino', 'Masculino',\n",
              "       'Feminino', 'Feminino', 'Feminino', 'Masculino', 'Feminino',\n",
              "       'Feminino', 'Feminino', 'Feminino', 'Feminino', 'Feminino',\n",
              "       'Feminino', 'Feminino', 'Masculino', 'Feminino', 'Masculino',\n",
              "       'Masculino', 'Masculino', 'Masculino', 'Masculino', 'Feminino',\n",
              "       'Masculino', 'Masculino', 'Masculino', 'Feminino', 'Feminino',\n",
              "       'Masculino', 'Masculino', 'Feminino', 'Feminino', 'Masculino',\n",
              "       'Masculino', 'Masculino', 'Feminino', 'Masculino', 'Masculino',\n",
              "       'Feminino', 'Masculino', 'Feminino', 'Masculino', 'Masculino',\n",
              "       'Masculino', 'Feminino', 'Feminino', 'Masculino', 'Masculino',\n",
              "       'Masculino', 'Masculino', 'Feminino', 'Masculino', 'Masculino',\n",
              "       'Masculino', 'Masculino', 'Masculino', 'Feminino', 'Feminino',\n",
              "       'Feminino', 'Masculino', 'Masculino', 'Masculino', 'Feminino',\n",
              "       'Masculino', 'Masculino', 'Feminino', 'Masculino', 'Masculino',\n",
              "       'Feminino', 'Masculino', 'Feminino', 'Feminino', 'Feminino',\n",
              "       'Masculino', 'Feminino', 'Feminino', 'Feminino', 'Masculino',\n",
              "       'Feminino', 'Feminino', 'Feminino', 'Masculino', 'Feminino',\n",
              "       'Feminino', 'Masculino', 'Feminino', 'Masculino', 'Feminino',\n",
              "       'Feminino', 'Feminino', 'Feminino', 'Masculino', 'Feminino',\n",
              "       'Feminino', 'Masculino', 'Masculino', nan, 'Feminino', 'Feminino',\n",
              "       'Feminino', 'Feminino', 'Masculino', nan, 'Feminino', 'Masculino',\n",
              "       'Masculino', 'Masculino', 'Masculino', 'Feminino', 'Feminino',\n",
              "       'Feminino', 'Feminino', 'Feminino', 'Masculino', 'Feminino',\n",
              "       'Masculino', 'Feminino', 'Masculino', 'Masculino', 'Masculino',\n",
              "       'Masculino', 'Feminino', 'Feminino', 'Masculino', 'Feminino',\n",
              "       'Feminino', 'Feminino', 'Masculino', 'Masculino', 'Masculino',\n",
              "       'Masculino', 'Feminino'], dtype=object)"
            ]
          },
          "metadata": {},
          "execution_count": 48
        }
      ],
      "source": [
        "df['Genero'].values"
      ]
    },
    {
      "cell_type": "markdown",
      "metadata": {
        "id": "h3wjh38Hob2p"
      },
      "source": [
        "18 - Decida o que irá fazer com esses dados e faça as alterações no dataset:"
      ]
    },
    {
      "cell_type": "code",
      "execution_count": null,
      "metadata": {
        "id": "4oSouqneob2p"
      },
      "outputs": [],
      "source": []
    },
    {
      "cell_type": "code",
      "execution_count": null,
      "metadata": {
        "id": "seZa7GWNob2p"
      },
      "outputs": [],
      "source": []
    },
    {
      "cell_type": "markdown",
      "metadata": {
        "id": "oHJ_8KP_ob2p"
      },
      "source": [
        "19- Vamos agora explorar um pouco as variáveis numéricas! Veja algumas estatísticas da variável(coluna) 'Score':\n",
        "\n",
        "Maximo, minimo, média etc\n"
      ]
    },
    {
      "cell_type": "code",
      "execution_count": null,
      "metadata": {
        "id": "zMqdb3vvob2q"
      },
      "outputs": [],
      "source": []
    },
    {
      "cell_type": "markdown",
      "metadata": {
        "id": "DB6ADwVuob2q"
      },
      "source": [
        "20 - Conseguiria fazer um boxplot desssa variável"
      ]
    },
    {
      "cell_type": "markdown",
      "metadata": {
        "id": "wMjzFh0Aob2q"
      },
      "source": [
        "Pode consultar a documentação:\n",
        "\n",
        "- Usando pandas: https://pandas.pydata.org/docs/reference/api/pandas.DataFrame.boxplot.html\n",
        "- Usando seaborn: https://seaborn.pydata.org/generated/seaborn.boxplot.html\n"
      ]
    },
    {
      "cell_type": "code",
      "execution_count": null,
      "metadata": {
        "id": "2BYqkuwfob2q"
      },
      "outputs": [],
      "source": []
    },
    {
      "cell_type": "code",
      "execution_count": null,
      "metadata": {
        "id": "od-u56vjob2q"
      },
      "outputs": [],
      "source": []
    },
    {
      "cell_type": "code",
      "execution_count": null,
      "metadata": {
        "id": "Uwn3O2Nxob2q"
      },
      "outputs": [],
      "source": []
    },
    {
      "cell_type": "markdown",
      "metadata": {
        "id": "eGTX6V9Hob2q"
      },
      "source": [
        "21 - Uma forma de verificar a distribuição de uma variável continua é fazendo um histograma. Você poderia fazer um?"
      ]
    },
    {
      "cell_type": "code",
      "execution_count": null,
      "metadata": {
        "id": "i7M7kmv7ob2r"
      },
      "outputs": [],
      "source": []
    },
    {
      "cell_type": "markdown",
      "metadata": {
        "id": "4_wDdwKRob2r"
      },
      "source": [
        "Documentação:\n",
        "- https://pandas.pydata.org/docs/reference/api/pandas.DataFrame.hist.html\n",
        "- https://seaborn.pydata.org/generated/seaborn.histplot.html"
      ]
    },
    {
      "cell_type": "code",
      "execution_count": null,
      "metadata": {
        "id": "zIt2B8Ajob2r"
      },
      "outputs": [],
      "source": []
    },
    {
      "cell_type": "code",
      "execution_count": null,
      "metadata": {
        "id": "Pqku2TlLob2r"
      },
      "outputs": [],
      "source": []
    },
    {
      "cell_type": "markdown",
      "metadata": {
        "id": "j4fk3-Etob2r"
      },
      "source": [
        "22 - Veja algumas estatísticas da variável(coluna) 'Idade':"
      ]
    },
    {
      "cell_type": "code",
      "execution_count": null,
      "metadata": {
        "id": "CXjxsw57ob2r"
      },
      "outputs": [],
      "source": []
    },
    {
      "cell_type": "markdown",
      "metadata": {
        "id": "sXNjR__Kob2s"
      },
      "source": [
        "23 - Notou algo estranho? Discuta com seu grupo!! "
      ]
    },
    {
      "cell_type": "markdown",
      "metadata": {
        "id": "qySav-vUob2s"
      },
      "source": [
        "24 - Como sugestão faça novamente um boxplot ou um histograma dessa variável."
      ]
    },
    {
      "cell_type": "code",
      "execution_count": null,
      "metadata": {
        "id": "s6fPoo_iob2s"
      },
      "outputs": [],
      "source": []
    },
    {
      "cell_type": "code",
      "execution_count": null,
      "metadata": {
        "id": "eA3gMTB1ob2s"
      },
      "outputs": [],
      "source": []
    },
    {
      "cell_type": "code",
      "execution_count": null,
      "metadata": {
        "id": "EbYZxP8gob2s"
      },
      "outputs": [],
      "source": []
    },
    {
      "cell_type": "code",
      "execution_count": null,
      "metadata": {
        "id": "EYrclHIJob2s"
      },
      "outputs": [],
      "source": []
    },
    {
      "cell_type": "markdown",
      "metadata": {
        "id": "JD0udn6Sob2s"
      },
      "source": [
        "25 - Que decisão seu grupo irá tomar em relação a variável idade? Implemente as mudança que vocês dicutiram."
      ]
    },
    {
      "cell_type": "code",
      "execution_count": null,
      "metadata": {
        "id": "yWj2BiAoob2s"
      },
      "outputs": [],
      "source": []
    },
    {
      "cell_type": "code",
      "execution_count": null,
      "metadata": {
        "id": "cy3ujUeCob2t"
      },
      "outputs": [],
      "source": []
    },
    {
      "cell_type": "code",
      "execution_count": null,
      "metadata": {
        "id": "ITuIwrL7ob2t"
      },
      "outputs": [],
      "source": []
    },
    {
      "cell_type": "code",
      "execution_count": null,
      "metadata": {
        "id": "55WXJK3kob2t"
      },
      "outputs": [],
      "source": []
    },
    {
      "cell_type": "markdown",
      "metadata": {
        "id": "nnnHJTXaob2t"
      },
      "source": [
        "26 - Verifique a variável saldo, ou seja exiba algumas estatísticas"
      ]
    },
    {
      "cell_type": "code",
      "execution_count": null,
      "metadata": {
        "id": "_xRl-hJ2ob2t"
      },
      "outputs": [],
      "source": []
    },
    {
      "cell_type": "markdown",
      "metadata": {
        "id": "vIKTweQoob2t"
      },
      "source": [
        "27 - Faça um boxplot da variável saldo"
      ]
    },
    {
      "cell_type": "code",
      "execution_count": null,
      "metadata": {
        "id": "R4G3bbJAob2t"
      },
      "outputs": [],
      "source": []
    },
    {
      "cell_type": "code",
      "execution_count": null,
      "metadata": {
        "id": "fssBVuwoob2u"
      },
      "outputs": [],
      "source": []
    },
    {
      "cell_type": "code",
      "execution_count": null,
      "metadata": {
        "id": "3Mf7-Ws5ob2u"
      },
      "outputs": [],
      "source": []
    },
    {
      "cell_type": "markdown",
      "metadata": {
        "id": "IINm4mcSob2u"
      },
      "source": [
        "28 - Examine a variável salário fazendo algumas estatísticas"
      ]
    },
    {
      "cell_type": "code",
      "execution_count": null,
      "metadata": {
        "id": "RZEqQz2Yob2u"
      },
      "outputs": [],
      "source": []
    },
    {
      "cell_type": "markdown",
      "metadata": {
        "id": "PAZQnZ_nob2u"
      },
      "source": [
        "29 -  Não deu para ver muita coisa, não é? Use agora o poder da visualização! Faça um boxplot!"
      ]
    },
    {
      "cell_type": "code",
      "execution_count": null,
      "metadata": {
        "id": "xRddpnVXob2u"
      },
      "outputs": [],
      "source": []
    },
    {
      "cell_type": "code",
      "execution_count": null,
      "metadata": {
        "id": "w---hBLSob2u"
      },
      "outputs": [],
      "source": []
    },
    {
      "cell_type": "markdown",
      "metadata": {
        "id": "Pama8SG6ob2u"
      },
      "source": [
        "30 - O que você acha que aconteceu? Por quê não aparece o boxplot! Tente um histograma!!"
      ]
    },
    {
      "cell_type": "code",
      "execution_count": null,
      "metadata": {
        "id": "OhE_nDYZob2v"
      },
      "outputs": [],
      "source": []
    },
    {
      "cell_type": "markdown",
      "metadata": {
        "id": "sVSFNIX7ob2v"
      },
      "source": [
        "31 - Discuta com o grupo! Consulte a área de negócio! Os dados estão corretos?"
      ]
    },
    {
      "cell_type": "code",
      "execution_count": null,
      "metadata": {
        "id": "xCPZ-_Lkob2v"
      },
      "outputs": [],
      "source": [
        "#Supondo que são outliers! O que é isso:\n",
        "##Os outliers são dados que se diferenciam drasticamente de todos os outros.\n",
        "#Em outras palavras, um outlier é um valor que foge da normalidade e que pode (e provavelmente irá)\n",
        "#causar anomalias nos resultados obtidos por meio de algoritmos e sistemas de análise."
      ]
    },
    {
      "cell_type": "markdown",
      "metadata": {
        "id": "gZEqFT2Aob2v"
      },
      "source": [
        "32 - A área de negocio informou que o valor salario não pode passar  de R$1061159976.6. E agora, como resolver! Discuta com o grupo!"
      ]
    },
    {
      "cell_type": "code",
      "execution_count": null,
      "metadata": {
        "id": "bALArQSXob2v"
      },
      "outputs": [],
      "source": []
    },
    {
      "cell_type": "code",
      "execution_count": null,
      "metadata": {
        "id": "FqDpvFyOob2v"
      },
      "outputs": [],
      "source": []
    },
    {
      "cell_type": "code",
      "execution_count": null,
      "metadata": {
        "id": "0f7DzT0Sob2v"
      },
      "outputs": [],
      "source": []
    },
    {
      "cell_type": "code",
      "execution_count": null,
      "metadata": {
        "id": "HUOPMjKMob2w"
      },
      "outputs": [],
      "source": []
    },
    {
      "cell_type": "markdown",
      "metadata": {
        "id": "wir0Ylkrob2w"
      },
      "source": [
        "33 - Agora veja se o dataset tem algum valor nulo!"
      ]
    },
    {
      "cell_type": "code",
      "execution_count": null,
      "metadata": {
        "id": "8JmKiAIkob2w"
      },
      "outputs": [],
      "source": []
    },
    {
      "cell_type": "markdown",
      "metadata": {
        "id": "vRmW-roNob2w"
      },
      "source": [
        "34 - Há alguns nulos na variável salário. Discuta com o grupo o que fazer!!"
      ]
    },
    {
      "cell_type": "code",
      "execution_count": null,
      "metadata": {
        "id": "0WnNt9_qob2w"
      },
      "outputs": [],
      "source": []
    },
    {
      "cell_type": "code",
      "execution_count": null,
      "metadata": {
        "id": "HN0GtTJOob2w",
        "outputId": "82da9e9e-fdc3-4e6b-a854-e51494c5a1c3"
      },
      "outputs": [
        {
          "data": {
            "text/plain": [
              "0"
            ]
          },
          "execution_count": 125,
          "metadata": {},
          "output_type": "execute_result"
        }
      ],
      "source": []
    },
    {
      "cell_type": "markdown",
      "metadata": {
        "id": "u_Svl_ftob2x"
      },
      "source": [
        "35 -Parabéns por ter chegado até aqui!!"
      ]
    },
    {
      "cell_type": "code",
      "execution_count": null,
      "metadata": {
        "id": "Yafbw-XEob2x"
      },
      "outputs": [],
      "source": []
    }
  ],
  "metadata": {
    "hide_input": false,
    "kernelspec": {
      "display_name": "Python 3 (ipykernel)",
      "language": "python",
      "name": "python3"
    },
    "language_info": {
      "codemirror_mode": {
        "name": "ipython",
        "version": 3
      },
      "file_extension": ".py",
      "mimetype": "text/x-python",
      "name": "python",
      "nbconvert_exporter": "python",
      "pygments_lexer": "ipython3",
      "version": "3.9.7"
    },
    "colab": {
      "provenance": [],
      "include_colab_link": true
    }
  },
  "nbformat": 4,
  "nbformat_minor": 0
}