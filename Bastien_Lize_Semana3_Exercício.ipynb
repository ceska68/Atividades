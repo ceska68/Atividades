{
  "nbformat": 4,
  "nbformat_minor": 0,
  "metadata": {
    "colab": {
      "provenance": [],
      "include_colab_link": true
    },
    "kernelspec": {
      "name": "python3",
      "display_name": "Python 3"
    },
    "language_info": {
      "name": "python"
    }
  },
  "cells": [
    {
      "cell_type": "markdown",
      "metadata": {
        "id": "view-in-github",
        "colab_type": "text"
      },
      "source": [
        "<a href=\"https://colab.research.google.com/github/ceska68/Atividades/blob/main/Bastien_Lize_Semana3_Exerc%C3%ADcio.ipynb\" target=\"_parent\"><img src=\"https://colab.research.google.com/assets/colab-badge.svg\" alt=\"Open In Colab\"/></a>"
      ]
    },
    {
      "cell_type": "markdown",
      "source": [
        "# Clusterização\n",
        "\n",
        "### Atividade 1: Crie um dataframe a partir do banco de dados `basedosdados.br_inep_ideb.municipio` disponível em [Ideb](https://basedosdados.org/dataset/br-inep-ideb?bdm_table=municipio). Selecione apenas as colunas `ano`, `sigla_uf`, `taxa_aprovacao`, `nota_saeb_matematica`, `nota_saeb_lingua_portuguesa` e `ideb`."
      ],
      "metadata": {
        "id": "eI_n6yqQcTJp"
      }
    },
    {
      "cell_type": "code",
      "source": [
        "# importar pandas\n",
        "import pandas as pd\n"
      ],
      "metadata": {
        "id": "MTBYqZAAWBEq"
      },
      "execution_count": 1,
      "outputs": []
    },
    {
      "cell_type": "code",
      "source": [
        "# importar base\n",
        "df = pd.read_csv('ideb.csv')\n",
        "\n",
        "# selecionar somente as colunas ano, sigla_uf, taxa_aprovacao, nota_saeb_matematica, nota_saeb_lingua_portuguesa e ideb\n",
        "df = df[['ano', 'sigla_uf', 'taxa_aprovacao', 'nota_saeb_matematica', 'nota_saeb_lingua_portuguesa' , 'ideb']]\n",
        "\n",
        "# mostrar dados\n",
        "df.head()"
      ],
      "metadata": {
        "id": "cqW63WFpEmxC",
        "outputId": "b8a50282-f57a-4ea7-b139-f091e2dcd056",
        "colab": {
          "base_uri": "https://localhost:8080/",
          "height": 206
        }
      },
      "execution_count": 4,
      "outputs": [
        {
          "output_type": "execute_result",
          "data": {
            "text/plain": [
              "    ano sigla_uf  taxa_aprovacao  nota_saeb_matematica  \\\n",
              "0  2005       AC            53.9                 167.8   \n",
              "1  2005       AC            49.3                 151.8   \n",
              "2  2005       AC            48.8                 163.6   \n",
              "3  2005       AC            48.8                 159.0   \n",
              "4  2005       AC            74.7                 138.0   \n",
              "\n",
              "   nota_saeb_lingua_portuguesa  ideb  \n",
              "0                       165.60   2.3  \n",
              "1                       149.60   1.8  \n",
              "2                       155.80   1.9  \n",
              "3                       153.39   1.9  \n",
              "4                       134.19   2.3  "
            ],
            "text/html": [
              "\n",
              "  <div id=\"df-e8ed688d-2fc4-4c8a-a084-7c9d049f3bce\">\n",
              "    <div class=\"colab-df-container\">\n",
              "      <div>\n",
              "<style scoped>\n",
              "    .dataframe tbody tr th:only-of-type {\n",
              "        vertical-align: middle;\n",
              "    }\n",
              "\n",
              "    .dataframe tbody tr th {\n",
              "        vertical-align: top;\n",
              "    }\n",
              "\n",
              "    .dataframe thead th {\n",
              "        text-align: right;\n",
              "    }\n",
              "</style>\n",
              "<table border=\"1\" class=\"dataframe\">\n",
              "  <thead>\n",
              "    <tr style=\"text-align: right;\">\n",
              "      <th></th>\n",
              "      <th>ano</th>\n",
              "      <th>sigla_uf</th>\n",
              "      <th>taxa_aprovacao</th>\n",
              "      <th>nota_saeb_matematica</th>\n",
              "      <th>nota_saeb_lingua_portuguesa</th>\n",
              "      <th>ideb</th>\n",
              "    </tr>\n",
              "  </thead>\n",
              "  <tbody>\n",
              "    <tr>\n",
              "      <th>0</th>\n",
              "      <td>2005</td>\n",
              "      <td>AC</td>\n",
              "      <td>53.9</td>\n",
              "      <td>167.8</td>\n",
              "      <td>165.60</td>\n",
              "      <td>2.3</td>\n",
              "    </tr>\n",
              "    <tr>\n",
              "      <th>1</th>\n",
              "      <td>2005</td>\n",
              "      <td>AC</td>\n",
              "      <td>49.3</td>\n",
              "      <td>151.8</td>\n",
              "      <td>149.60</td>\n",
              "      <td>1.8</td>\n",
              "    </tr>\n",
              "    <tr>\n",
              "      <th>2</th>\n",
              "      <td>2005</td>\n",
              "      <td>AC</td>\n",
              "      <td>48.8</td>\n",
              "      <td>163.6</td>\n",
              "      <td>155.80</td>\n",
              "      <td>1.9</td>\n",
              "    </tr>\n",
              "    <tr>\n",
              "      <th>3</th>\n",
              "      <td>2005</td>\n",
              "      <td>AC</td>\n",
              "      <td>48.8</td>\n",
              "      <td>159.0</td>\n",
              "      <td>153.39</td>\n",
              "      <td>1.9</td>\n",
              "    </tr>\n",
              "    <tr>\n",
              "      <th>4</th>\n",
              "      <td>2005</td>\n",
              "      <td>AC</td>\n",
              "      <td>74.7</td>\n",
              "      <td>138.0</td>\n",
              "      <td>134.19</td>\n",
              "      <td>2.3</td>\n",
              "    </tr>\n",
              "  </tbody>\n",
              "</table>\n",
              "</div>\n",
              "      <button class=\"colab-df-convert\" onclick=\"convertToInteractive('df-e8ed688d-2fc4-4c8a-a084-7c9d049f3bce')\"\n",
              "              title=\"Convert this dataframe to an interactive table.\"\n",
              "              style=\"display:none;\">\n",
              "        \n",
              "  <svg xmlns=\"http://www.w3.org/2000/svg\" height=\"24px\"viewBox=\"0 0 24 24\"\n",
              "       width=\"24px\">\n",
              "    <path d=\"M0 0h24v24H0V0z\" fill=\"none\"/>\n",
              "    <path d=\"M18.56 5.44l.94 2.06.94-2.06 2.06-.94-2.06-.94-.94-2.06-.94 2.06-2.06.94zm-11 1L8.5 8.5l.94-2.06 2.06-.94-2.06-.94L8.5 2.5l-.94 2.06-2.06.94zm10 10l.94 2.06.94-2.06 2.06-.94-2.06-.94-.94-2.06-.94 2.06-2.06.94z\"/><path d=\"M17.41 7.96l-1.37-1.37c-.4-.4-.92-.59-1.43-.59-.52 0-1.04.2-1.43.59L10.3 9.45l-7.72 7.72c-.78.78-.78 2.05 0 2.83L4 21.41c.39.39.9.59 1.41.59.51 0 1.02-.2 1.41-.59l7.78-7.78 2.81-2.81c.8-.78.8-2.07 0-2.86zM5.41 20L4 18.59l7.72-7.72 1.47 1.35L5.41 20z\"/>\n",
              "  </svg>\n",
              "      </button>\n",
              "      \n",
              "  <style>\n",
              "    .colab-df-container {\n",
              "      display:flex;\n",
              "      flex-wrap:wrap;\n",
              "      gap: 12px;\n",
              "    }\n",
              "\n",
              "    .colab-df-convert {\n",
              "      background-color: #E8F0FE;\n",
              "      border: none;\n",
              "      border-radius: 50%;\n",
              "      cursor: pointer;\n",
              "      display: none;\n",
              "      fill: #1967D2;\n",
              "      height: 32px;\n",
              "      padding: 0 0 0 0;\n",
              "      width: 32px;\n",
              "    }\n",
              "\n",
              "    .colab-df-convert:hover {\n",
              "      background-color: #E2EBFA;\n",
              "      box-shadow: 0px 1px 2px rgba(60, 64, 67, 0.3), 0px 1px 3px 1px rgba(60, 64, 67, 0.15);\n",
              "      fill: #174EA6;\n",
              "    }\n",
              "\n",
              "    [theme=dark] .colab-df-convert {\n",
              "      background-color: #3B4455;\n",
              "      fill: #D2E3FC;\n",
              "    }\n",
              "\n",
              "    [theme=dark] .colab-df-convert:hover {\n",
              "      background-color: #434B5C;\n",
              "      box-shadow: 0px 1px 3px 1px rgba(0, 0, 0, 0.15);\n",
              "      filter: drop-shadow(0px 1px 2px rgba(0, 0, 0, 0.3));\n",
              "      fill: #FFFFFF;\n",
              "    }\n",
              "  </style>\n",
              "\n",
              "      <script>\n",
              "        const buttonEl =\n",
              "          document.querySelector('#df-e8ed688d-2fc4-4c8a-a084-7c9d049f3bce button.colab-df-convert');\n",
              "        buttonEl.style.display =\n",
              "          google.colab.kernel.accessAllowed ? 'block' : 'none';\n",
              "\n",
              "        async function convertToInteractive(key) {\n",
              "          const element = document.querySelector('#df-e8ed688d-2fc4-4c8a-a084-7c9d049f3bce');\n",
              "          const dataTable =\n",
              "            await google.colab.kernel.invokeFunction('convertToInteractive',\n",
              "                                                     [key], {});\n",
              "          if (!dataTable) return;\n",
              "\n",
              "          const docLinkHtml = 'Like what you see? Visit the ' +\n",
              "            '<a target=\"_blank\" href=https://colab.research.google.com/notebooks/data_table.ipynb>data table notebook</a>'\n",
              "            + ' to learn more about interactive tables.';\n",
              "          element.innerHTML = '';\n",
              "          dataTable['output_type'] = 'display_data';\n",
              "          await google.colab.output.renderOutput(dataTable, element);\n",
              "          const docLink = document.createElement('div');\n",
              "          docLink.innerHTML = docLinkHtml;\n",
              "          element.appendChild(docLink);\n",
              "        }\n",
              "      </script>\n",
              "    </div>\n",
              "  </div>\n",
              "  "
            ]
          },
          "metadata": {},
          "execution_count": 4
        }
      ]
    },
    {
      "cell_type": "markdown",
      "source": [
        "### Atividade 2: Selecione apenas os dados referentes ao ano de 2019 e agrupe os dados por estado, considerando a média."
      ],
      "metadata": {
        "id": "eqPLrlMzdVt9"
      }
    },
    {
      "cell_type": "code",
      "source": [
        "# filtrar ano 2019\n",
        "df_2019 = df.loc[df['ano'] == 2019]\n",
        "\n",
        "# agrupar por estado usando a média\n",
        "df_2019 = df_2019.groupby(by='sigla_uf').mean()\n",
        "\n",
        "# mostrar dados\n",
        "df_2019.head()"
      ],
      "metadata": {
        "id": "XrbwGjo_WEn3",
        "outputId": "3df179e3-cf99-4be9-8c8e-ff4647dfb59c",
        "colab": {
          "base_uri": "https://localhost:8080/",
          "height": 238
        }
      },
      "execution_count": 11,
      "outputs": [
        {
          "output_type": "execute_result",
          "data": {
            "text/plain": [
              "             ano  taxa_aprovacao  nota_saeb_matematica  \\\n",
              "sigla_uf                                                 \n",
              "AC        2019.0       88.561184            245.253478   \n",
              "AL        2019.0       92.081591            237.883189   \n",
              "AM        2019.0       86.853550            223.121965   \n",
              "AP        2019.0       81.552252            217.216667   \n",
              "BA        2019.0       83.032948            233.942537   \n",
              "\n",
              "          nota_saeb_lingua_portuguesa      ideb  \n",
              "sigla_uf                                         \n",
              "AC                         237.995942  4.671739  \n",
              "AL                         231.412708  4.509295  \n",
              "AM                         219.773218  4.032397  \n",
              "AP                         215.831111  3.694444  \n",
              "BA                         230.205596  4.034125  "
            ],
            "text/html": [
              "\n",
              "  <div id=\"df-c99a40be-8674-4d07-8763-ac045434cb0a\">\n",
              "    <div class=\"colab-df-container\">\n",
              "      <div>\n",
              "<style scoped>\n",
              "    .dataframe tbody tr th:only-of-type {\n",
              "        vertical-align: middle;\n",
              "    }\n",
              "\n",
              "    .dataframe tbody tr th {\n",
              "        vertical-align: top;\n",
              "    }\n",
              "\n",
              "    .dataframe thead th {\n",
              "        text-align: right;\n",
              "    }\n",
              "</style>\n",
              "<table border=\"1\" class=\"dataframe\">\n",
              "  <thead>\n",
              "    <tr style=\"text-align: right;\">\n",
              "      <th></th>\n",
              "      <th>ano</th>\n",
              "      <th>taxa_aprovacao</th>\n",
              "      <th>nota_saeb_matematica</th>\n",
              "      <th>nota_saeb_lingua_portuguesa</th>\n",
              "      <th>ideb</th>\n",
              "    </tr>\n",
              "    <tr>\n",
              "      <th>sigla_uf</th>\n",
              "      <th></th>\n",
              "      <th></th>\n",
              "      <th></th>\n",
              "      <th></th>\n",
              "      <th></th>\n",
              "    </tr>\n",
              "  </thead>\n",
              "  <tbody>\n",
              "    <tr>\n",
              "      <th>AC</th>\n",
              "      <td>2019.0</td>\n",
              "      <td>88.561184</td>\n",
              "      <td>245.253478</td>\n",
              "      <td>237.995942</td>\n",
              "      <td>4.671739</td>\n",
              "    </tr>\n",
              "    <tr>\n",
              "      <th>AL</th>\n",
              "      <td>2019.0</td>\n",
              "      <td>92.081591</td>\n",
              "      <td>237.883189</td>\n",
              "      <td>231.412708</td>\n",
              "      <td>4.509295</td>\n",
              "    </tr>\n",
              "    <tr>\n",
              "      <th>AM</th>\n",
              "      <td>2019.0</td>\n",
              "      <td>86.853550</td>\n",
              "      <td>223.121965</td>\n",
              "      <td>219.773218</td>\n",
              "      <td>4.032397</td>\n",
              "    </tr>\n",
              "    <tr>\n",
              "      <th>AP</th>\n",
              "      <td>2019.0</td>\n",
              "      <td>81.552252</td>\n",
              "      <td>217.216667</td>\n",
              "      <td>215.831111</td>\n",
              "      <td>3.694444</td>\n",
              "    </tr>\n",
              "    <tr>\n",
              "      <th>BA</th>\n",
              "      <td>2019.0</td>\n",
              "      <td>83.032948</td>\n",
              "      <td>233.942537</td>\n",
              "      <td>230.205596</td>\n",
              "      <td>4.034125</td>\n",
              "    </tr>\n",
              "  </tbody>\n",
              "</table>\n",
              "</div>\n",
              "      <button class=\"colab-df-convert\" onclick=\"convertToInteractive('df-c99a40be-8674-4d07-8763-ac045434cb0a')\"\n",
              "              title=\"Convert this dataframe to an interactive table.\"\n",
              "              style=\"display:none;\">\n",
              "        \n",
              "  <svg xmlns=\"http://www.w3.org/2000/svg\" height=\"24px\"viewBox=\"0 0 24 24\"\n",
              "       width=\"24px\">\n",
              "    <path d=\"M0 0h24v24H0V0z\" fill=\"none\"/>\n",
              "    <path d=\"M18.56 5.44l.94 2.06.94-2.06 2.06-.94-2.06-.94-.94-2.06-.94 2.06-2.06.94zm-11 1L8.5 8.5l.94-2.06 2.06-.94-2.06-.94L8.5 2.5l-.94 2.06-2.06.94zm10 10l.94 2.06.94-2.06 2.06-.94-2.06-.94-.94-2.06-.94 2.06-2.06.94z\"/><path d=\"M17.41 7.96l-1.37-1.37c-.4-.4-.92-.59-1.43-.59-.52 0-1.04.2-1.43.59L10.3 9.45l-7.72 7.72c-.78.78-.78 2.05 0 2.83L4 21.41c.39.39.9.59 1.41.59.51 0 1.02-.2 1.41-.59l7.78-7.78 2.81-2.81c.8-.78.8-2.07 0-2.86zM5.41 20L4 18.59l7.72-7.72 1.47 1.35L5.41 20z\"/>\n",
              "  </svg>\n",
              "      </button>\n",
              "      \n",
              "  <style>\n",
              "    .colab-df-container {\n",
              "      display:flex;\n",
              "      flex-wrap:wrap;\n",
              "      gap: 12px;\n",
              "    }\n",
              "\n",
              "    .colab-df-convert {\n",
              "      background-color: #E8F0FE;\n",
              "      border: none;\n",
              "      border-radius: 50%;\n",
              "      cursor: pointer;\n",
              "      display: none;\n",
              "      fill: #1967D2;\n",
              "      height: 32px;\n",
              "      padding: 0 0 0 0;\n",
              "      width: 32px;\n",
              "    }\n",
              "\n",
              "    .colab-df-convert:hover {\n",
              "      background-color: #E2EBFA;\n",
              "      box-shadow: 0px 1px 2px rgba(60, 64, 67, 0.3), 0px 1px 3px 1px rgba(60, 64, 67, 0.15);\n",
              "      fill: #174EA6;\n",
              "    }\n",
              "\n",
              "    [theme=dark] .colab-df-convert {\n",
              "      background-color: #3B4455;\n",
              "      fill: #D2E3FC;\n",
              "    }\n",
              "\n",
              "    [theme=dark] .colab-df-convert:hover {\n",
              "      background-color: #434B5C;\n",
              "      box-shadow: 0px 1px 3px 1px rgba(0, 0, 0, 0.15);\n",
              "      filter: drop-shadow(0px 1px 2px rgba(0, 0, 0, 0.3));\n",
              "      fill: #FFFFFF;\n",
              "    }\n",
              "  </style>\n",
              "\n",
              "      <script>\n",
              "        const buttonEl =\n",
              "          document.querySelector('#df-c99a40be-8674-4d07-8763-ac045434cb0a button.colab-df-convert');\n",
              "        buttonEl.style.display =\n",
              "          google.colab.kernel.accessAllowed ? 'block' : 'none';\n",
              "\n",
              "        async function convertToInteractive(key) {\n",
              "          const element = document.querySelector('#df-c99a40be-8674-4d07-8763-ac045434cb0a');\n",
              "          const dataTable =\n",
              "            await google.colab.kernel.invokeFunction('convertToInteractive',\n",
              "                                                     [key], {});\n",
              "          if (!dataTable) return;\n",
              "\n",
              "          const docLinkHtml = 'Like what you see? Visit the ' +\n",
              "            '<a target=\"_blank\" href=https://colab.research.google.com/notebooks/data_table.ipynb>data table notebook</a>'\n",
              "            + ' to learn more about interactive tables.';\n",
              "          element.innerHTML = '';\n",
              "          dataTable['output_type'] = 'display_data';\n",
              "          await google.colab.output.renderOutput(dataTable, element);\n",
              "          const docLink = document.createElement('div');\n",
              "          docLink.innerHTML = docLinkHtml;\n",
              "          element.appendChild(docLink);\n",
              "        }\n",
              "      </script>\n",
              "    </div>\n",
              "  </div>\n",
              "  "
            ]
          },
          "metadata": {},
          "execution_count": 11
        }
      ]
    },
    {
      "cell_type": "code",
      "source": [
        "# transformar o índice (estados) em coluna novamente\n",
        "df_2019 = df_2019.reset_index()\n",
        "df_2019.head()"
      ],
      "metadata": {
        "id": "EnnbTH9vIm-b",
        "outputId": "d177e9ab-ae53-4006-e86c-95a4bae086d0",
        "colab": {
          "base_uri": "https://localhost:8080/",
          "height": 206
        }
      },
      "execution_count": 13,
      "outputs": [
        {
          "output_type": "execute_result",
          "data": {
            "text/plain": [
              "  sigla_uf     ano  taxa_aprovacao  nota_saeb_matematica  \\\n",
              "0       AC  2019.0       88.561184            245.253478   \n",
              "1       AL  2019.0       92.081591            237.883189   \n",
              "2       AM  2019.0       86.853550            223.121965   \n",
              "3       AP  2019.0       81.552252            217.216667   \n",
              "4       BA  2019.0       83.032948            233.942537   \n",
              "\n",
              "   nota_saeb_lingua_portuguesa      ideb  \n",
              "0                   237.995942  4.671739  \n",
              "1                   231.412708  4.509295  \n",
              "2                   219.773218  4.032397  \n",
              "3                   215.831111  3.694444  \n",
              "4                   230.205596  4.034125  "
            ],
            "text/html": [
              "\n",
              "  <div id=\"df-6e69bcf2-a2e6-4ef4-b821-9384bd7f29c0\">\n",
              "    <div class=\"colab-df-container\">\n",
              "      <div>\n",
              "<style scoped>\n",
              "    .dataframe tbody tr th:only-of-type {\n",
              "        vertical-align: middle;\n",
              "    }\n",
              "\n",
              "    .dataframe tbody tr th {\n",
              "        vertical-align: top;\n",
              "    }\n",
              "\n",
              "    .dataframe thead th {\n",
              "        text-align: right;\n",
              "    }\n",
              "</style>\n",
              "<table border=\"1\" class=\"dataframe\">\n",
              "  <thead>\n",
              "    <tr style=\"text-align: right;\">\n",
              "      <th></th>\n",
              "      <th>sigla_uf</th>\n",
              "      <th>ano</th>\n",
              "      <th>taxa_aprovacao</th>\n",
              "      <th>nota_saeb_matematica</th>\n",
              "      <th>nota_saeb_lingua_portuguesa</th>\n",
              "      <th>ideb</th>\n",
              "    </tr>\n",
              "  </thead>\n",
              "  <tbody>\n",
              "    <tr>\n",
              "      <th>0</th>\n",
              "      <td>AC</td>\n",
              "      <td>2019.0</td>\n",
              "      <td>88.561184</td>\n",
              "      <td>245.253478</td>\n",
              "      <td>237.995942</td>\n",
              "      <td>4.671739</td>\n",
              "    </tr>\n",
              "    <tr>\n",
              "      <th>1</th>\n",
              "      <td>AL</td>\n",
              "      <td>2019.0</td>\n",
              "      <td>92.081591</td>\n",
              "      <td>237.883189</td>\n",
              "      <td>231.412708</td>\n",
              "      <td>4.509295</td>\n",
              "    </tr>\n",
              "    <tr>\n",
              "      <th>2</th>\n",
              "      <td>AM</td>\n",
              "      <td>2019.0</td>\n",
              "      <td>86.853550</td>\n",
              "      <td>223.121965</td>\n",
              "      <td>219.773218</td>\n",
              "      <td>4.032397</td>\n",
              "    </tr>\n",
              "    <tr>\n",
              "      <th>3</th>\n",
              "      <td>AP</td>\n",
              "      <td>2019.0</td>\n",
              "      <td>81.552252</td>\n",
              "      <td>217.216667</td>\n",
              "      <td>215.831111</td>\n",
              "      <td>3.694444</td>\n",
              "    </tr>\n",
              "    <tr>\n",
              "      <th>4</th>\n",
              "      <td>BA</td>\n",
              "      <td>2019.0</td>\n",
              "      <td>83.032948</td>\n",
              "      <td>233.942537</td>\n",
              "      <td>230.205596</td>\n",
              "      <td>4.034125</td>\n",
              "    </tr>\n",
              "  </tbody>\n",
              "</table>\n",
              "</div>\n",
              "      <button class=\"colab-df-convert\" onclick=\"convertToInteractive('df-6e69bcf2-a2e6-4ef4-b821-9384bd7f29c0')\"\n",
              "              title=\"Convert this dataframe to an interactive table.\"\n",
              "              style=\"display:none;\">\n",
              "        \n",
              "  <svg xmlns=\"http://www.w3.org/2000/svg\" height=\"24px\"viewBox=\"0 0 24 24\"\n",
              "       width=\"24px\">\n",
              "    <path d=\"M0 0h24v24H0V0z\" fill=\"none\"/>\n",
              "    <path d=\"M18.56 5.44l.94 2.06.94-2.06 2.06-.94-2.06-.94-.94-2.06-.94 2.06-2.06.94zm-11 1L8.5 8.5l.94-2.06 2.06-.94-2.06-.94L8.5 2.5l-.94 2.06-2.06.94zm10 10l.94 2.06.94-2.06 2.06-.94-2.06-.94-.94-2.06-.94 2.06-2.06.94z\"/><path d=\"M17.41 7.96l-1.37-1.37c-.4-.4-.92-.59-1.43-.59-.52 0-1.04.2-1.43.59L10.3 9.45l-7.72 7.72c-.78.78-.78 2.05 0 2.83L4 21.41c.39.39.9.59 1.41.59.51 0 1.02-.2 1.41-.59l7.78-7.78 2.81-2.81c.8-.78.8-2.07 0-2.86zM5.41 20L4 18.59l7.72-7.72 1.47 1.35L5.41 20z\"/>\n",
              "  </svg>\n",
              "      </button>\n",
              "      \n",
              "  <style>\n",
              "    .colab-df-container {\n",
              "      display:flex;\n",
              "      flex-wrap:wrap;\n",
              "      gap: 12px;\n",
              "    }\n",
              "\n",
              "    .colab-df-convert {\n",
              "      background-color: #E8F0FE;\n",
              "      border: none;\n",
              "      border-radius: 50%;\n",
              "      cursor: pointer;\n",
              "      display: none;\n",
              "      fill: #1967D2;\n",
              "      height: 32px;\n",
              "      padding: 0 0 0 0;\n",
              "      width: 32px;\n",
              "    }\n",
              "\n",
              "    .colab-df-convert:hover {\n",
              "      background-color: #E2EBFA;\n",
              "      box-shadow: 0px 1px 2px rgba(60, 64, 67, 0.3), 0px 1px 3px 1px rgba(60, 64, 67, 0.15);\n",
              "      fill: #174EA6;\n",
              "    }\n",
              "\n",
              "    [theme=dark] .colab-df-convert {\n",
              "      background-color: #3B4455;\n",
              "      fill: #D2E3FC;\n",
              "    }\n",
              "\n",
              "    [theme=dark] .colab-df-convert:hover {\n",
              "      background-color: #434B5C;\n",
              "      box-shadow: 0px 1px 3px 1px rgba(0, 0, 0, 0.15);\n",
              "      filter: drop-shadow(0px 1px 2px rgba(0, 0, 0, 0.3));\n",
              "      fill: #FFFFFF;\n",
              "    }\n",
              "  </style>\n",
              "\n",
              "      <script>\n",
              "        const buttonEl =\n",
              "          document.querySelector('#df-6e69bcf2-a2e6-4ef4-b821-9384bd7f29c0 button.colab-df-convert');\n",
              "        buttonEl.style.display =\n",
              "          google.colab.kernel.accessAllowed ? 'block' : 'none';\n",
              "\n",
              "        async function convertToInteractive(key) {\n",
              "          const element = document.querySelector('#df-6e69bcf2-a2e6-4ef4-b821-9384bd7f29c0');\n",
              "          const dataTable =\n",
              "            await google.colab.kernel.invokeFunction('convertToInteractive',\n",
              "                                                     [key], {});\n",
              "          if (!dataTable) return;\n",
              "\n",
              "          const docLinkHtml = 'Like what you see? Visit the ' +\n",
              "            '<a target=\"_blank\" href=https://colab.research.google.com/notebooks/data_table.ipynb>data table notebook</a>'\n",
              "            + ' to learn more about interactive tables.';\n",
              "          element.innerHTML = '';\n",
              "          dataTable['output_type'] = 'display_data';\n",
              "          await google.colab.output.renderOutput(dataTable, element);\n",
              "          const docLink = document.createElement('div');\n",
              "          docLink.innerHTML = docLinkHtml;\n",
              "          element.appendChild(docLink);\n",
              "        }\n",
              "      </script>\n",
              "    </div>\n",
              "  </div>\n",
              "  "
            ]
          },
          "metadata": {},
          "execution_count": 13
        }
      ]
    },
    {
      "cell_type": "markdown",
      "source": [
        "### Atividade 3: Padronize os dados."
      ],
      "metadata": {
        "id": "DIZFtzqlOgGL"
      }
    },
    {
      "cell_type": "code",
      "source": [
        "# importar a função\n",
        "from sklearn.preprocessing import StandardScaler\n",
        "\n",
        "# iniciar a função\n",
        "scaler = StandardScaler()\n",
        "\n",
        "# criar uma cópia do DataFrame\n",
        "df_2019_scaled  = df_2019.copy()\n",
        "\n",
        "# remover dados categóricos\n",
        "df_2019_scaled.drop('sigla_uf', inplace=True, axis=1)\n",
        "\n",
        "# remover ano que é constante\n",
        "df_2019_scaled.drop('ano', inplace=True, axis=1)\n",
        "\n",
        "# aplicando a padronização\n",
        "df_2019_scaled[df_2019_scaled.columns] = scaler.fit_transform(df_2019_scaled)\n",
        "\n",
        "# acrescentando a coluna estado\n",
        "df_2019_scaled['sigla_uf'] = df_2019['sigla_uf']\n",
        "\n",
        "df_2019_scaled.head()"
      ],
      "metadata": {
        "id": "ipeYn2F_WGOo",
        "outputId": "529e06a5-9eef-493b-aa9e-3ac93f81a8dd",
        "colab": {
          "base_uri": "https://localhost:8080/",
          "height": 206
        }
      },
      "execution_count": 17,
      "outputs": [
        {
          "output_type": "execute_result",
          "data": {
            "text/plain": [
              "   taxa_aprovacao  nota_saeb_matematica  nota_saeb_lingua_portuguesa  \\\n",
              "0       -0.025280              0.080727                    -0.016434   \n",
              "1        0.801179             -0.437122                    -0.531887   \n",
              "2       -0.426168             -1.474271                    -1.443233   \n",
              "3       -1.670713             -1.889188                    -1.751891   \n",
              "4       -1.323101             -0.713999                    -0.626401   \n",
              "\n",
              "       ideb sigla_uf  \n",
              "0  0.092154       AC  \n",
              "1 -0.201424       AL  \n",
              "2 -1.063297       AM  \n",
              "3 -1.674063       AP  \n",
              "4 -1.060175       BA  "
            ],
            "text/html": [
              "\n",
              "  <div id=\"df-d52887ee-67b9-4631-aea7-8db54ec36db4\">\n",
              "    <div class=\"colab-df-container\">\n",
              "      <div>\n",
              "<style scoped>\n",
              "    .dataframe tbody tr th:only-of-type {\n",
              "        vertical-align: middle;\n",
              "    }\n",
              "\n",
              "    .dataframe tbody tr th {\n",
              "        vertical-align: top;\n",
              "    }\n",
              "\n",
              "    .dataframe thead th {\n",
              "        text-align: right;\n",
              "    }\n",
              "</style>\n",
              "<table border=\"1\" class=\"dataframe\">\n",
              "  <thead>\n",
              "    <tr style=\"text-align: right;\">\n",
              "      <th></th>\n",
              "      <th>taxa_aprovacao</th>\n",
              "      <th>nota_saeb_matematica</th>\n",
              "      <th>nota_saeb_lingua_portuguesa</th>\n",
              "      <th>ideb</th>\n",
              "      <th>sigla_uf</th>\n",
              "    </tr>\n",
              "  </thead>\n",
              "  <tbody>\n",
              "    <tr>\n",
              "      <th>0</th>\n",
              "      <td>-0.025280</td>\n",
              "      <td>0.080727</td>\n",
              "      <td>-0.016434</td>\n",
              "      <td>0.092154</td>\n",
              "      <td>AC</td>\n",
              "    </tr>\n",
              "    <tr>\n",
              "      <th>1</th>\n",
              "      <td>0.801179</td>\n",
              "      <td>-0.437122</td>\n",
              "      <td>-0.531887</td>\n",
              "      <td>-0.201424</td>\n",
              "      <td>AL</td>\n",
              "    </tr>\n",
              "    <tr>\n",
              "      <th>2</th>\n",
              "      <td>-0.426168</td>\n",
              "      <td>-1.474271</td>\n",
              "      <td>-1.443233</td>\n",
              "      <td>-1.063297</td>\n",
              "      <td>AM</td>\n",
              "    </tr>\n",
              "    <tr>\n",
              "      <th>3</th>\n",
              "      <td>-1.670713</td>\n",
              "      <td>-1.889188</td>\n",
              "      <td>-1.751891</td>\n",
              "      <td>-1.674063</td>\n",
              "      <td>AP</td>\n",
              "    </tr>\n",
              "    <tr>\n",
              "      <th>4</th>\n",
              "      <td>-1.323101</td>\n",
              "      <td>-0.713999</td>\n",
              "      <td>-0.626401</td>\n",
              "      <td>-1.060175</td>\n",
              "      <td>BA</td>\n",
              "    </tr>\n",
              "  </tbody>\n",
              "</table>\n",
              "</div>\n",
              "      <button class=\"colab-df-convert\" onclick=\"convertToInteractive('df-d52887ee-67b9-4631-aea7-8db54ec36db4')\"\n",
              "              title=\"Convert this dataframe to an interactive table.\"\n",
              "              style=\"display:none;\">\n",
              "        \n",
              "  <svg xmlns=\"http://www.w3.org/2000/svg\" height=\"24px\"viewBox=\"0 0 24 24\"\n",
              "       width=\"24px\">\n",
              "    <path d=\"M0 0h24v24H0V0z\" fill=\"none\"/>\n",
              "    <path d=\"M18.56 5.44l.94 2.06.94-2.06 2.06-.94-2.06-.94-.94-2.06-.94 2.06-2.06.94zm-11 1L8.5 8.5l.94-2.06 2.06-.94-2.06-.94L8.5 2.5l-.94 2.06-2.06.94zm10 10l.94 2.06.94-2.06 2.06-.94-2.06-.94-.94-2.06-.94 2.06-2.06.94z\"/><path d=\"M17.41 7.96l-1.37-1.37c-.4-.4-.92-.59-1.43-.59-.52 0-1.04.2-1.43.59L10.3 9.45l-7.72 7.72c-.78.78-.78 2.05 0 2.83L4 21.41c.39.39.9.59 1.41.59.51 0 1.02-.2 1.41-.59l7.78-7.78 2.81-2.81c.8-.78.8-2.07 0-2.86zM5.41 20L4 18.59l7.72-7.72 1.47 1.35L5.41 20z\"/>\n",
              "  </svg>\n",
              "      </button>\n",
              "      \n",
              "  <style>\n",
              "    .colab-df-container {\n",
              "      display:flex;\n",
              "      flex-wrap:wrap;\n",
              "      gap: 12px;\n",
              "    }\n",
              "\n",
              "    .colab-df-convert {\n",
              "      background-color: #E8F0FE;\n",
              "      border: none;\n",
              "      border-radius: 50%;\n",
              "      cursor: pointer;\n",
              "      display: none;\n",
              "      fill: #1967D2;\n",
              "      height: 32px;\n",
              "      padding: 0 0 0 0;\n",
              "      width: 32px;\n",
              "    }\n",
              "\n",
              "    .colab-df-convert:hover {\n",
              "      background-color: #E2EBFA;\n",
              "      box-shadow: 0px 1px 2px rgba(60, 64, 67, 0.3), 0px 1px 3px 1px rgba(60, 64, 67, 0.15);\n",
              "      fill: #174EA6;\n",
              "    }\n",
              "\n",
              "    [theme=dark] .colab-df-convert {\n",
              "      background-color: #3B4455;\n",
              "      fill: #D2E3FC;\n",
              "    }\n",
              "\n",
              "    [theme=dark] .colab-df-convert:hover {\n",
              "      background-color: #434B5C;\n",
              "      box-shadow: 0px 1px 3px 1px rgba(0, 0, 0, 0.15);\n",
              "      filter: drop-shadow(0px 1px 2px rgba(0, 0, 0, 0.3));\n",
              "      fill: #FFFFFF;\n",
              "    }\n",
              "  </style>\n",
              "\n",
              "      <script>\n",
              "        const buttonEl =\n",
              "          document.querySelector('#df-d52887ee-67b9-4631-aea7-8db54ec36db4 button.colab-df-convert');\n",
              "        buttonEl.style.display =\n",
              "          google.colab.kernel.accessAllowed ? 'block' : 'none';\n",
              "\n",
              "        async function convertToInteractive(key) {\n",
              "          const element = document.querySelector('#df-d52887ee-67b9-4631-aea7-8db54ec36db4');\n",
              "          const dataTable =\n",
              "            await google.colab.kernel.invokeFunction('convertToInteractive',\n",
              "                                                     [key], {});\n",
              "          if (!dataTable) return;\n",
              "\n",
              "          const docLinkHtml = 'Like what you see? Visit the ' +\n",
              "            '<a target=\"_blank\" href=https://colab.research.google.com/notebooks/data_table.ipynb>data table notebook</a>'\n",
              "            + ' to learn more about interactive tables.';\n",
              "          element.innerHTML = '';\n",
              "          dataTable['output_type'] = 'display_data';\n",
              "          await google.colab.output.renderOutput(dataTable, element);\n",
              "          const docLink = document.createElement('div');\n",
              "          docLink.innerHTML = docLinkHtml;\n",
              "          element.appendChild(docLink);\n",
              "        }\n",
              "      </script>\n",
              "    </div>\n",
              "  </div>\n",
              "  "
            ]
          },
          "metadata": {},
          "execution_count": 17
        }
      ]
    },
    {
      "cell_type": "markdown",
      "source": [
        "### Atividade 4: Use o método do cotovelo para encontrar um valor adequado de k."
      ],
      "metadata": {
        "id": "83C6DDlCO3n9"
      }
    },
    {
      "cell_type": "code",
      "source": [
        "# importar seaborn\n",
        "import seaborn as sns\n",
        "\n",
        "# definir estilo dos gráficos\n",
        "sns.set(style='white', font_scale=1.1, rc={'figure.figsize':(14,5)})\n",
        "\n",
        "# criar o gráfico de dispersão\n",
        "sns.scatterplot(data=df_2019_scaled, x='taxa_aprovacao', y='ideb');\n"
      ],
      "metadata": {
        "id": "uMyX33odWKIE",
        "outputId": "0bb3568c-3a53-44dd-db46-d34c732937cb",
        "colab": {
          "base_uri": "https://localhost:8080/",
          "height": 476
        }
      },
      "execution_count": 18,
      "outputs": [
        {
          "output_type": "display_data",
          "data": {
            "text/plain": [
              "<Figure size 1400x500 with 1 Axes>"
            ],
            "image/png": "[encoded data removed]"
          },
          "metadata": {}
        }
      ]
    },
    {
      "cell_type": "code",
      "source": [
        "# calcular a correlação entre as variáveis\n",
        "df_2019_scaled[['taxa_aprovacao','ideb']].corr()"
      ],
      "metadata": {
        "id": "dblbbIBnLIfD",
        "outputId": "f640b856-b7e0-4993-e285-31a0cbff25da",
        "colab": {
          "base_uri": "https://localhost:8080/",
          "height": 112
        }
      },
      "execution_count": 19,
      "outputs": [
        {
          "output_type": "execute_result",
          "data": {
            "text/plain": [
              "                taxa_aprovacao      ideb\n",
              "taxa_aprovacao        1.000000  0.810383\n",
              "ideb                  0.810383  1.000000"
            ],
            "text/html": [
              "\n",
              "  <div id=\"df-ceefaff8-29df-4e3d-a32a-feeaa5a5c0a0\">\n",
              "    <div class=\"colab-df-container\">\n",
              "      <div>\n",
              "<style scoped>\n",
              "    .dataframe tbody tr th:only-of-type {\n",
              "        vertical-align: middle;\n",
              "    }\n",
              "\n",
              "    .dataframe tbody tr th {\n",
              "        vertical-align: top;\n",
              "    }\n",
              "\n",
              "    .dataframe thead th {\n",
              "        text-align: right;\n",
              "    }\n",
              "</style>\n",
              "<table border=\"1\" class=\"dataframe\">\n",
              "  <thead>\n",
              "    <tr style=\"text-align: right;\">\n",
              "      <th></th>\n",
              "      <th>taxa_aprovacao</th>\n",
              "      <th>ideb</th>\n",
              "    </tr>\n",
              "  </thead>\n",
              "  <tbody>\n",
              "    <tr>\n",
              "      <th>taxa_aprovacao</th>\n",
              "      <td>1.000000</td>\n",
              "      <td>0.810383</td>\n",
              "    </tr>\n",
              "    <tr>\n",
              "      <th>ideb</th>\n",
              "      <td>0.810383</td>\n",
              "      <td>1.000000</td>\n",
              "    </tr>\n",
              "  </tbody>\n",
              "</table>\n",
              "</div>\n",
              "      <button class=\"colab-df-convert\" onclick=\"convertToInteractive('df-ceefaff8-29df-4e3d-a32a-feeaa5a5c0a0')\"\n",
              "              title=\"Convert this dataframe to an interactive table.\"\n",
              "              style=\"display:none;\">\n",
              "        \n",
              "  <svg xmlns=\"http://www.w3.org/2000/svg\" height=\"24px\"viewBox=\"0 0 24 24\"\n",
              "       width=\"24px\">\n",
              "    <path d=\"M0 0h24v24H0V0z\" fill=\"none\"/>\n",
              "    <path d=\"M18.56 5.44l.94 2.06.94-2.06 2.06-.94-2.06-.94-.94-2.06-.94 2.06-2.06.94zm-11 1L8.5 8.5l.94-2.06 2.06-.94-2.06-.94L8.5 2.5l-.94 2.06-2.06.94zm10 10l.94 2.06.94-2.06 2.06-.94-2.06-.94-.94-2.06-.94 2.06-2.06.94z\"/><path d=\"M17.41 7.96l-1.37-1.37c-.4-.4-.92-.59-1.43-.59-.52 0-1.04.2-1.43.59L10.3 9.45l-7.72 7.72c-.78.78-.78 2.05 0 2.83L4 21.41c.39.39.9.59 1.41.59.51 0 1.02-.2 1.41-.59l7.78-7.78 2.81-2.81c.8-.78.8-2.07 0-2.86zM5.41 20L4 18.59l7.72-7.72 1.47 1.35L5.41 20z\"/>\n",
              "  </svg>\n",
              "      </button>\n",
              "      \n",
              "  <style>\n",
              "    .colab-df-container {\n",
              "      display:flex;\n",
              "      flex-wrap:wrap;\n",
              "      gap: 12px;\n",
              "    }\n",
              "\n",
              "    .colab-df-convert {\n",
              "      background-color: #E8F0FE;\n",
              "      border: none;\n",
              "      border-radius: 50%;\n",
              "      cursor: pointer;\n",
              "      display: none;\n",
              "      fill: #1967D2;\n",
              "      height: 32px;\n",
              "      padding: 0 0 0 0;\n",
              "      width: 32px;\n",
              "    }\n",
              "\n",
              "    .colab-df-convert:hover {\n",
              "      background-color: #E2EBFA;\n",
              "      box-shadow: 0px 1px 2px rgba(60, 64, 67, 0.3), 0px 1px 3px 1px rgba(60, 64, 67, 0.15);\n",
              "      fill: #174EA6;\n",
              "    }\n",
              "\n",
              "    [theme=dark] .colab-df-convert {\n",
              "      background-color: #3B4455;\n",
              "      fill: #D2E3FC;\n",
              "    }\n",
              "\n",
              "    [theme=dark] .colab-df-convert:hover {\n",
              "      background-color: #434B5C;\n",
              "      box-shadow: 0px 1px 3px 1px rgba(0, 0, 0, 0.15);\n",
              "      filter: drop-shadow(0px 1px 2px rgba(0, 0, 0, 0.3));\n",
              "      fill: #FFFFFF;\n",
              "    }\n",
              "  </style>\n",
              "\n",
              "      <script>\n",
              "        const buttonEl =\n",
              "          document.querySelector('#df-ceefaff8-29df-4e3d-a32a-feeaa5a5c0a0 button.colab-df-convert');\n",
              "        buttonEl.style.display =\n",
              "          google.colab.kernel.accessAllowed ? 'block' : 'none';\n",
              "\n",
              "        async function convertToInteractive(key) {\n",
              "          const element = document.querySelector('#df-ceefaff8-29df-4e3d-a32a-feeaa5a5c0a0');\n",
              "          const dataTable =\n",
              "            await google.colab.kernel.invokeFunction('convertToInteractive',\n",
              "                                                     [key], {});\n",
              "          if (!dataTable) return;\n",
              "\n",
              "          const docLinkHtml = 'Like what you see? Visit the ' +\n",
              "            '<a target=\"_blank\" href=https://colab.research.google.com/notebooks/data_table.ipynb>data table notebook</a>'\n",
              "            + ' to learn more about interactive tables.';\n",
              "          element.innerHTML = '';\n",
              "          dataTable['output_type'] = 'display_data';\n",
              "          await google.colab.output.renderOutput(dataTable, element);\n",
              "          const docLink = document.createElement('div');\n",
              "          docLink.innerHTML = docLinkHtml;\n",
              "          element.appendChild(docLink);\n",
              "        }\n",
              "      </script>\n",
              "    </div>\n",
              "  </div>\n",
              "  "
            ]
          },
          "metadata": {},
          "execution_count": 19
        }
      ]
    },
    {
      "cell_type": "code",
      "source": [
        "# importar a biblioteca matplotlib\n",
        "import matplotlib.pyplot as plt\n",
        "\n",
        "# definir a inercia\n",
        "inercia = []\n",
        "k_min = 2\n",
        "k_max = 10\n",
        "\n",
        "for i in range(k_min,k_max+1):\n",
        "    kmeans = KMeans(n_clusters=i, random_state=68)\n",
        "    kmeans.fit(df_2019_scaled[['taxa_aprovacao','ideb']])\n",
        "    inercia.append(kmeans.inertia_)\n",
        "\n",
        "# criar o gráfico de cotovelo \n",
        "sns.lineplot(x=range(k_min,k_max+1), y=inercia, marker='o')\n",
        "plt.title('Soma dos Quadrados Intra-Cluster')\n",
        "plt.xlabel('Número de Clusters')\n",
        "plt.grid(True)"
      ],
      "metadata": {
        "id": "7B9Q5hZcMDo6",
        "outputId": "7a8be6f2-5658-400c-a3ef-bd0fa01c7885",
        "colab": {
          "base_uri": "https://localhost:8080/",
          "height": 831
        }
      },
      "execution_count": 26,
      "outputs": [
        {
          "output_type": "stream",
          "name": "stderr",
          "text": [
            "/usr/local/lib/python3.10/dist-packages/sklearn/cluster/_kmeans.py:870: FutureWarning: The default value of `n_init` will change from 10 to 'auto' in 1.4. Set the value of `n_init` explicitly to suppress the warning\n",
            "  warnings.warn(\n",
            "/usr/local/lib/python3.10/dist-packages/sklearn/cluster/_kmeans.py:870: FutureWarning: The default value of `n_init` will change from 10 to 'auto' in 1.4. Set the value of `n_init` explicitly to suppress the warning\n",
            "  warnings.warn(\n",
            "/usr/local/lib/python3.10/dist-packages/sklearn/cluster/_kmeans.py:870: FutureWarning: The default value of `n_init` will change from 10 to 'auto' in 1.4. Set the value of `n_init` explicitly to suppress the warning\n",
            "  warnings.warn(\n",
            "/usr/local/lib/python3.10/dist-packages/sklearn/cluster/_kmeans.py:870: FutureWarning: The default value of `n_init` will change from 10 to 'auto' in 1.4. Set the value of `n_init` explicitly to suppress the warning\n",
            "  warnings.warn(\n",
            "/usr/local/lib/python3.10/dist-packages/sklearn/cluster/_kmeans.py:870: FutureWarning: The default value of `n_init` will change from 10 to 'auto' in 1.4. Set the value of `n_init` explicitly to suppress the warning\n",
            "  warnings.warn(\n",
            "/usr/local/lib/python3.10/dist-packages/sklearn/cluster/_kmeans.py:870: FutureWarning: The default value of `n_init` will change from 10 to 'auto' in 1.4. Set the value of `n_init` explicitly to suppress the warning\n",
            "  warnings.warn(\n",
            "/usr/local/lib/python3.10/dist-packages/sklearn/cluster/_kmeans.py:870: FutureWarning: The default value of `n_init` will change from 10 to 'auto' in 1.4. Set the value of `n_init` explicitly to suppress the warning\n",
            "  warnings.warn(\n",
            "/usr/local/lib/python3.10/dist-packages/sklearn/cluster/_kmeans.py:870: FutureWarning: The default value of `n_init` will change from 10 to 'auto' in 1.4. Set the value of `n_init` explicitly to suppress the warning\n",
            "  warnings.warn(\n",
            "/usr/local/lib/python3.10/dist-packages/sklearn/cluster/_kmeans.py:870: FutureWarning: The default value of `n_init` will change from 10 to 'auto' in 1.4. Set the value of `n_init` explicitly to suppress the warning\n",
            "  warnings.warn(\n"
          ]
        },
        {
          "output_type": "display_data",
          "data": {
            "text/plain": [
              "<Figure size 1400x500 with 1 Axes>"
            ],
            "image/png": "[encoded data removed]"
          },
          "metadata": {}
        }
      ]
    },
    {
      "cell_type": "code",
      "source": [
        "# definir a métrica\n",
        "\n",
        "def numero_otimo_clusters(k_min, k_max):\n",
        "    from sklearn.cluster import KMeans\n",
        "    import math\n",
        "    inercia = []\n",
        "\n",
        "    for i in range(k_min,k_max+1):\n",
        "        kmeans = KMeans(n_clusters=i, random_state=68)\n",
        "        kmeans.fit(df_2019_scaled[['taxa_aprovacao','ideb']])\n",
        "        inercia.append(kmeans.inertia_)\n",
        "    \n",
        "    x0, y0 = k_min, inercia[0]\n",
        "    x1, y1 = k_max, inercia[len(inercia)-1]\n",
        "\n",
        "    distancias = []\n",
        "    for i in range(len(inercia)):\n",
        "        x = i+k_min\n",
        "        y = inercia[i]\n",
        "        numerador = abs( (y1-y0)*x - (x1-x0)*y + x1*y0 - y1*x0 )\n",
        "        denominador = math.sqrt( (y1 - y0)**2 + (x1 - x0)**2 )\n",
        "        distancias.append(numerador/denominador)\n",
        "    return distancias.index(max(distancias)) + 2\n",
        "\n",
        "# calcular a quantidade ótima de clusters\n",
        "k_otimo = numero_otimo_clusters(2,10)\n",
        "\n",
        "print('Número otimizado de clusters: ' + str(k_otimo))"
      ],
      "metadata": {
        "id": "ouDOLAQGNwM1",
        "outputId": "3f3f5a02-e9b7-46bf-9f5d-1bf1ba9b862e",
        "colab": {
          "base_uri": "https://localhost:8080/"
        }
      },
      "execution_count": 27,
      "outputs": [
        {
          "output_type": "stream",
          "name": "stdout",
          "text": [
            "Número otimizado de clusters: 4\n"
          ]
        },
        {
          "output_type": "stream",
          "name": "stderr",
          "text": [
            "/usr/local/lib/python3.10/dist-packages/sklearn/cluster/_kmeans.py:870: FutureWarning: The default value of `n_init` will change from 10 to 'auto' in 1.4. Set the value of `n_init` explicitly to suppress the warning\n",
            "  warnings.warn(\n",
            "/usr/local/lib/python3.10/dist-packages/sklearn/cluster/_kmeans.py:870: FutureWarning: The default value of `n_init` will change from 10 to 'auto' in 1.4. Set the value of `n_init` explicitly to suppress the warning\n",
            "  warnings.warn(\n",
            "/usr/local/lib/python3.10/dist-packages/sklearn/cluster/_kmeans.py:870: FutureWarning: The default value of `n_init` will change from 10 to 'auto' in 1.4. Set the value of `n_init` explicitly to suppress the warning\n",
            "  warnings.warn(\n",
            "/usr/local/lib/python3.10/dist-packages/sklearn/cluster/_kmeans.py:870: FutureWarning: The default value of `n_init` will change from 10 to 'auto' in 1.4. Set the value of `n_init` explicitly to suppress the warning\n",
            "  warnings.warn(\n",
            "/usr/local/lib/python3.10/dist-packages/sklearn/cluster/_kmeans.py:870: FutureWarning: The default value of `n_init` will change from 10 to 'auto' in 1.4. Set the value of `n_init` explicitly to suppress the warning\n",
            "  warnings.warn(\n",
            "/usr/local/lib/python3.10/dist-packages/sklearn/cluster/_kmeans.py:870: FutureWarning: The default value of `n_init` will change from 10 to 'auto' in 1.4. Set the value of `n_init` explicitly to suppress the warning\n",
            "  warnings.warn(\n",
            "/usr/local/lib/python3.10/dist-packages/sklearn/cluster/_kmeans.py:870: FutureWarning: The default value of `n_init` will change from 10 to 'auto' in 1.4. Set the value of `n_init` explicitly to suppress the warning\n",
            "  warnings.warn(\n",
            "/usr/local/lib/python3.10/dist-packages/sklearn/cluster/_kmeans.py:870: FutureWarning: The default value of `n_init` will change from 10 to 'auto' in 1.4. Set the value of `n_init` explicitly to suppress the warning\n",
            "  warnings.warn(\n",
            "/usr/local/lib/python3.10/dist-packages/sklearn/cluster/_kmeans.py:870: FutureWarning: The default value of `n_init` will change from 10 to 'auto' in 1.4. Set the value of `n_init` explicitly to suppress the warning\n",
            "  warnings.warn(\n"
          ]
        }
      ]
    },
    {
      "cell_type": "markdown",
      "source": [
        "### Atividade 5: Use o método da silhueta para encontrar um valor adequado de k"
      ],
      "metadata": {
        "id": "OCXL1qDNPAwg"
      }
    },
    {
      "cell_type": "code",
      "source": [
        "# importar a métrica\n",
        "from sklearn.metrics import silhouette_score\n",
        "\n",
        "# definir a métrica\n",
        "silhueta = []\n",
        "k_min = 2\n",
        "k_max = 10\n",
        "n = [i for i in range(k_min, k_max+1)]\n",
        "\n",
        "for i in range(k_min,k_max+1):\n",
        "    kmeans = KMeans(n_clusters=i, random_state=68)\n",
        "    kmeans.fit(df_2019_scaled[['taxa_aprovacao','ideb']])\n",
        "    silhueta.append(silhouette_score(df_2019_scaled[['taxa_aprovacao','ideb']],\n",
        "                                     kmeans.labels_,\n",
        "                                     metric='euclidean'))\n",
        "\n",
        "sns.barplot(x=n, y=silhueta, color='red')\n",
        "plt.title('Coeficiente de Silhueta')\n",
        "plt.xlabel('Número de Clusters')\n",
        "plt.grid(True)"
      ],
      "metadata": {
        "id": "FHq5nB27WLdW",
        "outputId": "23602310-e435-44d2-910a-f0aa69e3cf66",
        "colab": {
          "base_uri": "https://localhost:8080/",
          "height": 831
        }
      },
      "execution_count": 28,
      "outputs": [
        {
          "output_type": "stream",
          "name": "stderr",
          "text": [
            "/usr/local/lib/python3.10/dist-packages/sklearn/cluster/_kmeans.py:870: FutureWarning: The default value of `n_init` will change from 10 to 'auto' in 1.4. Set the value of `n_init` explicitly to suppress the warning\n",
            "  warnings.warn(\n",
            "/usr/local/lib/python3.10/dist-packages/sklearn/cluster/_kmeans.py:870: FutureWarning: The default value of `n_init` will change from 10 to 'auto' in 1.4. Set the value of `n_init` explicitly to suppress the warning\n",
            "  warnings.warn(\n",
            "/usr/local/lib/python3.10/dist-packages/sklearn/cluster/_kmeans.py:870: FutureWarning: The default value of `n_init` will change from 10 to 'auto' in 1.4. Set the value of `n_init` explicitly to suppress the warning\n",
            "  warnings.warn(\n",
            "/usr/local/lib/python3.10/dist-packages/sklearn/cluster/_kmeans.py:870: FutureWarning: The default value of `n_init` will change from 10 to 'auto' in 1.4. Set the value of `n_init` explicitly to suppress the warning\n",
            "  warnings.warn(\n",
            "/usr/local/lib/python3.10/dist-packages/sklearn/cluster/_kmeans.py:870: FutureWarning: The default value of `n_init` will change from 10 to 'auto' in 1.4. Set the value of `n_init` explicitly to suppress the warning\n",
            "  warnings.warn(\n",
            "/usr/local/lib/python3.10/dist-packages/sklearn/cluster/_kmeans.py:870: FutureWarning: The default value of `n_init` will change from 10 to 'auto' in 1.4. Set the value of `n_init` explicitly to suppress the warning\n",
            "  warnings.warn(\n",
            "/usr/local/lib/python3.10/dist-packages/sklearn/cluster/_kmeans.py:870: FutureWarning: The default value of `n_init` will change from 10 to 'auto' in 1.4. Set the value of `n_init` explicitly to suppress the warning\n",
            "  warnings.warn(\n",
            "/usr/local/lib/python3.10/dist-packages/sklearn/cluster/_kmeans.py:870: FutureWarning: The default value of `n_init` will change from 10 to 'auto' in 1.4. Set the value of `n_init` explicitly to suppress the warning\n",
            "  warnings.warn(\n",
            "/usr/local/lib/python3.10/dist-packages/sklearn/cluster/_kmeans.py:870: FutureWarning: The default value of `n_init` will change from 10 to 'auto' in 1.4. Set the value of `n_init` explicitly to suppress the warning\n",
            "  warnings.warn(\n"
          ]
        },
        {
          "output_type": "display_data",
          "data": {
            "text/plain": [
              "<Figure size 1400x500 with 1 Axes>"
            ],
            "image/png": "[encoded data removed]"
          },
          "metadata": {}
        }
      ]
    },
    {
      "cell_type": "code",
      "source": [
        "#fazer sobreposição do cotovelo com silhueta\n",
        "fig, ax = plt.subplots()\n",
        "sns.lineplot(x=range(k_min,k_max+1), y=inercia, marker='o')\n",
        "plt.legend(labels=[\"cotovelo\"], bbox_to_anchor=(0.8, 1), loc='upper right')\n",
        "ax2 = ax.twinx()\n",
        "sns.lineplot(x=range(k_min,k_max+1), y=silhueta, marker='o', color='red')\n",
        "plt.legend(labels=[\"silhueta\"], bbox_to_anchor=(0.8, 0.9), loc='upper right');"
      ],
      "metadata": {
        "id": "ylaCE0ELO-lR",
        "outputId": "359ef870-f332-42d2-b237-e1d2c0f46196",
        "colab": {
          "base_uri": "https://localhost:8080/",
          "height": 453
        }
      },
      "execution_count": 29,
      "outputs": [
        {
          "output_type": "display_data",
          "data": {
            "text/plain": [
              "<Figure size 1400x500 with 2 Axes>"
            ],
            "image/png": "[encoded data removed]"
          },
          "metadata": {}
        }
      ]
    },
    {
      "cell_type": "markdown",
      "source": [
        "### Atividade 6: Faça a clusterização com o valor escolhido para k."
      ],
      "metadata": {
        "id": "2p-vTKMfOoUZ"
      }
    },
    {
      "cell_type": "code",
      "source": [
        "# importar o KMeans\n",
        "from sklearn.cluster import KMeans\n",
        "\n",
        "# instanciar o algoritmo usando o k de 4 definido anteriormente\n",
        "kmeans = KMeans(n_clusters=4, random_state=68)\n",
        "\n",
        "# aplicar o algoritmo aos dados \n",
        "kmeans.fit(df_2019_scaled[['taxa_aprovacao', 'ideb']])"
      ],
      "metadata": {
        "id": "4Us4bPppLh9Z",
        "outputId": "6eb18fdc-7a21-4041-8b79-d5e367f1e178",
        "colab": {
          "base_uri": "https://localhost:8080/",
          "height": 129
        }
      },
      "execution_count": 30,
      "outputs": [
        {
          "output_type": "stream",
          "name": "stderr",
          "text": [
            "/usr/local/lib/python3.10/dist-packages/sklearn/cluster/_kmeans.py:870: FutureWarning: The default value of `n_init` will change from 10 to 'auto' in 1.4. Set the value of `n_init` explicitly to suppress the warning\n",
            "  warnings.warn(\n"
          ]
        },
        {
          "output_type": "execute_result",
          "data": {
            "text/plain": [
              "KMeans(n_clusters=4, random_state=68)"
            ],
            "text/html": [
              "<style>#sk-container-id-4 {color: black;background-color: white;}#sk-container-id-4 pre{padding: 0;}#sk-container-id-4 div.sk-toggleable {background-color: white;}#sk-container-id-4 label.sk-toggleable__label {cursor: pointer;display: block;width: 100%;margin-bottom: 0;padding: 0.3em;box-sizing: border-box;text-align: center;}#sk-container-id-4 label.sk-toggleable__label-arrow:before {content: \"▸\";float: left;margin-right: 0.25em;color: #696969;}#sk-container-id-4 label.sk-toggleable__label-arrow:hover:before {color: black;}#sk-container-id-4 div.sk-estimator:hover label.sk-toggleable__label-arrow:before {color: black;}#sk-container-id-4 div.sk-toggleable__content {max-height: 0;max-width: 0;overflow: hidden;text-align: left;background-color: #f0f8ff;}#sk-container-id-4 div.sk-toggleable__content pre {margin: 0.2em;color: black;border-radius: 0.25em;background-color: #f0f8ff;}#sk-container-id-4 input.sk-toggleable__control:checked~div.sk-toggleable__content {max-height: 200px;max-width: 100%;overflow: auto;}#sk-container-id-4 input.sk-toggleable__control:checked~label.sk-toggleable__label-arrow:before {content: \"▾\";}#sk-container-id-4 div.sk-estimator input.sk-toggleable__control:checked~label.sk-toggleable__label {background-color: #d4ebff;}#sk-container-id-4 div.sk-label input.sk-toggleable__control:checked~label.sk-toggleable__label {background-color: #d4ebff;}#sk-container-id-4 input.sk-hidden--visually {border: 0;clip: rect(1px 1px 1px 1px);clip: rect(1px, 1px, 1px, 1px);height: 1px;margin: -1px;overflow: hidden;padding: 0;position: absolute;width: 1px;}#sk-container-id-4 div.sk-estimator {font-family: monospace;background-color: #f0f8ff;border: 1px dotted black;border-radius: 0.25em;box-sizing: border-box;margin-bottom: 0.5em;}#sk-container-id-4 div.sk-estimator:hover {background-color: #d4ebff;}#sk-container-id-4 div.sk-parallel-item::after {content: \"\";width: 100%;border-bottom: 1px solid gray;flex-grow: 1;}#sk-container-id-4 div.sk-label:hover label.sk-toggleable__label {background-color: #d4ebff;}#sk-container-id-4 div.sk-serial::before {content: \"\";position: absolute;border-left: 1px solid gray;box-sizing: border-box;top: 0;bottom: 0;left: 50%;z-index: 0;}#sk-container-id-4 div.sk-serial {display: flex;flex-direction: column;align-items: center;background-color: white;padding-right: 0.2em;padding-left: 0.2em;position: relative;}#sk-container-id-4 div.sk-item {position: relative;z-index: 1;}#sk-container-id-4 div.sk-parallel {display: flex;align-items: stretch;justify-content: center;background-color: white;position: relative;}#sk-container-id-4 div.sk-item::before, #sk-container-id-4 div.sk-parallel-item::before {content: \"\";position: absolute;border-left: 1px solid gray;box-sizing: border-box;top: 0;bottom: 0;left: 50%;z-index: -1;}#sk-container-id-4 div.sk-parallel-item {display: flex;flex-direction: column;z-index: 1;position: relative;background-color: white;}#sk-container-id-4 div.sk-parallel-item:first-child::after {align-self: flex-end;width: 50%;}#sk-container-id-4 div.sk-parallel-item:last-child::after {align-self: flex-start;width: 50%;}#sk-container-id-4 div.sk-parallel-item:only-child::after {width: 0;}#sk-container-id-4 div.sk-dashed-wrapped {border: 1px dashed gray;margin: 0 0.4em 0.5em 0.4em;box-sizing: border-box;padding-bottom: 0.4em;background-color: white;}#sk-container-id-4 div.sk-label label {font-family: monospace;font-weight: bold;display: inline-block;line-height: 1.2em;}#sk-container-id-4 div.sk-label-container {text-align: center;}#sk-container-id-4 div.sk-container {/* jupyter's `normalize.less` sets `[hidden] { display: none; }` but bootstrap.min.css set `[hidden] { display: none !important; }` so we also need the `!important` here to be able to override the default hidden behavior on the sphinx rendered scikit-learn.org. See: https://github.com/scikit-learn/scikit-learn/issues/21755 */display: inline-block !important;position: relative;}#sk-container-id-4 div.sk-text-repr-fallback {display: none;}</style><div id=\"sk-container-id-4\" class=\"sk-top-container\"><div class=\"sk-text-repr-fallback\"><pre>KMeans(n_clusters=4, random_state=68)</pre><b>In a Jupyter environment, please rerun this cell to show the HTML representation or trust the notebook. <br />On GitHub, the HTML representation is unable to render, please try loading this page with nbviewer.org.</b></div><div class=\"sk-container\" hidden><div class=\"sk-item\"><div class=\"sk-estimator sk-toggleable\"><input class=\"sk-toggleable__control sk-hidden--visually\" id=\"sk-estimator-id-4\" type=\"checkbox\" checked><label for=\"sk-estimator-id-4\" class=\"sk-toggleable__label sk-toggleable__label-arrow\">KMeans</label><div class=\"sk-toggleable__content\"><pre>KMeans(n_clusters=4, random_state=68)</pre></div></div></div></div></div>"
            ]
          },
          "metadata": {},
          "execution_count": 30
        }
      ]
    },
    {
      "cell_type": "code",
      "source": [
        "# ver os grupos\n",
        "kmeans.labels_"
      ],
      "metadata": {
        "id": "pQAt8s0-L0VS",
        "outputId": "69ac9945-d9e3-478c-f90f-b0433f88200b",
        "colab": {
          "base_uri": "https://localhost:8080/"
        }
      },
      "execution_count": 31,
      "outputs": [
        {
          "output_type": "execute_result",
          "data": {
            "text/plain": [
              "array([1, 1, 0, 3, 3, 2, 1, 2, 2, 0, 1, 1, 1, 3, 0, 1, 0, 2, 1, 3, 1, 0,\n",
              "       1, 1, 3, 2, 1], dtype=int32)"
            ]
          },
          "metadata": {},
          "execution_count": 31
        }
      ]
    },
    {
      "cell_type": "code",
      "source": [
        "# adicionar os grupos encontrados ao DataFrame\n",
        "df_2019['grupos'] = kmeans.labels_.tolist()\n",
        "df_2019.head()"
      ],
      "metadata": {
        "id": "Q1G_k2HfQAwu",
        "outputId": "176cd3c6-0647-4ab4-cd53-db34c3cfa3e4",
        "colab": {
          "base_uri": "https://localhost:8080/",
          "height": 206
        }
      },
      "execution_count": 32,
      "outputs": [
        {
          "output_type": "execute_result",
          "data": {
            "text/plain": [
              "  sigla_uf     ano  taxa_aprovacao  nota_saeb_matematica  \\\n",
              "0       AC  2019.0       88.561184            245.253478   \n",
              "1       AL  2019.0       92.081591            237.883189   \n",
              "2       AM  2019.0       86.853550            223.121965   \n",
              "3       AP  2019.0       81.552252            217.216667   \n",
              "4       BA  2019.0       83.032948            233.942537   \n",
              "\n",
              "   nota_saeb_lingua_portuguesa      ideb  grupos  \n",
              "0                   237.995942  4.671739       1  \n",
              "1                   231.412708  4.509295       1  \n",
              "2                   219.773218  4.032397       0  \n",
              "3                   215.831111  3.694444       3  \n",
              "4                   230.205596  4.034125       3  "
            ],
            "text/html": [
              "\n",
              "  <div id=\"df-89ff6361-5ec8-48ad-962a-635c1e88dcda\">\n",
              "    <div class=\"colab-df-container\">\n",
              "      <div>\n",
              "<style scoped>\n",
              "    .dataframe tbody tr th:only-of-type {\n",
              "        vertical-align: middle;\n",
              "    }\n",
              "\n",
              "    .dataframe tbody tr th {\n",
              "        vertical-align: top;\n",
              "    }\n",
              "\n",
              "    .dataframe thead th {\n",
              "        text-align: right;\n",
              "    }\n",
              "</style>\n",
              "<table border=\"1\" class=\"dataframe\">\n",
              "  <thead>\n",
              "    <tr style=\"text-align: right;\">\n",
              "      <th></th>\n",
              "      <th>sigla_uf</th>\n",
              "      <th>ano</th>\n",
              "      <th>taxa_aprovacao</th>\n",
              "      <th>nota_saeb_matematica</th>\n",
              "      <th>nota_saeb_lingua_portuguesa</th>\n",
              "      <th>ideb</th>\n",
              "      <th>grupos</th>\n",
              "    </tr>\n",
              "  </thead>\n",
              "  <tbody>\n",
              "    <tr>\n",
              "      <th>0</th>\n",
              "      <td>AC</td>\n",
              "      <td>2019.0</td>\n",
              "      <td>88.561184</td>\n",
              "      <td>245.253478</td>\n",
              "      <td>237.995942</td>\n",
              "      <td>4.671739</td>\n",
              "      <td>1</td>\n",
              "    </tr>\n",
              "    <tr>\n",
              "      <th>1</th>\n",
              "      <td>AL</td>\n",
              "      <td>2019.0</td>\n",
              "      <td>92.081591</td>\n",
              "      <td>237.883189</td>\n",
              "      <td>231.412708</td>\n",
              "      <td>4.509295</td>\n",
              "      <td>1</td>\n",
              "    </tr>\n",
              "    <tr>\n",
              "      <th>2</th>\n",
              "      <td>AM</td>\n",
              "      <td>2019.0</td>\n",
              "      <td>86.853550</td>\n",
              "      <td>223.121965</td>\n",
              "      <td>219.773218</td>\n",
              "      <td>4.032397</td>\n",
              "      <td>0</td>\n",
              "    </tr>\n",
              "    <tr>\n",
              "      <th>3</th>\n",
              "      <td>AP</td>\n",
              "      <td>2019.0</td>\n",
              "      <td>81.552252</td>\n",
              "      <td>217.216667</td>\n",
              "      <td>215.831111</td>\n",
              "      <td>3.694444</td>\n",
              "      <td>3</td>\n",
              "    </tr>\n",
              "    <tr>\n",
              "      <th>4</th>\n",
              "      <td>BA</td>\n",
              "      <td>2019.0</td>\n",
              "      <td>83.032948</td>\n",
              "      <td>233.942537</td>\n",
              "      <td>230.205596</td>\n",
              "      <td>4.034125</td>\n",
              "      <td>3</td>\n",
              "    </tr>\n",
              "  </tbody>\n",
              "</table>\n",
              "</div>\n",
              "      <button class=\"colab-df-convert\" onclick=\"convertToInteractive('df-89ff6361-5ec8-48ad-962a-635c1e88dcda')\"\n",
              "              title=\"Convert this dataframe to an interactive table.\"\n",
              "              style=\"display:none;\">\n",
              "        \n",
              "  <svg xmlns=\"http://www.w3.org/2000/svg\" height=\"24px\"viewBox=\"0 0 24 24\"\n",
              "       width=\"24px\">\n",
              "    <path d=\"M0 0h24v24H0V0z\" fill=\"none\"/>\n",
              "    <path d=\"M18.56 5.44l.94 2.06.94-2.06 2.06-.94-2.06-.94-.94-2.06-.94 2.06-2.06.94zm-11 1L8.5 8.5l.94-2.06 2.06-.94-2.06-.94L8.5 2.5l-.94 2.06-2.06.94zm10 10l.94 2.06.94-2.06 2.06-.94-2.06-.94-.94-2.06-.94 2.06-2.06.94z\"/><path d=\"M17.41 7.96l-1.37-1.37c-.4-.4-.92-.59-1.43-.59-.52 0-1.04.2-1.43.59L10.3 9.45l-7.72 7.72c-.78.78-.78 2.05 0 2.83L4 21.41c.39.39.9.59 1.41.59.51 0 1.02-.2 1.41-.59l7.78-7.78 2.81-2.81c.8-.78.8-2.07 0-2.86zM5.41 20L4 18.59l7.72-7.72 1.47 1.35L5.41 20z\"/>\n",
              "  </svg>\n",
              "      </button>\n",
              "      \n",
              "  <style>\n",
              "    .colab-df-container {\n",
              "      display:flex;\n",
              "      flex-wrap:wrap;\n",
              "      gap: 12px;\n",
              "    }\n",
              "\n",
              "    .colab-df-convert {\n",
              "      background-color: #E8F0FE;\n",
              "      border: none;\n",
              "      border-radius: 50%;\n",
              "      cursor: pointer;\n",
              "      display: none;\n",
              "      fill: #1967D2;\n",
              "      height: 32px;\n",
              "      padding: 0 0 0 0;\n",
              "      width: 32px;\n",
              "    }\n",
              "\n",
              "    .colab-df-convert:hover {\n",
              "      background-color: #E2EBFA;\n",
              "      box-shadow: 0px 1px 2px rgba(60, 64, 67, 0.3), 0px 1px 3px 1px rgba(60, 64, 67, 0.15);\n",
              "      fill: #174EA6;\n",
              "    }\n",
              "\n",
              "    [theme=dark] .colab-df-convert {\n",
              "      background-color: #3B4455;\n",
              "      fill: #D2E3FC;\n",
              "    }\n",
              "\n",
              "    [theme=dark] .colab-df-convert:hover {\n",
              "      background-color: #434B5C;\n",
              "      box-shadow: 0px 1px 3px 1px rgba(0, 0, 0, 0.15);\n",
              "      filter: drop-shadow(0px 1px 2px rgba(0, 0, 0, 0.3));\n",
              "      fill: #FFFFFF;\n",
              "    }\n",
              "  </style>\n",
              "\n",
              "      <script>\n",
              "        const buttonEl =\n",
              "          document.querySelector('#df-89ff6361-5ec8-48ad-962a-635c1e88dcda button.colab-df-convert');\n",
              "        buttonEl.style.display =\n",
              "          google.colab.kernel.accessAllowed ? 'block' : 'none';\n",
              "\n",
              "        async function convertToInteractive(key) {\n",
              "          const element = document.querySelector('#df-89ff6361-5ec8-48ad-962a-635c1e88dcda');\n",
              "          const dataTable =\n",
              "            await google.colab.kernel.invokeFunction('convertToInteractive',\n",
              "                                                     [key], {});\n",
              "          if (!dataTable) return;\n",
              "\n",
              "          const docLinkHtml = 'Like what you see? Visit the ' +\n",
              "            '<a target=\"_blank\" href=https://colab.research.google.com/notebooks/data_table.ipynb>data table notebook</a>'\n",
              "            + ' to learn more about interactive tables.';\n",
              "          element.innerHTML = '';\n",
              "          dataTable['output_type'] = 'display_data';\n",
              "          await google.colab.output.renderOutput(dataTable, element);\n",
              "          const docLink = document.createElement('div');\n",
              "          docLink.innerHTML = docLinkHtml;\n",
              "          element.appendChild(docLink);\n",
              "        }\n",
              "      </script>\n",
              "    </div>\n",
              "  </div>\n",
              "  "
            ]
          },
          "metadata": {},
          "execution_count": 32
        }
      ]
    },
    {
      "cell_type": "markdown",
      "source": [
        "### Atividade 7: Faça um gráfico de dispersão destacando cada grupo."
      ],
      "metadata": {
        "id": "otEYFO5KOshc"
      }
    },
    {
      "cell_type": "code",
      "source": [
        "# criar um gráfico de dispersão levando em consideração os grupos\n",
        "sns.scatterplot(data=df_2019, x='taxa_aprovacao', y='ideb', hue='grupos', palette='tab10');\n",
        "\n",
        "# criar listas que serviram de apoio para anotar a sigla de cada estado no gráfico\n",
        "taxa_aprovacao = df_2019['taxa_aprovacao']\n",
        "ideb = df_2019['ideb']\n",
        "estados = ['AC','AL','AM','AP','BA','CE','DF','ES','GO','MA','MG','MS','MT',\n",
        "           'PA','PB','PE','PI','PR','RJ','RN','RO','RR','RS','SC','SE','SP','TO']\n",
        "\n",
        "# anotando os 'nomes' de cada ponto\n",
        "for i, estado in enumerate(estados):\n",
        "    plt.annotate(estados[i], (taxa_aprovacao[i], ideb[i]) );"
      ],
      "metadata": {
        "id": "vC91Txh9WO6C",
        "outputId": "2cdcccfd-dc6c-46a0-f19e-2acf6f9fbb66",
        "colab": {
          "base_uri": "https://localhost:8080/",
          "height": 476
        }
      },
      "execution_count": 50,
      "outputs": [
        {
          "output_type": "display_data",
          "data": {
            "text/plain": [
              "<Figure size 1400x500 with 1 Axes>"
            ],
            "image/png": "[encoded data removed]"
          },
          "metadata": {}
        }
      ]
    },
    {
      "cell_type": "markdown",
      "source": [
        "### Atividade 8: Quais são os estados de cada grupo?"
      ],
      "metadata": {
        "id": "VcXRkwdVOxwN"
      }
    },
    {
      "cell_type": "code",
      "source": [
        "# listar os grupos\n",
        "df_agrupado = df_2019.groupby('grupos')['sigla_uf'].apply(list)\n",
        "print(df_agrupado)"
      ],
      "metadata": {
        "id": "30ybTnxRWQ8n",
        "outputId": "ae9f76e2-4bc7-4064-9c04-87822dab0c4b",
        "colab": {
          "base_uri": "https://localhost:8080/"
        }
      },
      "execution_count": 55,
      "outputs": [
        {
          "output_type": "stream",
          "name": "stdout",
          "text": [
            "grupos\n",
            "0                                [AM, MA, PB, PI, RR]\n",
            "1    [AC, AL, DF, MG, MS, MT, PE, RJ, RO, RS, SC, TO]\n",
            "2                                [CE, ES, GO, PR, SP]\n",
            "3                                [AP, BA, PA, RN, SE]\n",
            "Name: sigla_uf, dtype: object\n"
          ]
        }
      ]
    },
    {
      "cell_type": "markdown",
      "source": [
        "### Atividade 9: Faça um boxplot para comparar os valores das variáveis por grupo."
      ],
      "metadata": {
        "id": "ZdgBTz3Zcuc4"
      }
    },
    {
      "cell_type": "code",
      "source": [
        "# criar boxplot para ver os valores de ideb por grupo\n",
        "sns.boxplot(data = df_2019, x = 'grupos', y ='ideb')"
      ],
      "metadata": {
        "id": "gt_ESjVxWTis",
        "outputId": "f314efd1-b14e-4739-af06-ac3bc0fb281d",
        "colab": {
          "base_uri": "https://localhost:8080/",
          "height": 493
        }
      },
      "execution_count": 52,
      "outputs": [
        {
          "output_type": "execute_result",
          "data": {
            "text/plain": [
              "<Axes: xlabel='grupos', ylabel='ideb'>"
            ]
          },
          "metadata": {},
          "execution_count": 52
        },
        {
          "output_type": "display_data",
          "data": {
            "text/plain": [
              "<Figure size 1400x500 with 1 Axes>"
            ],
            "image/png": "[encoded data removed]"
          },
          "metadata": {}
        }
      ]
    },
    {
      "cell_type": "code",
      "source": [
        "# criar boxplot para ver os valores de taxa_aprovacao por grupo\n",
        "sns.boxplot(data = df_2019, x = 'grupos', y ='taxa_aprovacao')"
      ],
      "metadata": {
        "id": "2wGsRh1XTa6E",
        "outputId": "cb6f6ad8-9f12-45b7-c99b-64bde2843233",
        "colab": {
          "base_uri": "https://localhost:8080/",
          "height": 493
        }
      },
      "execution_count": 53,
      "outputs": [
        {
          "output_type": "execute_result",
          "data": {
            "text/plain": [
              "<Axes: xlabel='grupos', ylabel='taxa_aprovacao'>"
            ]
          },
          "metadata": {},
          "execution_count": 53
        },
        {
          "output_type": "display_data",
          "data": {
            "text/plain": [
              "<Figure size 1400x500 with 1 Axes>"
            ],
            "image/png": "[encoded data removed]"
          },
          "metadata": {}
        }
      ]
    },
    {
      "cell_type": "markdown",
      "source": [
        "### Atividade 10: Podemos afirmar, estatisticamente, que os grupos são distintos? Isto é, os dados foram adequadamente clusterizados?"
      ],
      "metadata": {
        "id": "WMzMCRWXf0yQ"
      }
    },
    {
      "cell_type": "code",
      "source": [
        "# fazer teste post-hoc para ver se os grupos tem ideb diferentes\n",
        "from statsmodels.stats.multicomp import pairwise_tukeyhsd\n",
        "\n",
        "print(pairwise_tukeyhsd(endog = df_2019['ideb'],\n",
        "                  groups = df_2019['grupos'],\n",
        "                  alpha = 0.05)\n",
        ")\n"
      ],
      "metadata": {
        "id": "cmgCqWffWV7D",
        "outputId": "cacb65db-29ff-4099-ca14-414e663c959a",
        "colab": {
          "base_uri": "https://localhost:8080/"
        }
      },
      "execution_count": 57,
      "outputs": [
        {
          "output_type": "stream",
          "name": "stdout",
          "text": [
            "Multiple Comparison of Means - Tukey HSD, FWER=0.05 \n",
            "====================================================\n",
            "group1 group2 meandiff p-adj   lower   upper  reject\n",
            "----------------------------------------------------\n",
            "     0      1    0.726    0.0  0.4233  1.0287   True\n",
            "     0      2   1.2613    0.0  0.9016   1.621   True\n",
            "     0      3   -0.213 0.3778 -0.5727  0.1467  False\n",
            "     1      2   0.5353 0.0003  0.2326   0.838   True\n",
            "     1      3   -0.939    0.0 -1.2417 -0.6363   True\n",
            "     2      3  -1.4743    0.0  -1.834 -1.1146   True\n",
            "----------------------------------------------------\n"
          ]
        }
      ]
    },
    {
      "cell_type": "code",
      "source": [
        "# fazer teste post-hoc para ver se os grupos tem taxas de aprovação diferentes\n",
        "from statsmodels.stats.multicomp import pairwise_tukeyhsd\n",
        "\n",
        "print(pairwise_tukeyhsd(endog = df_2019['taxa_aprovacao'],\n",
        "                  groups = df_2019['grupos'],\n",
        "                  alpha = 0.05)\n",
        ")\n"
      ],
      "metadata": {
        "id": "fiPngyFmYvDx",
        "outputId": "904b6fe9-049d-422c-c47e-7e3c218029eb",
        "colab": {
          "base_uri": "https://localhost:8080/"
        }
      },
      "execution_count": 58,
      "outputs": [
        {
          "output_type": "stream",
          "name": "stdout",
          "text": [
            " Multiple Comparison of Means - Tukey HSD, FWER=0.05 \n",
            "=====================================================\n",
            "group1 group2 meandiff p-adj   lower    upper  reject\n",
            "-----------------------------------------------------\n",
            "     0      1   2.1146 0.1564  -0.5594  4.7886  False\n",
            "     0      2   6.7689    0.0   3.5916  9.9461   True\n",
            "     0      3  -5.7562 0.0002  -8.9335  -2.579   True\n",
            "     1      2   4.6543 0.0004   1.9802  7.3283   True\n",
            "     1      3  -7.8708    0.0 -10.5449 -5.1968   True\n",
            "     2      3 -12.5251    0.0 -15.7023 -9.3479   True\n",
            "-----------------------------------------------------\n"
          ]
        }
      ]
    },
    {
      "cell_type": "markdown",
      "source": [
        "Se observamos os boxplots podemos ver que os grupos são bem distintos e dessa forma eles parecem ter sido bem clusterizados.\n",
        "Com os testes post-hoc temos também a confirmação já que a rejeição é aprovada em todos os casos exceto para o Ideb entre os grupos 0 e 3 e para a taxa de aprovação entre os grupos 0 e 1."
      ],
      "metadata": {
        "id": "-tX7CFddZC68"
      }
    },
    {
      "cell_type": "markdown",
      "source": [
        "### Atividade 11: Faça a clusterização com outro valor para k."
      ],
      "metadata": {
        "id": "3jL3LC5pbXev"
      }
    },
    {
      "cell_type": "code",
      "source": [
        "# importar o KMeans\n",
        "from sklearn.cluster import KMeans\n",
        "\n",
        "# instanciar o algoritmo usando o k de 4 definido anteriormente\n",
        "kmeans_5 = KMeans(n_clusters=5, random_state=68)\n",
        "\n",
        "# aplicar o algoritmo aos dados \n",
        "kmeans_5.fit(df_2019_scaled[['taxa_aprovacao', 'ideb']])"
      ],
      "metadata": {
        "id": "uILkB2dwWYA6",
        "outputId": "012741b0-1216-402b-b755-300ca1a7e4f0",
        "colab": {
          "base_uri": "https://localhost:8080/",
          "height": 129
        }
      },
      "execution_count": 61,
      "outputs": [
        {
          "output_type": "stream",
          "name": "stderr",
          "text": [
            "/usr/local/lib/python3.10/dist-packages/sklearn/cluster/_kmeans.py:870: FutureWarning: The default value of `n_init` will change from 10 to 'auto' in 1.4. Set the value of `n_init` explicitly to suppress the warning\n",
            "  warnings.warn(\n"
          ]
        },
        {
          "output_type": "execute_result",
          "data": {
            "text/plain": [
              "KMeans(n_clusters=5, random_state=68)"
            ],
            "text/html": [
              "<style>#sk-container-id-7 {color: black;background-color: white;}#sk-container-id-7 pre{padding: 0;}#sk-container-id-7 div.sk-toggleable {background-color: white;}#sk-container-id-7 label.sk-toggleable__label {cursor: pointer;display: block;width: 100%;margin-bottom: 0;padding: 0.3em;box-sizing: border-box;text-align: center;}#sk-container-id-7 label.sk-toggleable__label-arrow:before {content: \"▸\";float: left;margin-right: 0.25em;color: #696969;}#sk-container-id-7 label.sk-toggleable__label-arrow:hover:before {color: black;}#sk-container-id-7 div.sk-estimator:hover label.sk-toggleable__label-arrow:before {color: black;}#sk-container-id-7 div.sk-toggleable__content {max-height: 0;max-width: 0;overflow: hidden;text-align: left;background-color: #f0f8ff;}#sk-container-id-7 div.sk-toggleable__content pre {margin: 0.2em;color: black;border-radius: 0.25em;background-color: #f0f8ff;}#sk-container-id-7 input.sk-toggleable__control:checked~div.sk-toggleable__content {max-height: 200px;max-width: 100%;overflow: auto;}#sk-container-id-7 input.sk-toggleable__control:checked~label.sk-toggleable__label-arrow:before {content: \"▾\";}#sk-container-id-7 div.sk-estimator input.sk-toggleable__control:checked~label.sk-toggleable__label {background-color: #d4ebff;}#sk-container-id-7 div.sk-label input.sk-toggleable__control:checked~label.sk-toggleable__label {background-color: #d4ebff;}#sk-container-id-7 input.sk-hidden--visually {border: 0;clip: rect(1px 1px 1px 1px);clip: rect(1px, 1px, 1px, 1px);height: 1px;margin: -1px;overflow: hidden;padding: 0;position: absolute;width: 1px;}#sk-container-id-7 div.sk-estimator {font-family: monospace;background-color: #f0f8ff;border: 1px dotted black;border-radius: 0.25em;box-sizing: border-box;margin-bottom: 0.5em;}#sk-container-id-7 div.sk-estimator:hover {background-color: #d4ebff;}#sk-container-id-7 div.sk-parallel-item::after {content: \"\";width: 100%;border-bottom: 1px solid gray;flex-grow: 1;}#sk-container-id-7 div.sk-label:hover label.sk-toggleable__label {background-color: #d4ebff;}#sk-container-id-7 div.sk-serial::before {content: \"\";position: absolute;border-left: 1px solid gray;box-sizing: border-box;top: 0;bottom: 0;left: 50%;z-index: 0;}#sk-container-id-7 div.sk-serial {display: flex;flex-direction: column;align-items: center;background-color: white;padding-right: 0.2em;padding-left: 0.2em;position: relative;}#sk-container-id-7 div.sk-item {position: relative;z-index: 1;}#sk-container-id-7 div.sk-parallel {display: flex;align-items: stretch;justify-content: center;background-color: white;position: relative;}#sk-container-id-7 div.sk-item::before, #sk-container-id-7 div.sk-parallel-item::before {content: \"\";position: absolute;border-left: 1px solid gray;box-sizing: border-box;top: 0;bottom: 0;left: 50%;z-index: -1;}#sk-container-id-7 div.sk-parallel-item {display: flex;flex-direction: column;z-index: 1;position: relative;background-color: white;}#sk-container-id-7 div.sk-parallel-item:first-child::after {align-self: flex-end;width: 50%;}#sk-container-id-7 div.sk-parallel-item:last-child::after {align-self: flex-start;width: 50%;}#sk-container-id-7 div.sk-parallel-item:only-child::after {width: 0;}#sk-container-id-7 div.sk-dashed-wrapped {border: 1px dashed gray;margin: 0 0.4em 0.5em 0.4em;box-sizing: border-box;padding-bottom: 0.4em;background-color: white;}#sk-container-id-7 div.sk-label label {font-family: monospace;font-weight: bold;display: inline-block;line-height: 1.2em;}#sk-container-id-7 div.sk-label-container {text-align: center;}#sk-container-id-7 div.sk-container {/* jupyter's `normalize.less` sets `[hidden] { display: none; }` but bootstrap.min.css set `[hidden] { display: none !important; }` so we also need the `!important` here to be able to override the default hidden behavior on the sphinx rendered scikit-learn.org. See: https://github.com/scikit-learn/scikit-learn/issues/21755 */display: inline-block !important;position: relative;}#sk-container-id-7 div.sk-text-repr-fallback {display: none;}</style><div id=\"sk-container-id-7\" class=\"sk-top-container\"><div class=\"sk-text-repr-fallback\"><pre>KMeans(n_clusters=5, random_state=68)</pre><b>In a Jupyter environment, please rerun this cell to show the HTML representation or trust the notebook. <br />On GitHub, the HTML representation is unable to render, please try loading this page with nbviewer.org.</b></div><div class=\"sk-container\" hidden><div class=\"sk-item\"><div class=\"sk-estimator sk-toggleable\"><input class=\"sk-toggleable__control sk-hidden--visually\" id=\"sk-estimator-id-7\" type=\"checkbox\" checked><label for=\"sk-estimator-id-7\" class=\"sk-toggleable__label sk-toggleable__label-arrow\">KMeans</label><div class=\"sk-toggleable__content\"><pre>KMeans(n_clusters=5, random_state=68)</pre></div></div></div></div></div>"
            ]
          },
          "metadata": {},
          "execution_count": 61
        }
      ]
    },
    {
      "cell_type": "code",
      "source": [
        "# adicionar os grupos encontrados ao DataFrame\n",
        "df_2019['grupos_5'] = kmeans_5.labels_.tolist()\n",
        "df_2019.head()"
      ],
      "metadata": {
        "id": "2AUUneabbAp2",
        "outputId": "e9bc6090-0e04-43b3-8e8f-5b1c0941ccf0",
        "colab": {
          "base_uri": "https://localhost:8080/",
          "height": 206
        }
      },
      "execution_count": 62,
      "outputs": [
        {
          "output_type": "execute_result",
          "data": {
            "text/plain": [
              "  sigla_uf     ano  taxa_aprovacao  nota_saeb_matematica  \\\n",
              "0       AC  2019.0       88.561184            245.253478   \n",
              "1       AL  2019.0       92.081591            237.883189   \n",
              "2       AM  2019.0       86.853550            223.121965   \n",
              "3       AP  2019.0       81.552252            217.216667   \n",
              "4       BA  2019.0       83.032948            233.942537   \n",
              "\n",
              "   nota_saeb_lingua_portuguesa      ideb  grupos  grupos_5  \n",
              "0                   237.995942  4.671739       1         3  \n",
              "1                   231.412708  4.509295       1         3  \n",
              "2                   219.773218  4.032397       0         1  \n",
              "3                   215.831111  3.694444       3         4  \n",
              "4                   230.205596  4.034125       3         4  "
            ],
            "text/html": [
              "\n",
              "  <div id=\"df-4e6c593c-ce1b-4abc-a7ae-c251a8b8b5fa\">\n",
              "    <div class=\"colab-df-container\">\n",
              "      <div>\n",
              "<style scoped>\n",
              "    .dataframe tbody tr th:only-of-type {\n",
              "        vertical-align: middle;\n",
              "    }\n",
              "\n",
              "    .dataframe tbody tr th {\n",
              "        vertical-align: top;\n",
              "    }\n",
              "\n",
              "    .dataframe thead th {\n",
              "        text-align: right;\n",
              "    }\n",
              "</style>\n",
              "<table border=\"1\" class=\"dataframe\">\n",
              "  <thead>\n",
              "    <tr style=\"text-align: right;\">\n",
              "      <th></th>\n",
              "      <th>sigla_uf</th>\n",
              "      <th>ano</th>\n",
              "      <th>taxa_aprovacao</th>\n",
              "      <th>nota_saeb_matematica</th>\n",
              "      <th>nota_saeb_lingua_portuguesa</th>\n",
              "      <th>ideb</th>\n",
              "      <th>grupos</th>\n",
              "      <th>grupos_5</th>\n",
              "    </tr>\n",
              "  </thead>\n",
              "  <tbody>\n",
              "    <tr>\n",
              "      <th>0</th>\n",
              "      <td>AC</td>\n",
              "      <td>2019.0</td>\n",
              "      <td>88.561184</td>\n",
              "      <td>245.253478</td>\n",
              "      <td>237.995942</td>\n",
              "      <td>4.671739</td>\n",
              "      <td>1</td>\n",
              "      <td>3</td>\n",
              "    </tr>\n",
              "    <tr>\n",
              "      <th>1</th>\n",
              "      <td>AL</td>\n",
              "      <td>2019.0</td>\n",
              "      <td>92.081591</td>\n",
              "      <td>237.883189</td>\n",
              "      <td>231.412708</td>\n",
              "      <td>4.509295</td>\n",
              "      <td>1</td>\n",
              "      <td>3</td>\n",
              "    </tr>\n",
              "    <tr>\n",
              "      <th>2</th>\n",
              "      <td>AM</td>\n",
              "      <td>2019.0</td>\n",
              "      <td>86.853550</td>\n",
              "      <td>223.121965</td>\n",
              "      <td>219.773218</td>\n",
              "      <td>4.032397</td>\n",
              "      <td>0</td>\n",
              "      <td>1</td>\n",
              "    </tr>\n",
              "    <tr>\n",
              "      <th>3</th>\n",
              "      <td>AP</td>\n",
              "      <td>2019.0</td>\n",
              "      <td>81.552252</td>\n",
              "      <td>217.216667</td>\n",
              "      <td>215.831111</td>\n",
              "      <td>3.694444</td>\n",
              "      <td>3</td>\n",
              "      <td>4</td>\n",
              "    </tr>\n",
              "    <tr>\n",
              "      <th>4</th>\n",
              "      <td>BA</td>\n",
              "      <td>2019.0</td>\n",
              "      <td>83.032948</td>\n",
              "      <td>233.942537</td>\n",
              "      <td>230.205596</td>\n",
              "      <td>4.034125</td>\n",
              "      <td>3</td>\n",
              "      <td>4</td>\n",
              "    </tr>\n",
              "  </tbody>\n",
              "</table>\n",
              "</div>\n",
              "      <button class=\"colab-df-convert\" onclick=\"convertToInteractive('df-4e6c593c-ce1b-4abc-a7ae-c251a8b8b5fa')\"\n",
              "              title=\"Convert this dataframe to an interactive table.\"\n",
              "              style=\"display:none;\">\n",
              "        \n",
              "  <svg xmlns=\"http://www.w3.org/2000/svg\" height=\"24px\"viewBox=\"0 0 24 24\"\n",
              "       width=\"24px\">\n",
              "    <path d=\"M0 0h24v24H0V0z\" fill=\"none\"/>\n",
              "    <path d=\"M18.56 5.44l.94 2.06.94-2.06 2.06-.94-2.06-.94-.94-2.06-.94 2.06-2.06.94zm-11 1L8.5 8.5l.94-2.06 2.06-.94-2.06-.94L8.5 2.5l-.94 2.06-2.06.94zm10 10l.94 2.06.94-2.06 2.06-.94-2.06-.94-.94-2.06-.94 2.06-2.06.94z\"/><path d=\"M17.41 7.96l-1.37-1.37c-.4-.4-.92-.59-1.43-.59-.52 0-1.04.2-1.43.59L10.3 9.45l-7.72 7.72c-.78.78-.78 2.05 0 2.83L4 21.41c.39.39.9.59 1.41.59.51 0 1.02-.2 1.41-.59l7.78-7.78 2.81-2.81c.8-.78.8-2.07 0-2.86zM5.41 20L4 18.59l7.72-7.72 1.47 1.35L5.41 20z\"/>\n",
              "  </svg>\n",
              "      </button>\n",
              "      \n",
              "  <style>\n",
              "    .colab-df-container {\n",
              "      display:flex;\n",
              "      flex-wrap:wrap;\n",
              "      gap: 12px;\n",
              "    }\n",
              "\n",
              "    .colab-df-convert {\n",
              "      background-color: #E8F0FE;\n",
              "      border: none;\n",
              "      border-radius: 50%;\n",
              "      cursor: pointer;\n",
              "      display: none;\n",
              "      fill: #1967D2;\n",
              "      height: 32px;\n",
              "      padding: 0 0 0 0;\n",
              "      width: 32px;\n",
              "    }\n",
              "\n",
              "    .colab-df-convert:hover {\n",
              "      background-color: #E2EBFA;\n",
              "      box-shadow: 0px 1px 2px rgba(60, 64, 67, 0.3), 0px 1px 3px 1px rgba(60, 64, 67, 0.15);\n",
              "      fill: #174EA6;\n",
              "    }\n",
              "\n",
              "    [theme=dark] .colab-df-convert {\n",
              "      background-color: #3B4455;\n",
              "      fill: #D2E3FC;\n",
              "    }\n",
              "\n",
              "    [theme=dark] .colab-df-convert:hover {\n",
              "      background-color: #434B5C;\n",
              "      box-shadow: 0px 1px 3px 1px rgba(0, 0, 0, 0.15);\n",
              "      filter: drop-shadow(0px 1px 2px rgba(0, 0, 0, 0.3));\n",
              "      fill: #FFFFFF;\n",
              "    }\n",
              "  </style>\n",
              "\n",
              "      <script>\n",
              "        const buttonEl =\n",
              "          document.querySelector('#df-4e6c593c-ce1b-4abc-a7ae-c251a8b8b5fa button.colab-df-convert');\n",
              "        buttonEl.style.display =\n",
              "          google.colab.kernel.accessAllowed ? 'block' : 'none';\n",
              "\n",
              "        async function convertToInteractive(key) {\n",
              "          const element = document.querySelector('#df-4e6c593c-ce1b-4abc-a7ae-c251a8b8b5fa');\n",
              "          const dataTable =\n",
              "            await google.colab.kernel.invokeFunction('convertToInteractive',\n",
              "                                                     [key], {});\n",
              "          if (!dataTable) return;\n",
              "\n",
              "          const docLinkHtml = 'Like what you see? Visit the ' +\n",
              "            '<a target=\"_blank\" href=https://colab.research.google.com/notebooks/data_table.ipynb>data table notebook</a>'\n",
              "            + ' to learn more about interactive tables.';\n",
              "          element.innerHTML = '';\n",
              "          dataTable['output_type'] = 'display_data';\n",
              "          await google.colab.output.renderOutput(dataTable, element);\n",
              "          const docLink = document.createElement('div');\n",
              "          docLink.innerHTML = docLinkHtml;\n",
              "          element.appendChild(docLink);\n",
              "        }\n",
              "      </script>\n",
              "    </div>\n",
              "  </div>\n",
              "  "
            ]
          },
          "metadata": {},
          "execution_count": 62
        }
      ]
    },
    {
      "cell_type": "code",
      "source": [
        "# criar um gráfico de dispersão levando em consideração os grupos\n",
        "sns.scatterplot(data=df_2019, x='taxa_aprovacao', y='ideb', hue='grupos_5', palette='tab10');\n",
        "\n",
        "# criar listas que serviram de apoio para anotar a sigla de cada estado no gráfico\n",
        "taxa_aprovacao = df_2019['taxa_aprovacao']\n",
        "ideb = df_2019['ideb']\n",
        "estados = ['AC','AL','AM','AP','BA','CE','DF','ES','GO','MA','MG','MS','MT',\n",
        "           'PA','PB','PE','PI','PR','RJ','RN','RO','RR','RS','SC','SE','SP','TO']\n",
        "\n",
        "# anotando os 'nomes' de cada ponto\n",
        "for i, estado in enumerate(estados):\n",
        "    plt.annotate(estados[i], (taxa_aprovacao[i], ideb[i]) );"
      ],
      "metadata": {
        "id": "LTDJjwk1cz9j",
        "outputId": "66d1e627-3a15-4086-bfe5-eb89719e6c0f",
        "colab": {
          "base_uri": "https://localhost:8080/",
          "height": 476
        }
      },
      "execution_count": 66,
      "outputs": [
        {
          "output_type": "display_data",
          "data": {
            "text/plain": [
              "<Figure size 1400x500 with 1 Axes>"
            ],
            "image/png": "[encoded data removed]"
          },
          "metadata": {}
        }
      ]
    },
    {
      "cell_type": "markdown",
      "source": [
        "### Atividade 12: Qual dos dois valores testados para k seria mais adequado?"
      ],
      "metadata": {
        "id": "Le80MXjCcYDR"
      }
    },
    {
      "cell_type": "code",
      "source": [
        "# fazer teste post-hoc para ver se os grupos tem ideb diferentes\n",
        "from statsmodels.stats.multicomp import pairwise_tukeyhsd\n",
        "\n",
        "print(pairwise_tukeyhsd(endog = df_2019['ideb'],\n",
        "                  groups = df_2019['grupos_5'],\n",
        "                  alpha = 0.05)\n",
        ")\n"
      ],
      "metadata": {
        "id": "hzpY4hcLc9Yw",
        "outputId": "1def1478-6626-45be-bd24-6033e2abe052",
        "colab": {
          "base_uri": "https://localhost:8080/"
        }
      },
      "execution_count": 67,
      "outputs": [
        {
          "output_type": "stream",
          "name": "stdout",
          "text": [
            "Multiple Comparison of Means - Tukey HSD, FWER=0.05 \n",
            "====================================================\n",
            "group1 group2 meandiff p-adj   lower   upper  reject\n",
            "----------------------------------------------------\n",
            "     0      1  -1.1125    0.0 -1.4027 -0.8224   True\n",
            "     0      2   0.1639  0.519  -0.142  0.4697  False\n",
            "     0      3  -0.5055 0.0001 -0.7654 -0.2456   True\n",
            "     0      4  -1.3255    0.0 -1.6157 -1.0354   True\n",
            "     1      2   1.2764    0.0  0.9862  1.5665   True\n",
            "     1      3    0.607    0.0  0.3658  0.8483   True\n",
            "     1      4   -0.213 0.1792 -0.4865  0.0606  False\n",
            "     2      3  -0.6694    0.0 -0.9293 -0.4095   True\n",
            "     2      4  -1.4894    0.0 -1.7795 -1.1992   True\n",
            "     3      4    -0.82    0.0 -1.0612 -0.5788   True\n",
            "----------------------------------------------------\n"
          ]
        }
      ]
    },
    {
      "cell_type": "code",
      "source": [
        "# fazer teste post-hoc para ver se os grupos tem taxas de aprovação diferentes\n",
        "from statsmodels.stats.multicomp import pairwise_tukeyhsd\n",
        "\n",
        "print(pairwise_tukeyhsd(endog = df_2019['taxa_aprovacao'],\n",
        "                  groups = df_2019['grupos_5'],\n",
        "                  alpha = 0.05)\n",
        ")\n"
      ],
      "metadata": {
        "id": "Qa-ONI3TdEr1",
        "outputId": "fe631f77-351b-43b0-e81f-1d0f611d3f58",
        "colab": {
          "base_uri": "https://localhost:8080/"
        }
      },
      "execution_count": 68,
      "outputs": [
        {
          "output_type": "stream",
          "name": "stdout",
          "text": [
            " Multiple Comparison of Means - Tukey HSD, FWER=0.05 \n",
            "=====================================================\n",
            "group1 group2 meandiff p-adj   lower    upper  reject\n",
            "-----------------------------------------------------\n",
            "     0      1   -2.521  0.239   -6.015   0.973  False\n",
            "     0      2   4.9706 0.0049   1.2876  8.6535   True\n",
            "     0      3   -0.391 0.9957   -3.521  2.7389  False\n",
            "     0      4  -8.2772    0.0 -11.7712 -4.7832   True\n",
            "     1      2   7.4915    0.0   3.9975 10.9855   True\n",
            "     1      3   2.1299 0.2257  -0.7753  5.0351  False\n",
            "     1      4  -5.7562 0.0003  -9.0504 -2.4621   True\n",
            "     2      3  -5.3616 0.0004  -8.4915 -2.2317   True\n",
            "     2      4 -13.2478    0.0 -16.7418 -9.7538   True\n",
            "     3      4  -7.8862    0.0 -10.7914  -4.981   True\n",
            "-----------------------------------------------------\n"
          ]
        }
      ]
    },
    {
      "cell_type": "markdown",
      "source": [
        "Com os testes post-hoc podemos ver que com 5 grupos a rejeição é reprovada em mais casos que com 4 grupos mas parece também fazer sentido."
      ],
      "metadata": {
        "id": "jAzu927IeS_S"
      }
    },
    {
      "cell_type": "markdown",
      "source": [
        "### Atividade 13: (Para refletir) Como poderíamos fazer a clusterização e visualizar os grupos se tivessemos que usar mais de duas variáveis?\n",
        "\n",
        "Dica: Pesquise sobre Redução de Dimensionalidade, é um assunto bem divertido!"
      ],
      "metadata": {
        "id": "r_po021CjNOz"
      }
    },
    {
      "cell_type": "markdown",
      "source": [
        "Pelas minhas buscas sobre redução de dimensionalidade entendi que o objetivo é simplificar a representação dos dados, preservando ao mesmo tempo as informações relevantes. \n",
        "Quando os dados possuem muitas dimensões é difícil representá-los graficamente de forma adequada. Reduzir a dimensionalidade permite mapear os dados em um espaço de menor dimensão, facilitando a visualização.\n",
        "Outro ponto é que não todas as características de um conjunto de dados contribuem igualmente para o seu poder preditivo. A redução de dimensionalidade pode ajudar a identificar e remover características irrelevantes, simplificando os modelos e melhorando o desempenho."
      ],
      "metadata": {
        "id": "tIzuRUgreNjS"
      }
    }
  ]
}