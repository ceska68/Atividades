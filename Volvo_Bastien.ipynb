{
  "cells": [
    {
      "cell_type": "markdown",
      "metadata": {
        "id": "view-in-github",
        "colab_type": "text"
      },
      "source": [
        "<a href=\"https://colab.research.google.com/github/ceska68/Atividades/blob/main/Volvo_Bastien.ipynb\" target=\"_parent\"><img src=\"https://colab.research.google.com/assets/colab-badge.svg\" alt=\"Open In Colab\"/></a>"
      ]
    },
    {
      "cell_type": "markdown",
      "metadata": {
        "id": "upnSxyBkrM01"
      },
      "source": [
        "# Volvo (nome do grupo)"
      ]
    },
    {
      "cell_type": "markdown",
      "metadata": {
        "id": "Gm4wy8PhrM02"
      },
      "source": [
        "Estimativa de Valores de Horímetro das Máquinas da frota circulante\n",
        "\n",
        "**Drive**: https://drive.google.com/drive/folders/1HS80lS_XzGH7Tz9juk08d2IR65zZ4Cyv\n",
        "\n",
        "**Trello**: \n",
        "\n",
        "**Github**:"
      ]
    },
    {
      "cell_type": "markdown",
      "metadata": {
        "id": "SGLNs5WtrM03"
      },
      "source": [
        "## 0 - Informações sobre o projeto (contexto)"
      ]
    },
    {
      "cell_type": "markdown",
      "metadata": {
        "id": "ulRyKyjmrM03"
      },
      "source": []
    },
    {
      "cell_type": "markdown",
      "metadata": {
        "id": "bxupJt2qrM03"
      },
      "source": []
    },
    {
      "cell_type": "markdown",
      "metadata": {
        "id": "ir9d8bySrM03"
      },
      "source": [
        "## 1 - Import libs"
      ]
    },
    {
      "cell_type": "code",
      "execution_count": null,
      "metadata": {
        "id": "3jAKa6JzrM04"
      },
      "outputs": [],
      "source": [
        "import pandas as pd\n",
        "import numpy as np\n",
        "\n",
        "import matplotlib.pyplot as plt\n",
        "import seaborn as sns\n",
        "from ipywidgets import interact"
      ]
    },
    {
      "cell_type": "markdown",
      "metadata": {
        "id": "eppIynbRrM04"
      },
      "source": [
        "## 2 - Read data"
      ]
    },
    {
      "cell_type": "code",
      "execution_count": null,
      "metadata": {
        "id": "J9J2Eo5KrM05"
      },
      "outputs": [],
      "source": [
        "# Read data\n",
        "table_equipments = pd.read_excel('23w06_Equipamentos.xlsx')\n",
        "table_time_series  = pd.read_excel('23w06_SeriesTemporais_Horimetros.xlsx', header=3)\n",
        "\n"
      ]
    },
    {
      "cell_type": "code",
      "source": [
        "# Read table_equipments\n",
        "table_equipments.head()"
      ],
      "metadata": {
        "colab": {
          "base_uri": "https://localhost:8080/",
          "height": 206
        },
        "id": "FUrHuG5xmsAH",
        "outputId": "cc53d63d-93de-4611-d559-9396d1e1ea02"
      },
      "execution_count": null,
      "outputs": [
        {
          "output_type": "execute_result",
          "data": {
            "text/plain": [
              "          Região       País Dealer      Segmento Modelo   Chassis ID  \\\n",
              "0  Hispânico Sul  Argentina   EPSA        Mining    ART  A040F320538   \n",
              "1  Hispânico Sul  Argentina   EPSA  Construction    ART   A30G732052   \n",
              "2  Hispânico Sul  Argentina   EPSA        Mining    ART   A30G732029   \n",
              "3  Hispânico Sul  Argentina   EPSA        Mining    EXC  EC210282764   \n",
              "4  Hispânico Sul  Argentina   EPSA      Forestry    EXC  EC210282811   \n",
              "\n",
              "               PIN17 Delivery Date  \\\n",
              "0  VCEA040FCG0320538    2020-11-26   \n",
              "1  VCE0A30GCL0732052    2020-06-22   \n",
              "2                NaN    2019-11-27   \n",
              "3  VCEC210DH00282764    2019-06-06   \n",
              "4  VCEC210DV00282811    2019-09-13   \n",
              "\n",
              "                                               Obs.:      Estado   Região.1  \n",
              "0                                                NaN    San Luis  Argentina  \n",
              "1                                                NaN    San Juan  Argentina  \n",
              "2  Não encontramos com os métodos de pesquisa uti...  Entre Ríos  Argentina  \n",
              "3                                                NaN           0  Argentina  \n",
              "4  Não encontramos com os métodos de pesquisa uti...           0  Argentina  "
            ],
            "text/html": [
              "\n",
              "  <div id=\"df-21b33ceb-ebc9-45ab-b356-befd0d786166\">\n",
              "    <div class=\"colab-df-container\">\n",
              "      <div>\n",
              "<style scoped>\n",
              "    .dataframe tbody tr th:only-of-type {\n",
              "        vertical-align: middle;\n",
              "    }\n",
              "\n",
              "    .dataframe tbody tr th {\n",
              "        vertical-align: top;\n",
              "    }\n",
              "\n",
              "    .dataframe thead th {\n",
              "        text-align: right;\n",
              "    }\n",
              "</style>\n",
              "<table border=\"1\" class=\"dataframe\">\n",
              "  <thead>\n",
              "    <tr style=\"text-align: right;\">\n",
              "      <th></th>\n",
              "      <th>Região</th>\n",
              "      <th>País</th>\n",
              "      <th>Dealer</th>\n",
              "      <th>Segmento</th>\n",
              "      <th>Modelo</th>\n",
              "      <th>Chassis ID</th>\n",
              "      <th>PIN17</th>\n",
              "      <th>Delivery Date</th>\n",
              "      <th>Obs.:</th>\n",
              "      <th>Estado</th>\n",
              "      <th>Região.1</th>\n",
              "    </tr>\n",
              "  </thead>\n",
              "  <tbody>\n",
              "    <tr>\n",
              "      <th>0</th>\n",
              "      <td>Hispânico Sul</td>\n",
              "      <td>Argentina</td>\n",
              "      <td>EPSA</td>\n",
              "      <td>Mining</td>\n",
              "      <td>ART</td>\n",
              "      <td>A040F320538</td>\n",
              "      <td>VCEA040FCG0320538</td>\n",
              "      <td>2020-11-26</td>\n",
              "      <td>NaN</td>\n",
              "      <td>San Luis</td>\n",
              "      <td>Argentina</td>\n",
              "    </tr>\n",
              "    <tr>\n",
              "      <th>1</th>\n",
              "      <td>Hispânico Sul</td>\n",
              "      <td>Argentina</td>\n",
              "      <td>EPSA</td>\n",
              "      <td>Construction</td>\n",
              "      <td>ART</td>\n",
              "      <td>A30G732052</td>\n",
              "      <td>VCE0A30GCL0732052</td>\n",
              "      <td>2020-06-22</td>\n",
              "      <td>NaN</td>\n",
              "      <td>San Juan</td>\n",
              "      <td>Argentina</td>\n",
              "    </tr>\n",
              "    <tr>\n",
              "      <th>2</th>\n",
              "      <td>Hispânico Sul</td>\n",
              "      <td>Argentina</td>\n",
              "      <td>EPSA</td>\n",
              "      <td>Mining</td>\n",
              "      <td>ART</td>\n",
              "      <td>A30G732029</td>\n",
              "      <td>NaN</td>\n",
              "      <td>2019-11-27</td>\n",
              "      <td>Não encontramos com os métodos de pesquisa uti...</td>\n",
              "      <td>Entre Ríos</td>\n",
              "      <td>Argentina</td>\n",
              "    </tr>\n",
              "    <tr>\n",
              "      <th>3</th>\n",
              "      <td>Hispânico Sul</td>\n",
              "      <td>Argentina</td>\n",
              "      <td>EPSA</td>\n",
              "      <td>Mining</td>\n",
              "      <td>EXC</td>\n",
              "      <td>EC210282764</td>\n",
              "      <td>VCEC210DH00282764</td>\n",
              "      <td>2019-06-06</td>\n",
              "      <td>NaN</td>\n",
              "      <td>0</td>\n",
              "      <td>Argentina</td>\n",
              "    </tr>\n",
              "    <tr>\n",
              "      <th>4</th>\n",
              "      <td>Hispânico Sul</td>\n",
              "      <td>Argentina</td>\n",
              "      <td>EPSA</td>\n",
              "      <td>Forestry</td>\n",
              "      <td>EXC</td>\n",
              "      <td>EC210282811</td>\n",
              "      <td>VCEC210DV00282811</td>\n",
              "      <td>2019-09-13</td>\n",
              "      <td>Não encontramos com os métodos de pesquisa uti...</td>\n",
              "      <td>0</td>\n",
              "      <td>Argentina</td>\n",
              "    </tr>\n",
              "  </tbody>\n",
              "</table>\n",
              "</div>\n",
              "      <button class=\"colab-df-convert\" onclick=\"convertToInteractive('df-21b33ceb-ebc9-45ab-b356-befd0d786166')\"\n",
              "              title=\"Convert this dataframe to an interactive table.\"\n",
              "              style=\"display:none;\">\n",
              "        \n",
              "  <svg xmlns=\"http://www.w3.org/2000/svg\" height=\"24px\"viewBox=\"0 0 24 24\"\n",
              "       width=\"24px\">\n",
              "    <path d=\"M0 0h24v24H0V0z\" fill=\"none\"/>\n",
              "    <path d=\"M18.56 5.44l.94 2.06.94-2.06 2.06-.94-2.06-.94-.94-2.06-.94 2.06-2.06.94zm-11 1L8.5 8.5l.94-2.06 2.06-.94-2.06-.94L8.5 2.5l-.94 2.06-2.06.94zm10 10l.94 2.06.94-2.06 2.06-.94-2.06-.94-.94-2.06-.94 2.06-2.06.94z\"/><path d=\"M17.41 7.96l-1.37-1.37c-.4-.4-.92-.59-1.43-.59-.52 0-1.04.2-1.43.59L10.3 9.45l-7.72 7.72c-.78.78-.78 2.05 0 2.83L4 21.41c.39.39.9.59 1.41.59.51 0 1.02-.2 1.41-.59l7.78-7.78 2.81-2.81c.8-.78.8-2.07 0-2.86zM5.41 20L4 18.59l7.72-7.72 1.47 1.35L5.41 20z\"/>\n",
              "  </svg>\n",
              "      </button>\n",
              "      \n",
              "  <style>\n",
              "    .colab-df-container {\n",
              "      display:flex;\n",
              "      flex-wrap:wrap;\n",
              "      gap: 12px;\n",
              "    }\n",
              "\n",
              "    .colab-df-convert {\n",
              "      background-color: #E8F0FE;\n",
              "      border: none;\n",
              "      border-radius: 50%;\n",
              "      cursor: pointer;\n",
              "      display: none;\n",
              "      fill: #1967D2;\n",
              "      height: 32px;\n",
              "      padding: 0 0 0 0;\n",
              "      width: 32px;\n",
              "    }\n",
              "\n",
              "    .colab-df-convert:hover {\n",
              "      background-color: #E2EBFA;\n",
              "      box-shadow: 0px 1px 2px rgba(60, 64, 67, 0.3), 0px 1px 3px 1px rgba(60, 64, 67, 0.15);\n",
              "      fill: #174EA6;\n",
              "    }\n",
              "\n",
              "    [theme=dark] .colab-df-convert {\n",
              "      background-color: #3B4455;\n",
              "      fill: #D2E3FC;\n",
              "    }\n",
              "\n",
              "    [theme=dark] .colab-df-convert:hover {\n",
              "      background-color: #434B5C;\n",
              "      box-shadow: 0px 1px 3px 1px rgba(0, 0, 0, 0.15);\n",
              "      filter: drop-shadow(0px 1px 2px rgba(0, 0, 0, 0.3));\n",
              "      fill: #FFFFFF;\n",
              "    }\n",
              "  </style>\n",
              "\n",
              "      <script>\n",
              "        const buttonEl =\n",
              "          document.querySelector('#df-21b33ceb-ebc9-45ab-b356-befd0d786166 button.colab-df-convert');\n",
              "        buttonEl.style.display =\n",
              "          google.colab.kernel.accessAllowed ? 'block' : 'none';\n",
              "\n",
              "        async function convertToInteractive(key) {\n",
              "          const element = document.querySelector('#df-21b33ceb-ebc9-45ab-b356-befd0d786166');\n",
              "          const dataTable =\n",
              "            await google.colab.kernel.invokeFunction('convertToInteractive',\n",
              "                                                     [key], {});\n",
              "          if (!dataTable) return;\n",
              "\n",
              "          const docLinkHtml = 'Like what you see? Visit the ' +\n",
              "            '<a target=\"_blank\" href=https://colab.research.google.com/notebooks/data_table.ipynb>data table notebook</a>'\n",
              "            + ' to learn more about interactive tables.';\n",
              "          element.innerHTML = '';\n",
              "          dataTable['output_type'] = 'display_data';\n",
              "          await google.colab.output.renderOutput(dataTable, element);\n",
              "          const docLink = document.createElement('div');\n",
              "          docLink.innerHTML = docLinkHtml;\n",
              "          element.appendChild(docLink);\n",
              "        }\n",
              "      </script>\n",
              "    </div>\n",
              "  </div>\n",
              "  "
            ]
          },
          "metadata": {},
          "execution_count": 16
        }
      ]
    },
    {
      "cell_type": "code",
      "source": [
        "# Read table_time_series\n",
        "table_time_series.head()"
      ],
      "metadata": {
        "colab": {
          "base_uri": "https://localhost:8080/",
          "height": 206
        },
        "id": "EYgnqD-5m23g",
        "outputId": "b6f4bf7b-9f4a-4be9-fade-5d4cf750da77"
      },
      "execution_count": null,
      "outputs": [
        {
          "output_type": "execute_result",
          "data": {
            "text/plain": [
              "   Unnamed: 0  Chassis Id* Machine History Date Day  \\\n",
              "0         NaN  A030F720057               2016-12-09   \n",
              "1         NaN  A030F720057               2016-12-10   \n",
              "2         NaN  A030F720057               2016-12-11   \n",
              "3         NaN  A030F720057               2016-12-12   \n",
              "4         NaN  A030F720057               2016-12-13   \n",
              "\n",
              "   Compensated Working Hours By Day  \n",
              "0                              0.00  \n",
              "1                              5.75  \n",
              "2                              8.95  \n",
              "3                              1.60  \n",
              "4                              8.20  "
            ],
            "text/html": [
              "\n",
              "  <div id=\"df-66663a02-b917-47ed-ae17-e54c67cf44e0\">\n",
              "    <div class=\"colab-df-container\">\n",
              "      <div>\n",
              "<style scoped>\n",
              "    .dataframe tbody tr th:only-of-type {\n",
              "        vertical-align: middle;\n",
              "    }\n",
              "\n",
              "    .dataframe tbody tr th {\n",
              "        vertical-align: top;\n",
              "    }\n",
              "\n",
              "    .dataframe thead th {\n",
              "        text-align: right;\n",
              "    }\n",
              "</style>\n",
              "<table border=\"1\" class=\"dataframe\">\n",
              "  <thead>\n",
              "    <tr style=\"text-align: right;\">\n",
              "      <th></th>\n",
              "      <th>Unnamed: 0</th>\n",
              "      <th>Chassis Id*</th>\n",
              "      <th>Machine History Date Day</th>\n",
              "      <th>Compensated Working Hours By Day</th>\n",
              "    </tr>\n",
              "  </thead>\n",
              "  <tbody>\n",
              "    <tr>\n",
              "      <th>0</th>\n",
              "      <td>NaN</td>\n",
              "      <td>A030F720057</td>\n",
              "      <td>2016-12-09</td>\n",
              "      <td>0.00</td>\n",
              "    </tr>\n",
              "    <tr>\n",
              "      <th>1</th>\n",
              "      <td>NaN</td>\n",
              "      <td>A030F720057</td>\n",
              "      <td>2016-12-10</td>\n",
              "      <td>5.75</td>\n",
              "    </tr>\n",
              "    <tr>\n",
              "      <th>2</th>\n",
              "      <td>NaN</td>\n",
              "      <td>A030F720057</td>\n",
              "      <td>2016-12-11</td>\n",
              "      <td>8.95</td>\n",
              "    </tr>\n",
              "    <tr>\n",
              "      <th>3</th>\n",
              "      <td>NaN</td>\n",
              "      <td>A030F720057</td>\n",
              "      <td>2016-12-12</td>\n",
              "      <td>1.60</td>\n",
              "    </tr>\n",
              "    <tr>\n",
              "      <th>4</th>\n",
              "      <td>NaN</td>\n",
              "      <td>A030F720057</td>\n",
              "      <td>2016-12-13</td>\n",
              "      <td>8.20</td>\n",
              "    </tr>\n",
              "  </tbody>\n",
              "</table>\n",
              "</div>\n",
              "      <button class=\"colab-df-convert\" onclick=\"convertToInteractive('df-66663a02-b917-47ed-ae17-e54c67cf44e0')\"\n",
              "              title=\"Convert this dataframe to an interactive table.\"\n",
              "              style=\"display:none;\">\n",
              "        \n",
              "  <svg xmlns=\"http://www.w3.org/2000/svg\" height=\"24px\"viewBox=\"0 0 24 24\"\n",
              "       width=\"24px\">\n",
              "    <path d=\"M0 0h24v24H0V0z\" fill=\"none\"/>\n",
              "    <path d=\"M18.56 5.44l.94 2.06.94-2.06 2.06-.94-2.06-.94-.94-2.06-.94 2.06-2.06.94zm-11 1L8.5 8.5l.94-2.06 2.06-.94-2.06-.94L8.5 2.5l-.94 2.06-2.06.94zm10 10l.94 2.06.94-2.06 2.06-.94-2.06-.94-.94-2.06-.94 2.06-2.06.94z\"/><path d=\"M17.41 7.96l-1.37-1.37c-.4-.4-.92-.59-1.43-.59-.52 0-1.04.2-1.43.59L10.3 9.45l-7.72 7.72c-.78.78-.78 2.05 0 2.83L4 21.41c.39.39.9.59 1.41.59.51 0 1.02-.2 1.41-.59l7.78-7.78 2.81-2.81c.8-.78.8-2.07 0-2.86zM5.41 20L4 18.59l7.72-7.72 1.47 1.35L5.41 20z\"/>\n",
              "  </svg>\n",
              "      </button>\n",
              "      \n",
              "  <style>\n",
              "    .colab-df-container {\n",
              "      display:flex;\n",
              "      flex-wrap:wrap;\n",
              "      gap: 12px;\n",
              "    }\n",
              "\n",
              "    .colab-df-convert {\n",
              "      background-color: #E8F0FE;\n",
              "      border: none;\n",
              "      border-radius: 50%;\n",
              "      cursor: pointer;\n",
              "      display: none;\n",
              "      fill: #1967D2;\n",
              "      height: 32px;\n",
              "      padding: 0 0 0 0;\n",
              "      width: 32px;\n",
              "    }\n",
              "\n",
              "    .colab-df-convert:hover {\n",
              "      background-color: #E2EBFA;\n",
              "      box-shadow: 0px 1px 2px rgba(60, 64, 67, 0.3), 0px 1px 3px 1px rgba(60, 64, 67, 0.15);\n",
              "      fill: #174EA6;\n",
              "    }\n",
              "\n",
              "    [theme=dark] .colab-df-convert {\n",
              "      background-color: #3B4455;\n",
              "      fill: #D2E3FC;\n",
              "    }\n",
              "\n",
              "    [theme=dark] .colab-df-convert:hover {\n",
              "      background-color: #434B5C;\n",
              "      box-shadow: 0px 1px 3px 1px rgba(0, 0, 0, 0.15);\n",
              "      filter: drop-shadow(0px 1px 2px rgba(0, 0, 0, 0.3));\n",
              "      fill: #FFFFFF;\n",
              "    }\n",
              "  </style>\n",
              "\n",
              "      <script>\n",
              "        const buttonEl =\n",
              "          document.querySelector('#df-66663a02-b917-47ed-ae17-e54c67cf44e0 button.colab-df-convert');\n",
              "        buttonEl.style.display =\n",
              "          google.colab.kernel.accessAllowed ? 'block' : 'none';\n",
              "\n",
              "        async function convertToInteractive(key) {\n",
              "          const element = document.querySelector('#df-66663a02-b917-47ed-ae17-e54c67cf44e0');\n",
              "          const dataTable =\n",
              "            await google.colab.kernel.invokeFunction('convertToInteractive',\n",
              "                                                     [key], {});\n",
              "          if (!dataTable) return;\n",
              "\n",
              "          const docLinkHtml = 'Like what you see? Visit the ' +\n",
              "            '<a target=\"_blank\" href=https://colab.research.google.com/notebooks/data_table.ipynb>data table notebook</a>'\n",
              "            + ' to learn more about interactive tables.';\n",
              "          element.innerHTML = '';\n",
              "          dataTable['output_type'] = 'display_data';\n",
              "          await google.colab.output.renderOutput(dataTable, element);\n",
              "          const docLink = document.createElement('div');\n",
              "          docLink.innerHTML = docLinkHtml;\n",
              "          element.appendChild(docLink);\n",
              "        }\n",
              "      </script>\n",
              "    </div>\n",
              "  </div>\n",
              "  "
            ]
          },
          "metadata": {},
          "execution_count": 12
        }
      ]
    },
    {
      "cell_type": "code",
      "source": [
        "# Rename columns\n",
        "table_equipments.rename(columns = {'Chassis ID' : 'ID'}, inplace = True)\n",
        "table_time_series.rename(columns = {'Chassis Id*' : 'ID',\n",
        "                        'Machine History Date Day' : 'Day',\n",
        "                        'Compensated Working Hours By Day': 'Time' }, inplace = True)\n",
        "\n",
        "# Drop columns\n",
        "table_time_series.drop('Unnamed: 0', axis = 1,inplace = True)"
      ],
      "metadata": {
        "id": "Ok0GhhR-moEJ"
      },
      "execution_count": null,
      "outputs": []
    },
    {
      "cell_type": "markdown",
      "metadata": {
        "id": "eFdvEIpZrM05"
      },
      "source": [
        "## 3 - Business Understanding / Data understanding"
      ]
    },
    {
      "cell_type": "markdown",
      "metadata": {
        "id": "c4lS8p01rM05"
      },
      "source": [
        "### Hipóteses\n",
        "\n",
        "* H0: É possível prever o horímetro da máquina com base no historico de resgistros com\n",
        "precisão significativamente maior que a fornecida pelo cálculo atual (baseado em médias)\n",
        "\n",
        "* H1: É possivel utilizar a mesma técnica para os 3 cenários de medição do problema:\n",
        "Máquinas que enviaram dados nos últimos 4 dias; máquinas que enviaram dados mas não\n",
        "recententemente; máquinas que nunca enviaram dados.\n",
        "\n",
        "* H2: A técnica proposta garante resultados independentemente da classe da máquina:\n",
        "AHL; WL; EXC\n",
        "\n",
        "* H3: A técnica proposta garante resultados independentemente do segmento de aplicação\n",
        "da máquina.\n",
        "\n",
        "* H4: A técnica proposta garante resultados independentemente do país onde a máquina\n",
        "está localizada\n",
        "\n",
        "* H5: A técnica proposta garante resultados independentemente do Dealer que realizou a\n",
        "venda\n",
        "\n",
        "* H6: A técnica proposta garante resultados independentemente da idade da máquina"
      ]
    },
    {
      "cell_type": "markdown",
      "metadata": {
        "id": "fSmGk3IhrM06"
      },
      "source": [
        "### Objetivo:\n",
        "\n",
        "**Impacto do Projeto**\n",
        "\n",
        "***Melhor Gestão da Frota Circulante***\n",
        "* Aumento da eficiência operacional da rede de distribuição\n",
        "* Antecipação de necessidades dos Clientes\n",
        "* Aumento da Produtividade das Máquinas (Uptime)\n",
        "* Identificação de novas oportunidades em vendas de Peças e Serviços não são exploradas\n",
        "* Aumento de satisfação dos clientes Volvo CE"
      ]
    },
    {
      "cell_type": "code",
      "execution_count": null,
      "metadata": {
        "id": "nw-OdiierM06",
        "outputId": "81587277-d002-45b4-f72a-be81238b509e",
        "colab": {
          "base_uri": "https://localhost:8080/",
          "height": 206
        }
      },
      "outputs": [
        {
          "output_type": "execute_result",
          "data": {
            "text/plain": [
              "          Região       País Dealer      Segmento Modelo           ID  \\\n",
              "0  Hispânico Sul  Argentina   EPSA        Mining    ART  A040F320538   \n",
              "1  Hispânico Sul  Argentina   EPSA  Construction    ART   A30G732052   \n",
              "2  Hispânico Sul  Argentina   EPSA        Mining    ART   A30G732029   \n",
              "3  Hispânico Sul  Argentina   EPSA        Mining    EXC  EC210282764   \n",
              "4  Hispânico Sul  Argentina   EPSA      Forestry    EXC  EC210282811   \n",
              "\n",
              "               PIN17 Delivery Date  \\\n",
              "0  VCEA040FCG0320538    2020-11-26   \n",
              "1  VCE0A30GCL0732052    2020-06-22   \n",
              "2                NaN    2019-11-27   \n",
              "3  VCEC210DH00282764    2019-06-06   \n",
              "4  VCEC210DV00282811    2019-09-13   \n",
              "\n",
              "                                               Obs.:      Estado   Região.1  \n",
              "0                                                NaN    San Luis  Argentina  \n",
              "1                                                NaN    San Juan  Argentina  \n",
              "2  Não encontramos com os métodos de pesquisa uti...  Entre Ríos  Argentina  \n",
              "3                                                NaN           0  Argentina  \n",
              "4  Não encontramos com os métodos de pesquisa uti...           0  Argentina  "
            ],
            "text/html": [
              "\n",
              "  <div id=\"df-81bbc76f-7121-4d65-8500-115a7d8d99ac\">\n",
              "    <div class=\"colab-df-container\">\n",
              "      <div>\n",
              "<style scoped>\n",
              "    .dataframe tbody tr th:only-of-type {\n",
              "        vertical-align: middle;\n",
              "    }\n",
              "\n",
              "    .dataframe tbody tr th {\n",
              "        vertical-align: top;\n",
              "    }\n",
              "\n",
              "    .dataframe thead th {\n",
              "        text-align: right;\n",
              "    }\n",
              "</style>\n",
              "<table border=\"1\" class=\"dataframe\">\n",
              "  <thead>\n",
              "    <tr style=\"text-align: right;\">\n",
              "      <th></th>\n",
              "      <th>Região</th>\n",
              "      <th>País</th>\n",
              "      <th>Dealer</th>\n",
              "      <th>Segmento</th>\n",
              "      <th>Modelo</th>\n",
              "      <th>ID</th>\n",
              "      <th>PIN17</th>\n",
              "      <th>Delivery Date</th>\n",
              "      <th>Obs.:</th>\n",
              "      <th>Estado</th>\n",
              "      <th>Região.1</th>\n",
              "    </tr>\n",
              "  </thead>\n",
              "  <tbody>\n",
              "    <tr>\n",
              "      <th>0</th>\n",
              "      <td>Hispânico Sul</td>\n",
              "      <td>Argentina</td>\n",
              "      <td>EPSA</td>\n",
              "      <td>Mining</td>\n",
              "      <td>ART</td>\n",
              "      <td>A040F320538</td>\n",
              "      <td>VCEA040FCG0320538</td>\n",
              "      <td>2020-11-26</td>\n",
              "      <td>NaN</td>\n",
              "      <td>San Luis</td>\n",
              "      <td>Argentina</td>\n",
              "    </tr>\n",
              "    <tr>\n",
              "      <th>1</th>\n",
              "      <td>Hispânico Sul</td>\n",
              "      <td>Argentina</td>\n",
              "      <td>EPSA</td>\n",
              "      <td>Construction</td>\n",
              "      <td>ART</td>\n",
              "      <td>A30G732052</td>\n",
              "      <td>VCE0A30GCL0732052</td>\n",
              "      <td>2020-06-22</td>\n",
              "      <td>NaN</td>\n",
              "      <td>San Juan</td>\n",
              "      <td>Argentina</td>\n",
              "    </tr>\n",
              "    <tr>\n",
              "      <th>2</th>\n",
              "      <td>Hispânico Sul</td>\n",
              "      <td>Argentina</td>\n",
              "      <td>EPSA</td>\n",
              "      <td>Mining</td>\n",
              "      <td>ART</td>\n",
              "      <td>A30G732029</td>\n",
              "      <td>NaN</td>\n",
              "      <td>2019-11-27</td>\n",
              "      <td>Não encontramos com os métodos de pesquisa uti...</td>\n",
              "      <td>Entre Ríos</td>\n",
              "      <td>Argentina</td>\n",
              "    </tr>\n",
              "    <tr>\n",
              "      <th>3</th>\n",
              "      <td>Hispânico Sul</td>\n",
              "      <td>Argentina</td>\n",
              "      <td>EPSA</td>\n",
              "      <td>Mining</td>\n",
              "      <td>EXC</td>\n",
              "      <td>EC210282764</td>\n",
              "      <td>VCEC210DH00282764</td>\n",
              "      <td>2019-06-06</td>\n",
              "      <td>NaN</td>\n",
              "      <td>0</td>\n",
              "      <td>Argentina</td>\n",
              "    </tr>\n",
              "    <tr>\n",
              "      <th>4</th>\n",
              "      <td>Hispânico Sul</td>\n",
              "      <td>Argentina</td>\n",
              "      <td>EPSA</td>\n",
              "      <td>Forestry</td>\n",
              "      <td>EXC</td>\n",
              "      <td>EC210282811</td>\n",
              "      <td>VCEC210DV00282811</td>\n",
              "      <td>2019-09-13</td>\n",
              "      <td>Não encontramos com os métodos de pesquisa uti...</td>\n",
              "      <td>0</td>\n",
              "      <td>Argentina</td>\n",
              "    </tr>\n",
              "  </tbody>\n",
              "</table>\n",
              "</div>\n",
              "      <button class=\"colab-df-convert\" onclick=\"convertToInteractive('df-81bbc76f-7121-4d65-8500-115a7d8d99ac')\"\n",
              "              title=\"Convert this dataframe to an interactive table.\"\n",
              "              style=\"display:none;\">\n",
              "        \n",
              "  <svg xmlns=\"http://www.w3.org/2000/svg\" height=\"24px\"viewBox=\"0 0 24 24\"\n",
              "       width=\"24px\">\n",
              "    <path d=\"M0 0h24v24H0V0z\" fill=\"none\"/>\n",
              "    <path d=\"M18.56 5.44l.94 2.06.94-2.06 2.06-.94-2.06-.94-.94-2.06-.94 2.06-2.06.94zm-11 1L8.5 8.5l.94-2.06 2.06-.94-2.06-.94L8.5 2.5l-.94 2.06-2.06.94zm10 10l.94 2.06.94-2.06 2.06-.94-2.06-.94-.94-2.06-.94 2.06-2.06.94z\"/><path d=\"M17.41 7.96l-1.37-1.37c-.4-.4-.92-.59-1.43-.59-.52 0-1.04.2-1.43.59L10.3 9.45l-7.72 7.72c-.78.78-.78 2.05 0 2.83L4 21.41c.39.39.9.59 1.41.59.51 0 1.02-.2 1.41-.59l7.78-7.78 2.81-2.81c.8-.78.8-2.07 0-2.86zM5.41 20L4 18.59l7.72-7.72 1.47 1.35L5.41 20z\"/>\n",
              "  </svg>\n",
              "      </button>\n",
              "      \n",
              "  <style>\n",
              "    .colab-df-container {\n",
              "      display:flex;\n",
              "      flex-wrap:wrap;\n",
              "      gap: 12px;\n",
              "    }\n",
              "\n",
              "    .colab-df-convert {\n",
              "      background-color: #E8F0FE;\n",
              "      border: none;\n",
              "      border-radius: 50%;\n",
              "      cursor: pointer;\n",
              "      display: none;\n",
              "      fill: #1967D2;\n",
              "      height: 32px;\n",
              "      padding: 0 0 0 0;\n",
              "      width: 32px;\n",
              "    }\n",
              "\n",
              "    .colab-df-convert:hover {\n",
              "      background-color: #E2EBFA;\n",
              "      box-shadow: 0px 1px 2px rgba(60, 64, 67, 0.3), 0px 1px 3px 1px rgba(60, 64, 67, 0.15);\n",
              "      fill: #174EA6;\n",
              "    }\n",
              "\n",
              "    [theme=dark] .colab-df-convert {\n",
              "      background-color: #3B4455;\n",
              "      fill: #D2E3FC;\n",
              "    }\n",
              "\n",
              "    [theme=dark] .colab-df-convert:hover {\n",
              "      background-color: #434B5C;\n",
              "      box-shadow: 0px 1px 3px 1px rgba(0, 0, 0, 0.15);\n",
              "      filter: drop-shadow(0px 1px 2px rgba(0, 0, 0, 0.3));\n",
              "      fill: #FFFFFF;\n",
              "    }\n",
              "  </style>\n",
              "\n",
              "      <script>\n",
              "        const buttonEl =\n",
              "          document.querySelector('#df-81bbc76f-7121-4d65-8500-115a7d8d99ac button.colab-df-convert');\n",
              "        buttonEl.style.display =\n",
              "          google.colab.kernel.accessAllowed ? 'block' : 'none';\n",
              "\n",
              "        async function convertToInteractive(key) {\n",
              "          const element = document.querySelector('#df-81bbc76f-7121-4d65-8500-115a7d8d99ac');\n",
              "          const dataTable =\n",
              "            await google.colab.kernel.invokeFunction('convertToInteractive',\n",
              "                                                     [key], {});\n",
              "          if (!dataTable) return;\n",
              "\n",
              "          const docLinkHtml = 'Like what you see? Visit the ' +\n",
              "            '<a target=\"_blank\" href=https://colab.research.google.com/notebooks/data_table.ipynb>data table notebook</a>'\n",
              "            + ' to learn more about interactive tables.';\n",
              "          element.innerHTML = '';\n",
              "          dataTable['output_type'] = 'display_data';\n",
              "          await google.colab.output.renderOutput(dataTable, element);\n",
              "          const docLink = document.createElement('div');\n",
              "          docLink.innerHTML = docLinkHtml;\n",
              "          element.appendChild(docLink);\n",
              "        }\n",
              "      </script>\n",
              "    </div>\n",
              "  </div>\n",
              "  "
            ]
          },
          "metadata": {},
          "execution_count": 21
        }
      ],
      "source": [
        "table_equipments.head()"
      ]
    },
    {
      "cell_type": "code",
      "execution_count": null,
      "metadata": {
        "id": "PvWkd4-irM07",
        "outputId": "424ed1f7-0cbd-4158-98d2-ee6bc67126f2",
        "colab": {
          "base_uri": "https://localhost:8080/",
          "height": 206
        }
      },
      "outputs": [
        {
          "output_type": "execute_result",
          "data": {
            "text/plain": [
              "            ID        Day  Time\n",
              "0  A030F720057 2016-12-09  0.00\n",
              "1  A030F720057 2016-12-10  5.75\n",
              "2  A030F720057 2016-12-11  8.95\n",
              "3  A030F720057 2016-12-12  1.60\n",
              "4  A030F720057 2016-12-13  8.20"
            ],
            "text/html": [
              "\n",
              "  <div id=\"df-44dfdc94-5400-40f0-b9f8-b0770d97a8df\">\n",
              "    <div class=\"colab-df-container\">\n",
              "      <div>\n",
              "<style scoped>\n",
              "    .dataframe tbody tr th:only-of-type {\n",
              "        vertical-align: middle;\n",
              "    }\n",
              "\n",
              "    .dataframe tbody tr th {\n",
              "        vertical-align: top;\n",
              "    }\n",
              "\n",
              "    .dataframe thead th {\n",
              "        text-align: right;\n",
              "    }\n",
              "</style>\n",
              "<table border=\"1\" class=\"dataframe\">\n",
              "  <thead>\n",
              "    <tr style=\"text-align: right;\">\n",
              "      <th></th>\n",
              "      <th>ID</th>\n",
              "      <th>Day</th>\n",
              "      <th>Time</th>\n",
              "    </tr>\n",
              "  </thead>\n",
              "  <tbody>\n",
              "    <tr>\n",
              "      <th>0</th>\n",
              "      <td>A030F720057</td>\n",
              "      <td>2016-12-09</td>\n",
              "      <td>0.00</td>\n",
              "    </tr>\n",
              "    <tr>\n",
              "      <th>1</th>\n",
              "      <td>A030F720057</td>\n",
              "      <td>2016-12-10</td>\n",
              "      <td>5.75</td>\n",
              "    </tr>\n",
              "    <tr>\n",
              "      <th>2</th>\n",
              "      <td>A030F720057</td>\n",
              "      <td>2016-12-11</td>\n",
              "      <td>8.95</td>\n",
              "    </tr>\n",
              "    <tr>\n",
              "      <th>3</th>\n",
              "      <td>A030F720057</td>\n",
              "      <td>2016-12-12</td>\n",
              "      <td>1.60</td>\n",
              "    </tr>\n",
              "    <tr>\n",
              "      <th>4</th>\n",
              "      <td>A030F720057</td>\n",
              "      <td>2016-12-13</td>\n",
              "      <td>8.20</td>\n",
              "    </tr>\n",
              "  </tbody>\n",
              "</table>\n",
              "</div>\n",
              "      <button class=\"colab-df-convert\" onclick=\"convertToInteractive('df-44dfdc94-5400-40f0-b9f8-b0770d97a8df')\"\n",
              "              title=\"Convert this dataframe to an interactive table.\"\n",
              "              style=\"display:none;\">\n",
              "        \n",
              "  <svg xmlns=\"http://www.w3.org/2000/svg\" height=\"24px\"viewBox=\"0 0 24 24\"\n",
              "       width=\"24px\">\n",
              "    <path d=\"M0 0h24v24H0V0z\" fill=\"none\"/>\n",
              "    <path d=\"M18.56 5.44l.94 2.06.94-2.06 2.06-.94-2.06-.94-.94-2.06-.94 2.06-2.06.94zm-11 1L8.5 8.5l.94-2.06 2.06-.94-2.06-.94L8.5 2.5l-.94 2.06-2.06.94zm10 10l.94 2.06.94-2.06 2.06-.94-2.06-.94-.94-2.06-.94 2.06-2.06.94z\"/><path d=\"M17.41 7.96l-1.37-1.37c-.4-.4-.92-.59-1.43-.59-.52 0-1.04.2-1.43.59L10.3 9.45l-7.72 7.72c-.78.78-.78 2.05 0 2.83L4 21.41c.39.39.9.59 1.41.59.51 0 1.02-.2 1.41-.59l7.78-7.78 2.81-2.81c.8-.78.8-2.07 0-2.86zM5.41 20L4 18.59l7.72-7.72 1.47 1.35L5.41 20z\"/>\n",
              "  </svg>\n",
              "      </button>\n",
              "      \n",
              "  <style>\n",
              "    .colab-df-container {\n",
              "      display:flex;\n",
              "      flex-wrap:wrap;\n",
              "      gap: 12px;\n",
              "    }\n",
              "\n",
              "    .colab-df-convert {\n",
              "      background-color: #E8F0FE;\n",
              "      border: none;\n",
              "      border-radius: 50%;\n",
              "      cursor: pointer;\n",
              "      display: none;\n",
              "      fill: #1967D2;\n",
              "      height: 32px;\n",
              "      padding: 0 0 0 0;\n",
              "      width: 32px;\n",
              "    }\n",
              "\n",
              "    .colab-df-convert:hover {\n",
              "      background-color: #E2EBFA;\n",
              "      box-shadow: 0px 1px 2px rgba(60, 64, 67, 0.3), 0px 1px 3px 1px rgba(60, 64, 67, 0.15);\n",
              "      fill: #174EA6;\n",
              "    }\n",
              "\n",
              "    [theme=dark] .colab-df-convert {\n",
              "      background-color: #3B4455;\n",
              "      fill: #D2E3FC;\n",
              "    }\n",
              "\n",
              "    [theme=dark] .colab-df-convert:hover {\n",
              "      background-color: #434B5C;\n",
              "      box-shadow: 0px 1px 3px 1px rgba(0, 0, 0, 0.15);\n",
              "      filter: drop-shadow(0px 1px 2px rgba(0, 0, 0, 0.3));\n",
              "      fill: #FFFFFF;\n",
              "    }\n",
              "  </style>\n",
              "\n",
              "      <script>\n",
              "        const buttonEl =\n",
              "          document.querySelector('#df-44dfdc94-5400-40f0-b9f8-b0770d97a8df button.colab-df-convert');\n",
              "        buttonEl.style.display =\n",
              "          google.colab.kernel.accessAllowed ? 'block' : 'none';\n",
              "\n",
              "        async function convertToInteractive(key) {\n",
              "          const element = document.querySelector('#df-44dfdc94-5400-40f0-b9f8-b0770d97a8df');\n",
              "          const dataTable =\n",
              "            await google.colab.kernel.invokeFunction('convertToInteractive',\n",
              "                                                     [key], {});\n",
              "          if (!dataTable) return;\n",
              "\n",
              "          const docLinkHtml = 'Like what you see? Visit the ' +\n",
              "            '<a target=\"_blank\" href=https://colab.research.google.com/notebooks/data_table.ipynb>data table notebook</a>'\n",
              "            + ' to learn more about interactive tables.';\n",
              "          element.innerHTML = '';\n",
              "          dataTable['output_type'] = 'display_data';\n",
              "          await google.colab.output.renderOutput(dataTable, element);\n",
              "          const docLink = document.createElement('div');\n",
              "          docLink.innerHTML = docLinkHtml;\n",
              "          element.appendChild(docLink);\n",
              "        }\n",
              "      </script>\n",
              "    </div>\n",
              "  </div>\n",
              "  "
            ]
          },
          "metadata": {},
          "execution_count": 22
        }
      ],
      "source": [
        "table_time_series.head()"
      ]
    },
    {
      "cell_type": "code",
      "execution_count": null,
      "metadata": {
        "id": "W_vbtQWvrM07",
        "outputId": "3e0c30a8-67f2-44ff-a86b-dd38fa6e7c99",
        "colab": {
          "base_uri": "https://localhost:8080/"
        }
      },
      "outputs": [
        {
          "output_type": "stream",
          "name": "stdout",
          "text": [
            "<class 'pandas.core.frame.DataFrame'>\n",
            "RangeIndex: 63 entries, 0 to 62\n",
            "Data columns (total 11 columns):\n",
            " #   Column         Non-Null Count  Dtype         \n",
            "---  ------         --------------  -----         \n",
            " 0   Região         63 non-null     object        \n",
            " 1   País           63 non-null     object        \n",
            " 2   Dealer         63 non-null     object        \n",
            " 3   Segmento       63 non-null     object        \n",
            " 4   Modelo         63 non-null     object        \n",
            " 5   ID             63 non-null     object        \n",
            " 6   PIN17          57 non-null     object        \n",
            " 7   Delivery Date  62 non-null     datetime64[ns]\n",
            " 8   Obs.:          15 non-null     object        \n",
            " 9   Estado         63 non-null     object        \n",
            " 10  Região.1       63 non-null     object        \n",
            "dtypes: datetime64[ns](1), object(10)\n",
            "memory usage: 5.5+ KB\n"
          ]
        }
      ],
      "source": [
        "table_equipments.info()"
      ]
    },
    {
      "cell_type": "code",
      "execution_count": null,
      "metadata": {
        "id": "Ruj8DUOQrM07",
        "outputId": "82e90bb9-b2ee-466e-89c5-dc31c7c02d9b",
        "colab": {
          "base_uri": "https://localhost:8080/"
        }
      },
      "outputs": [
        {
          "output_type": "stream",
          "name": "stdout",
          "text": [
            "<class 'pandas.core.frame.DataFrame'>\n",
            "RangeIndex: 118161 entries, 0 to 118160\n",
            "Data columns (total 3 columns):\n",
            " #   Column  Non-Null Count   Dtype         \n",
            "---  ------  --------------   -----         \n",
            " 0   ID      118161 non-null  object        \n",
            " 1   Day     118161 non-null  datetime64[ns]\n",
            " 2   Time    118161 non-null  float64       \n",
            "dtypes: datetime64[ns](1), float64(1), object(1)\n",
            "memory usage: 2.7+ MB\n"
          ]
        }
      ],
      "source": [
        "table_time_series.info()"
      ]
    },
    {
      "cell_type": "code",
      "execution_count": null,
      "metadata": {
        "id": "q_Cv3US6rM07",
        "outputId": "95c8c8e2-4675-4304-b909-5a62cdee9317",
        "colab": {
          "base_uri": "https://localhost:8080/",
          "height": 292
        }
      },
      "outputs": [
        {
          "output_type": "stream",
          "name": "stderr",
          "text": [
            "<ipython-input-25-0b85796f827e>:1: FutureWarning: Treating datetime data as categorical rather than numeric in `.describe` is deprecated and will be removed in a future version of pandas. Specify `datetime_is_numeric=True` to silence this warning and adopt the future behavior now.\n",
            "  table_equipments.describe()\n"
          ]
        },
        {
          "output_type": "execute_result",
          "data": {
            "text/plain": [
              "        Região    País     Dealer Segmento Modelo           ID  \\\n",
              "count       63      63         63       63     63           63   \n",
              "unique       3       3          7        5      3           63   \n",
              "top     Brasil  Brasil  Tecnoeste   Mining    ART  A040F320538   \n",
              "freq        45      45         10       23     21            1   \n",
              "first      NaN     NaN        NaN      NaN    NaN          NaN   \n",
              "last       NaN     NaN        NaN      NaN    NaN          NaN   \n",
              "\n",
              "                    PIN17        Delivery Date  \\\n",
              "count                  57                   62   \n",
              "unique                 57                   60   \n",
              "top     VCEA040FCG0320538  2018-06-15 00:00:00   \n",
              "freq                    1                    2   \n",
              "first                 NaN  2012-03-09 00:00:00   \n",
              "last                  NaN  2021-08-19 00:00:00   \n",
              "\n",
              "                                                  Obs.:        Estado Região.1  \n",
              "count                                                15            63       63  \n",
              "unique                                               12            29        7  \n",
              "top     Não existe articulado na Dinâmica no CareTrack.  Minas Gerais  Sudeste  \n",
              "freq                                                  3             9       14  \n",
              "first                                               NaN           NaN      NaN  \n",
              "last                                                NaN           NaN      NaN  "
            ],
            "text/html": [
              "\n",
              "  <div id=\"df-b38810fe-f62a-4030-b010-c604d72c02aa\">\n",
              "    <div class=\"colab-df-container\">\n",
              "      <div>\n",
              "<style scoped>\n",
              "    .dataframe tbody tr th:only-of-type {\n",
              "        vertical-align: middle;\n",
              "    }\n",
              "\n",
              "    .dataframe tbody tr th {\n",
              "        vertical-align: top;\n",
              "    }\n",
              "\n",
              "    .dataframe thead th {\n",
              "        text-align: right;\n",
              "    }\n",
              "</style>\n",
              "<table border=\"1\" class=\"dataframe\">\n",
              "  <thead>\n",
              "    <tr style=\"text-align: right;\">\n",
              "      <th></th>\n",
              "      <th>Região</th>\n",
              "      <th>País</th>\n",
              "      <th>Dealer</th>\n",
              "      <th>Segmento</th>\n",
              "      <th>Modelo</th>\n",
              "      <th>ID</th>\n",
              "      <th>PIN17</th>\n",
              "      <th>Delivery Date</th>\n",
              "      <th>Obs.:</th>\n",
              "      <th>Estado</th>\n",
              "      <th>Região.1</th>\n",
              "    </tr>\n",
              "  </thead>\n",
              "  <tbody>\n",
              "    <tr>\n",
              "      <th>count</th>\n",
              "      <td>63</td>\n",
              "      <td>63</td>\n",
              "      <td>63</td>\n",
              "      <td>63</td>\n",
              "      <td>63</td>\n",
              "      <td>63</td>\n",
              "      <td>57</td>\n",
              "      <td>62</td>\n",
              "      <td>15</td>\n",
              "      <td>63</td>\n",
              "      <td>63</td>\n",
              "    </tr>\n",
              "    <tr>\n",
              "      <th>unique</th>\n",
              "      <td>3</td>\n",
              "      <td>3</td>\n",
              "      <td>7</td>\n",
              "      <td>5</td>\n",
              "      <td>3</td>\n",
              "      <td>63</td>\n",
              "      <td>57</td>\n",
              "      <td>60</td>\n",
              "      <td>12</td>\n",
              "      <td>29</td>\n",
              "      <td>7</td>\n",
              "    </tr>\n",
              "    <tr>\n",
              "      <th>top</th>\n",
              "      <td>Brasil</td>\n",
              "      <td>Brasil</td>\n",
              "      <td>Tecnoeste</td>\n",
              "      <td>Mining</td>\n",
              "      <td>ART</td>\n",
              "      <td>A040F320538</td>\n",
              "      <td>VCEA040FCG0320538</td>\n",
              "      <td>2018-06-15 00:00:00</td>\n",
              "      <td>Não existe articulado na Dinâmica no CareTrack.</td>\n",
              "      <td>Minas Gerais</td>\n",
              "      <td>Sudeste</td>\n",
              "    </tr>\n",
              "    <tr>\n",
              "      <th>freq</th>\n",
              "      <td>45</td>\n",
              "      <td>45</td>\n",
              "      <td>10</td>\n",
              "      <td>23</td>\n",
              "      <td>21</td>\n",
              "      <td>1</td>\n",
              "      <td>1</td>\n",
              "      <td>2</td>\n",
              "      <td>3</td>\n",
              "      <td>9</td>\n",
              "      <td>14</td>\n",
              "    </tr>\n",
              "    <tr>\n",
              "      <th>first</th>\n",
              "      <td>NaN</td>\n",
              "      <td>NaN</td>\n",
              "      <td>NaN</td>\n",
              "      <td>NaN</td>\n",
              "      <td>NaN</td>\n",
              "      <td>NaN</td>\n",
              "      <td>NaN</td>\n",
              "      <td>2012-03-09 00:00:00</td>\n",
              "      <td>NaN</td>\n",
              "      <td>NaN</td>\n",
              "      <td>NaN</td>\n",
              "    </tr>\n",
              "    <tr>\n",
              "      <th>last</th>\n",
              "      <td>NaN</td>\n",
              "      <td>NaN</td>\n",
              "      <td>NaN</td>\n",
              "      <td>NaN</td>\n",
              "      <td>NaN</td>\n",
              "      <td>NaN</td>\n",
              "      <td>NaN</td>\n",
              "      <td>2021-08-19 00:00:00</td>\n",
              "      <td>NaN</td>\n",
              "      <td>NaN</td>\n",
              "      <td>NaN</td>\n",
              "    </tr>\n",
              "  </tbody>\n",
              "</table>\n",
              "</div>\n",
              "      <button class=\"colab-df-convert\" onclick=\"convertToInteractive('df-b38810fe-f62a-4030-b010-c604d72c02aa')\"\n",
              "              title=\"Convert this dataframe to an interactive table.\"\n",
              "              style=\"display:none;\">\n",
              "        \n",
              "  <svg xmlns=\"http://www.w3.org/2000/svg\" height=\"24px\"viewBox=\"0 0 24 24\"\n",
              "       width=\"24px\">\n",
              "    <path d=\"M0 0h24v24H0V0z\" fill=\"none\"/>\n",
              "    <path d=\"M18.56 5.44l.94 2.06.94-2.06 2.06-.94-2.06-.94-.94-2.06-.94 2.06-2.06.94zm-11 1L8.5 8.5l.94-2.06 2.06-.94-2.06-.94L8.5 2.5l-.94 2.06-2.06.94zm10 10l.94 2.06.94-2.06 2.06-.94-2.06-.94-.94-2.06-.94 2.06-2.06.94z\"/><path d=\"M17.41 7.96l-1.37-1.37c-.4-.4-.92-.59-1.43-.59-.52 0-1.04.2-1.43.59L10.3 9.45l-7.72 7.72c-.78.78-.78 2.05 0 2.83L4 21.41c.39.39.9.59 1.41.59.51 0 1.02-.2 1.41-.59l7.78-7.78 2.81-2.81c.8-.78.8-2.07 0-2.86zM5.41 20L4 18.59l7.72-7.72 1.47 1.35L5.41 20z\"/>\n",
              "  </svg>\n",
              "      </button>\n",
              "      \n",
              "  <style>\n",
              "    .colab-df-container {\n",
              "      display:flex;\n",
              "      flex-wrap:wrap;\n",
              "      gap: 12px;\n",
              "    }\n",
              "\n",
              "    .colab-df-convert {\n",
              "      background-color: #E8F0FE;\n",
              "      border: none;\n",
              "      border-radius: 50%;\n",
              "      cursor: pointer;\n",
              "      display: none;\n",
              "      fill: #1967D2;\n",
              "      height: 32px;\n",
              "      padding: 0 0 0 0;\n",
              "      width: 32px;\n",
              "    }\n",
              "\n",
              "    .colab-df-convert:hover {\n",
              "      background-color: #E2EBFA;\n",
              "      box-shadow: 0px 1px 2px rgba(60, 64, 67, 0.3), 0px 1px 3px 1px rgba(60, 64, 67, 0.15);\n",
              "      fill: #174EA6;\n",
              "    }\n",
              "\n",
              "    [theme=dark] .colab-df-convert {\n",
              "      background-color: #3B4455;\n",
              "      fill: #D2E3FC;\n",
              "    }\n",
              "\n",
              "    [theme=dark] .colab-df-convert:hover {\n",
              "      background-color: #434B5C;\n",
              "      box-shadow: 0px 1px 3px 1px rgba(0, 0, 0, 0.15);\n",
              "      filter: drop-shadow(0px 1px 2px rgba(0, 0, 0, 0.3));\n",
              "      fill: #FFFFFF;\n",
              "    }\n",
              "  </style>\n",
              "\n",
              "      <script>\n",
              "        const buttonEl =\n",
              "          document.querySelector('#df-b38810fe-f62a-4030-b010-c604d72c02aa button.colab-df-convert');\n",
              "        buttonEl.style.display =\n",
              "          google.colab.kernel.accessAllowed ? 'block' : 'none';\n",
              "\n",
              "        async function convertToInteractive(key) {\n",
              "          const element = document.querySelector('#df-b38810fe-f62a-4030-b010-c604d72c02aa');\n",
              "          const dataTable =\n",
              "            await google.colab.kernel.invokeFunction('convertToInteractive',\n",
              "                                                     [key], {});\n",
              "          if (!dataTable) return;\n",
              "\n",
              "          const docLinkHtml = 'Like what you see? Visit the ' +\n",
              "            '<a target=\"_blank\" href=https://colab.research.google.com/notebooks/data_table.ipynb>data table notebook</a>'\n",
              "            + ' to learn more about interactive tables.';\n",
              "          element.innerHTML = '';\n",
              "          dataTable['output_type'] = 'display_data';\n",
              "          await google.colab.output.renderOutput(dataTable, element);\n",
              "          const docLink = document.createElement('div');\n",
              "          docLink.innerHTML = docLinkHtml;\n",
              "          element.appendChild(docLink);\n",
              "        }\n",
              "      </script>\n",
              "    </div>\n",
              "  </div>\n",
              "  "
            ]
          },
          "metadata": {},
          "execution_count": 25
        }
      ],
      "source": [
        "table_equipments.describe()"
      ]
    },
    {
      "cell_type": "code",
      "execution_count": null,
      "metadata": {
        "id": "nLAq4q8srM08",
        "outputId": "1b646685-c6af-482e-ca3f-9b2dc4ea54a1",
        "colab": {
          "base_uri": "https://localhost:8080/",
          "height": 300
        }
      },
      "outputs": [
        {
          "output_type": "execute_result",
          "data": {
            "text/plain": [
              "                Time\n",
              "count  118161.000000\n",
              "mean        5.803329\n",
              "std         6.365152\n",
              "min         0.000000\n",
              "25%         0.038235\n",
              "50%         4.200000\n",
              "75%         9.200000\n",
              "max        85.450000"
            ],
            "text/html": [
              "\n",
              "  <div id=\"df-52b27999-dc15-45e9-83f5-c0a842449f5e\">\n",
              "    <div class=\"colab-df-container\">\n",
              "      <div>\n",
              "<style scoped>\n",
              "    .dataframe tbody tr th:only-of-type {\n",
              "        vertical-align: middle;\n",
              "    }\n",
              "\n",
              "    .dataframe tbody tr th {\n",
              "        vertical-align: top;\n",
              "    }\n",
              "\n",
              "    .dataframe thead th {\n",
              "        text-align: right;\n",
              "    }\n",
              "</style>\n",
              "<table border=\"1\" class=\"dataframe\">\n",
              "  <thead>\n",
              "    <tr style=\"text-align: right;\">\n",
              "      <th></th>\n",
              "      <th>Time</th>\n",
              "    </tr>\n",
              "  </thead>\n",
              "  <tbody>\n",
              "    <tr>\n",
              "      <th>count</th>\n",
              "      <td>118161.000000</td>\n",
              "    </tr>\n",
              "    <tr>\n",
              "      <th>mean</th>\n",
              "      <td>5.803329</td>\n",
              "    </tr>\n",
              "    <tr>\n",
              "      <th>std</th>\n",
              "      <td>6.365152</td>\n",
              "    </tr>\n",
              "    <tr>\n",
              "      <th>min</th>\n",
              "      <td>0.000000</td>\n",
              "    </tr>\n",
              "    <tr>\n",
              "      <th>25%</th>\n",
              "      <td>0.038235</td>\n",
              "    </tr>\n",
              "    <tr>\n",
              "      <th>50%</th>\n",
              "      <td>4.200000</td>\n",
              "    </tr>\n",
              "    <tr>\n",
              "      <th>75%</th>\n",
              "      <td>9.200000</td>\n",
              "    </tr>\n",
              "    <tr>\n",
              "      <th>max</th>\n",
              "      <td>85.450000</td>\n",
              "    </tr>\n",
              "  </tbody>\n",
              "</table>\n",
              "</div>\n",
              "      <button class=\"colab-df-convert\" onclick=\"convertToInteractive('df-52b27999-dc15-45e9-83f5-c0a842449f5e')\"\n",
              "              title=\"Convert this dataframe to an interactive table.\"\n",
              "              style=\"display:none;\">\n",
              "        \n",
              "  <svg xmlns=\"http://www.w3.org/2000/svg\" height=\"24px\"viewBox=\"0 0 24 24\"\n",
              "       width=\"24px\">\n",
              "    <path d=\"M0 0h24v24H0V0z\" fill=\"none\"/>\n",
              "    <path d=\"M18.56 5.44l.94 2.06.94-2.06 2.06-.94-2.06-.94-.94-2.06-.94 2.06-2.06.94zm-11 1L8.5 8.5l.94-2.06 2.06-.94-2.06-.94L8.5 2.5l-.94 2.06-2.06.94zm10 10l.94 2.06.94-2.06 2.06-.94-2.06-.94-.94-2.06-.94 2.06-2.06.94z\"/><path d=\"M17.41 7.96l-1.37-1.37c-.4-.4-.92-.59-1.43-.59-.52 0-1.04.2-1.43.59L10.3 9.45l-7.72 7.72c-.78.78-.78 2.05 0 2.83L4 21.41c.39.39.9.59 1.41.59.51 0 1.02-.2 1.41-.59l7.78-7.78 2.81-2.81c.8-.78.8-2.07 0-2.86zM5.41 20L4 18.59l7.72-7.72 1.47 1.35L5.41 20z\"/>\n",
              "  </svg>\n",
              "      </button>\n",
              "      \n",
              "  <style>\n",
              "    .colab-df-container {\n",
              "      display:flex;\n",
              "      flex-wrap:wrap;\n",
              "      gap: 12px;\n",
              "    }\n",
              "\n",
              "    .colab-df-convert {\n",
              "      background-color: #E8F0FE;\n",
              "      border: none;\n",
              "      border-radius: 50%;\n",
              "      cursor: pointer;\n",
              "      display: none;\n",
              "      fill: #1967D2;\n",
              "      height: 32px;\n",
              "      padding: 0 0 0 0;\n",
              "      width: 32px;\n",
              "    }\n",
              "\n",
              "    .colab-df-convert:hover {\n",
              "      background-color: #E2EBFA;\n",
              "      box-shadow: 0px 1px 2px rgba(60, 64, 67, 0.3), 0px 1px 3px 1px rgba(60, 64, 67, 0.15);\n",
              "      fill: #174EA6;\n",
              "    }\n",
              "\n",
              "    [theme=dark] .colab-df-convert {\n",
              "      background-color: #3B4455;\n",
              "      fill: #D2E3FC;\n",
              "    }\n",
              "\n",
              "    [theme=dark] .colab-df-convert:hover {\n",
              "      background-color: #434B5C;\n",
              "      box-shadow: 0px 1px 3px 1px rgba(0, 0, 0, 0.15);\n",
              "      filter: drop-shadow(0px 1px 2px rgba(0, 0, 0, 0.3));\n",
              "      fill: #FFFFFF;\n",
              "    }\n",
              "  </style>\n",
              "\n",
              "      <script>\n",
              "        const buttonEl =\n",
              "          document.querySelector('#df-52b27999-dc15-45e9-83f5-c0a842449f5e button.colab-df-convert');\n",
              "        buttonEl.style.display =\n",
              "          google.colab.kernel.accessAllowed ? 'block' : 'none';\n",
              "\n",
              "        async function convertToInteractive(key) {\n",
              "          const element = document.querySelector('#df-52b27999-dc15-45e9-83f5-c0a842449f5e');\n",
              "          const dataTable =\n",
              "            await google.colab.kernel.invokeFunction('convertToInteractive',\n",
              "                                                     [key], {});\n",
              "          if (!dataTable) return;\n",
              "\n",
              "          const docLinkHtml = 'Like what you see? Visit the ' +\n",
              "            '<a target=\"_blank\" href=https://colab.research.google.com/notebooks/data_table.ipynb>data table notebook</a>'\n",
              "            + ' to learn more about interactive tables.';\n",
              "          element.innerHTML = '';\n",
              "          dataTable['output_type'] = 'display_data';\n",
              "          await google.colab.output.renderOutput(dataTable, element);\n",
              "          const docLink = document.createElement('div');\n",
              "          docLink.innerHTML = docLinkHtml;\n",
              "          element.appendChild(docLink);\n",
              "        }\n",
              "      </script>\n",
              "    </div>\n",
              "  </div>\n",
              "  "
            ]
          },
          "metadata": {},
          "execution_count": 26
        }
      ],
      "source": [
        "table_time_series.describe()"
      ]
    },
    {
      "cell_type": "code",
      "execution_count": null,
      "metadata": {
        "id": "XlhlWl50rM08",
        "outputId": "3a899571-4bb6-4664-86b6-f18cac6019e7",
        "colab": {
          "base_uri": "https://localhost:8080/"
        }
      },
      "outputs": [
        {
          "output_type": "execute_result",
          "data": {
            "text/plain": [
              "63"
            ]
          },
          "metadata": {},
          "execution_count": 27
        }
      ],
      "source": [
        "table_equipments.ID.nunique()"
      ]
    },
    {
      "cell_type": "code",
      "execution_count": null,
      "metadata": {
        "id": "lpSIqiFprM08",
        "outputId": "aedc50d2-063d-4c74-85ff-25f64edfa30d",
        "colab": {
          "base_uri": "https://localhost:8080/"
        }
      },
      "outputs": [
        {
          "output_type": "execute_result",
          "data": {
            "text/plain": [
              "62"
            ]
          },
          "metadata": {},
          "execution_count": 28
        }
      ],
      "source": [
        "table_time_series.ID.nunique()"
      ]
    },
    {
      "cell_type": "code",
      "execution_count": null,
      "metadata": {
        "id": "Kq0pdgAfrM08"
      },
      "outputs": [],
      "source": [
        "id_equipments = table_equipments.ID.unique().tolist()\n",
        "id_time_series = table_time_series.ID.unique().tolist()"
      ]
    },
    {
      "cell_type": "code",
      "execution_count": null,
      "metadata": {
        "id": "rArOoN1hrM09",
        "outputId": "10f86888-ab4b-4fa1-df58-c84faeedb208",
        "colab": {
          "base_uri": "https://localhost:8080/",
          "height": 81
        }
      },
      "outputs": [
        {
          "output_type": "execute_result",
          "data": {
            "text/plain": [
              "    Região    País   Dealer Segmento Modelo          ID              PIN17  \\\n",
              "47  Brasil  Brasil  Tracbel   Mining    ART  A30F720054  VCEA030FLF0720054   \n",
              "\n",
              "   Delivery Date Obs.:        Estado Região.1  \n",
              "47    2016-10-13   NaN  Minas Gerais  Sudeste  "
            ],
            "text/html": [
              "\n",
              "  <div id=\"df-b15f7f99-e3bd-4b8d-9aed-dd8c299e7c24\">\n",
              "    <div class=\"colab-df-container\">\n",
              "      <div>\n",
              "<style scoped>\n",
              "    .dataframe tbody tr th:only-of-type {\n",
              "        vertical-align: middle;\n",
              "    }\n",
              "\n",
              "    .dataframe tbody tr th {\n",
              "        vertical-align: top;\n",
              "    }\n",
              "\n",
              "    .dataframe thead th {\n",
              "        text-align: right;\n",
              "    }\n",
              "</style>\n",
              "<table border=\"1\" class=\"dataframe\">\n",
              "  <thead>\n",
              "    <tr style=\"text-align: right;\">\n",
              "      <th></th>\n",
              "      <th>Região</th>\n",
              "      <th>País</th>\n",
              "      <th>Dealer</th>\n",
              "      <th>Segmento</th>\n",
              "      <th>Modelo</th>\n",
              "      <th>ID</th>\n",
              "      <th>PIN17</th>\n",
              "      <th>Delivery Date</th>\n",
              "      <th>Obs.:</th>\n",
              "      <th>Estado</th>\n",
              "      <th>Região.1</th>\n",
              "    </tr>\n",
              "  </thead>\n",
              "  <tbody>\n",
              "    <tr>\n",
              "      <th>47</th>\n",
              "      <td>Brasil</td>\n",
              "      <td>Brasil</td>\n",
              "      <td>Tracbel</td>\n",
              "      <td>Mining</td>\n",
              "      <td>ART</td>\n",
              "      <td>A30F720054</td>\n",
              "      <td>VCEA030FLF0720054</td>\n",
              "      <td>2016-10-13</td>\n",
              "      <td>NaN</td>\n",
              "      <td>Minas Gerais</td>\n",
              "      <td>Sudeste</td>\n",
              "    </tr>\n",
              "  </tbody>\n",
              "</table>\n",
              "</div>\n",
              "      <button class=\"colab-df-convert\" onclick=\"convertToInteractive('df-b15f7f99-e3bd-4b8d-9aed-dd8c299e7c24')\"\n",
              "              title=\"Convert this dataframe to an interactive table.\"\n",
              "              style=\"display:none;\">\n",
              "        \n",
              "  <svg xmlns=\"http://www.w3.org/2000/svg\" height=\"24px\"viewBox=\"0 0 24 24\"\n",
              "       width=\"24px\">\n",
              "    <path d=\"M0 0h24v24H0V0z\" fill=\"none\"/>\n",
              "    <path d=\"M18.56 5.44l.94 2.06.94-2.06 2.06-.94-2.06-.94-.94-2.06-.94 2.06-2.06.94zm-11 1L8.5 8.5l.94-2.06 2.06-.94-2.06-.94L8.5 2.5l-.94 2.06-2.06.94zm10 10l.94 2.06.94-2.06 2.06-.94-2.06-.94-.94-2.06-.94 2.06-2.06.94z\"/><path d=\"M17.41 7.96l-1.37-1.37c-.4-.4-.92-.59-1.43-.59-.52 0-1.04.2-1.43.59L10.3 9.45l-7.72 7.72c-.78.78-.78 2.05 0 2.83L4 21.41c.39.39.9.59 1.41.59.51 0 1.02-.2 1.41-.59l7.78-7.78 2.81-2.81c.8-.78.8-2.07 0-2.86zM5.41 20L4 18.59l7.72-7.72 1.47 1.35L5.41 20z\"/>\n",
              "  </svg>\n",
              "      </button>\n",
              "      \n",
              "  <style>\n",
              "    .colab-df-container {\n",
              "      display:flex;\n",
              "      flex-wrap:wrap;\n",
              "      gap: 12px;\n",
              "    }\n",
              "\n",
              "    .colab-df-convert {\n",
              "      background-color: #E8F0FE;\n",
              "      border: none;\n",
              "      border-radius: 50%;\n",
              "      cursor: pointer;\n",
              "      display: none;\n",
              "      fill: #1967D2;\n",
              "      height: 32px;\n",
              "      padding: 0 0 0 0;\n",
              "      width: 32px;\n",
              "    }\n",
              "\n",
              "    .colab-df-convert:hover {\n",
              "      background-color: #E2EBFA;\n",
              "      box-shadow: 0px 1px 2px rgba(60, 64, 67, 0.3), 0px 1px 3px 1px rgba(60, 64, 67, 0.15);\n",
              "      fill: #174EA6;\n",
              "    }\n",
              "\n",
              "    [theme=dark] .colab-df-convert {\n",
              "      background-color: #3B4455;\n",
              "      fill: #D2E3FC;\n",
              "    }\n",
              "\n",
              "    [theme=dark] .colab-df-convert:hover {\n",
              "      background-color: #434B5C;\n",
              "      box-shadow: 0px 1px 3px 1px rgba(0, 0, 0, 0.15);\n",
              "      filter: drop-shadow(0px 1px 2px rgba(0, 0, 0, 0.3));\n",
              "      fill: #FFFFFF;\n",
              "    }\n",
              "  </style>\n",
              "\n",
              "      <script>\n",
              "        const buttonEl =\n",
              "          document.querySelector('#df-b15f7f99-e3bd-4b8d-9aed-dd8c299e7c24 button.colab-df-convert');\n",
              "        buttonEl.style.display =\n",
              "          google.colab.kernel.accessAllowed ? 'block' : 'none';\n",
              "\n",
              "        async function convertToInteractive(key) {\n",
              "          const element = document.querySelector('#df-b15f7f99-e3bd-4b8d-9aed-dd8c299e7c24');\n",
              "          const dataTable =\n",
              "            await google.colab.kernel.invokeFunction('convertToInteractive',\n",
              "                                                     [key], {});\n",
              "          if (!dataTable) return;\n",
              "\n",
              "          const docLinkHtml = 'Like what you see? Visit the ' +\n",
              "            '<a target=\"_blank\" href=https://colab.research.google.com/notebooks/data_table.ipynb>data table notebook</a>'\n",
              "            + ' to learn more about interactive tables.';\n",
              "          element.innerHTML = '';\n",
              "          dataTable['output_type'] = 'display_data';\n",
              "          await google.colab.output.renderOutput(dataTable, element);\n",
              "          const docLink = document.createElement('div');\n",
              "          docLink.innerHTML = docLinkHtml;\n",
              "          element.appendChild(docLink);\n",
              "        }\n",
              "      </script>\n",
              "    </div>\n",
              "  </div>\n",
              "  "
            ]
          },
          "metadata": {},
          "execution_count": 37
        }
      ],
      "source": [
        "table_equipments.query('ID != @id_time_series')"
      ]
    },
    {
      "cell_type": "code",
      "execution_count": null,
      "metadata": {
        "id": "Xwp5qDu_rM09",
        "outputId": "3a4e4a1c-7fef-43e4-de28-9bf6fa86f66f",
        "colab": {
          "base_uri": "https://localhost:8080/",
          "height": 49
        }
      },
      "outputs": [
        {
          "output_type": "execute_result",
          "data": {
            "text/plain": [
              "Empty DataFrame\n",
              "Columns: [ID, Day, Time]\n",
              "Index: []"
            ],
            "text/html": [
              "\n",
              "  <div id=\"df-92db0a59-2d69-40c9-95fd-2e27a3d6d9d0\">\n",
              "    <div class=\"colab-df-container\">\n",
              "      <div>\n",
              "<style scoped>\n",
              "    .dataframe tbody tr th:only-of-type {\n",
              "        vertical-align: middle;\n",
              "    }\n",
              "\n",
              "    .dataframe tbody tr th {\n",
              "        vertical-align: top;\n",
              "    }\n",
              "\n",
              "    .dataframe thead th {\n",
              "        text-align: right;\n",
              "    }\n",
              "</style>\n",
              "<table border=\"1\" class=\"dataframe\">\n",
              "  <thead>\n",
              "    <tr style=\"text-align: right;\">\n",
              "      <th></th>\n",
              "      <th>ID</th>\n",
              "      <th>Day</th>\n",
              "      <th>Time</th>\n",
              "    </tr>\n",
              "  </thead>\n",
              "  <tbody>\n",
              "  </tbody>\n",
              "</table>\n",
              "</div>\n",
              "      <button class=\"colab-df-convert\" onclick=\"convertToInteractive('df-92db0a59-2d69-40c9-95fd-2e27a3d6d9d0')\"\n",
              "              title=\"Convert this dataframe to an interactive table.\"\n",
              "              style=\"display:none;\">\n",
              "        \n",
              "  <svg xmlns=\"http://www.w3.org/2000/svg\" height=\"24px\"viewBox=\"0 0 24 24\"\n",
              "       width=\"24px\">\n",
              "    <path d=\"M0 0h24v24H0V0z\" fill=\"none\"/>\n",
              "    <path d=\"M18.56 5.44l.94 2.06.94-2.06 2.06-.94-2.06-.94-.94-2.06-.94 2.06-2.06.94zm-11 1L8.5 8.5l.94-2.06 2.06-.94-2.06-.94L8.5 2.5l-.94 2.06-2.06.94zm10 10l.94 2.06.94-2.06 2.06-.94-2.06-.94-.94-2.06-.94 2.06-2.06.94z\"/><path d=\"M17.41 7.96l-1.37-1.37c-.4-.4-.92-.59-1.43-.59-.52 0-1.04.2-1.43.59L10.3 9.45l-7.72 7.72c-.78.78-.78 2.05 0 2.83L4 21.41c.39.39.9.59 1.41.59.51 0 1.02-.2 1.41-.59l7.78-7.78 2.81-2.81c.8-.78.8-2.07 0-2.86zM5.41 20L4 18.59l7.72-7.72 1.47 1.35L5.41 20z\"/>\n",
              "  </svg>\n",
              "      </button>\n",
              "      \n",
              "  <style>\n",
              "    .colab-df-container {\n",
              "      display:flex;\n",
              "      flex-wrap:wrap;\n",
              "      gap: 12px;\n",
              "    }\n",
              "\n",
              "    .colab-df-convert {\n",
              "      background-color: #E8F0FE;\n",
              "      border: none;\n",
              "      border-radius: 50%;\n",
              "      cursor: pointer;\n",
              "      display: none;\n",
              "      fill: #1967D2;\n",
              "      height: 32px;\n",
              "      padding: 0 0 0 0;\n",
              "      width: 32px;\n",
              "    }\n",
              "\n",
              "    .colab-df-convert:hover {\n",
              "      background-color: #E2EBFA;\n",
              "      box-shadow: 0px 1px 2px rgba(60, 64, 67, 0.3), 0px 1px 3px 1px rgba(60, 64, 67, 0.15);\n",
              "      fill: #174EA6;\n",
              "    }\n",
              "\n",
              "    [theme=dark] .colab-df-convert {\n",
              "      background-color: #3B4455;\n",
              "      fill: #D2E3FC;\n",
              "    }\n",
              "\n",
              "    [theme=dark] .colab-df-convert:hover {\n",
              "      background-color: #434B5C;\n",
              "      box-shadow: 0px 1px 3px 1px rgba(0, 0, 0, 0.15);\n",
              "      filter: drop-shadow(0px 1px 2px rgba(0, 0, 0, 0.3));\n",
              "      fill: #FFFFFF;\n",
              "    }\n",
              "  </style>\n",
              "\n",
              "      <script>\n",
              "        const buttonEl =\n",
              "          document.querySelector('#df-92db0a59-2d69-40c9-95fd-2e27a3d6d9d0 button.colab-df-convert');\n",
              "        buttonEl.style.display =\n",
              "          google.colab.kernel.accessAllowed ? 'block' : 'none';\n",
              "\n",
              "        async function convertToInteractive(key) {\n",
              "          const element = document.querySelector('#df-92db0a59-2d69-40c9-95fd-2e27a3d6d9d0');\n",
              "          const dataTable =\n",
              "            await google.colab.kernel.invokeFunction('convertToInteractive',\n",
              "                                                     [key], {});\n",
              "          if (!dataTable) return;\n",
              "\n",
              "          const docLinkHtml = 'Like what you see? Visit the ' +\n",
              "            '<a target=\"_blank\" href=https://colab.research.google.com/notebooks/data_table.ipynb>data table notebook</a>'\n",
              "            + ' to learn more about interactive tables.';\n",
              "          element.innerHTML = '';\n",
              "          dataTable['output_type'] = 'display_data';\n",
              "          await google.colab.output.renderOutput(dataTable, element);\n",
              "          const docLink = document.createElement('div');\n",
              "          docLink.innerHTML = docLinkHtml;\n",
              "          element.appendChild(docLink);\n",
              "        }\n",
              "      </script>\n",
              "    </div>\n",
              "  </div>\n",
              "  "
            ]
          },
          "metadata": {},
          "execution_count": 38
        }
      ],
      "source": [
        "table_time_series.query('ID != @id_equipments')"
      ]
    },
    {
      "cell_type": "code",
      "execution_count": null,
      "metadata": {
        "id": "vbsMrSZnrM09",
        "outputId": "07c1d944-39cc-4c3a-d7c0-8372d11a333a",
        "colab": {
          "referenced_widgets": [
            "6e2e3ca0448040cf887f04f4d9b9f485",
            "9d70eb06c18749abbb21d4ec0e7c64a2",
            "57bf425b42bd4662929e58cc803cd569",
            "9f5bdfecdadf4314b611d360007fe927",
            "c1cc33dccb534b3f979412de6b0a6945",
            "698e2acdfb314f029d4a5f22015f72ca",
            "62c8852e5fc74a2596c5c9a2a09beb7e"
          ],
          "base_uri": "https://localhost:8080/",
          "height": 865
        }
      },
      "outputs": [
        {
          "output_type": "display_data",
          "data": {
            "text/plain": [
              "interactive(children=(Dropdown(description='agg_fun', options=('sum', 'mean', 'max'), value='sum'), Output()),…"
            ],
            "application/vnd.jupyter.widget-view+json": {
              "version_major": 2,
              "version_minor": 0,
              "model_id": "6e2e3ca0448040cf887f04f4d9b9f485"
            }
          },
          "metadata": {}
        }
      ],
      "source": [
        "@interact(agg_fun = ['sum', 'mean','max'])\n",
        "\n",
        "def funcao(agg_fun):\n",
        "    df = table_time_series.groupby('ID', sort = 'Time')[['Time']].agg(agg_fun)\\\n",
        "              .reset_index()\\\n",
        "              .sort_values('Time', ascending = False)\\\n",
        "              .head(25)\n",
        "    \n",
        "    return df"
      ]
    },
    {
      "cell_type": "code",
      "execution_count": null,
      "metadata": {
        "id": "7EsTFR5RrM09",
        "outputId": "bc404459-320f-4b0a-fe9d-b41d56991ad1",
        "colab": {
          "referenced_widgets": [
            "4a6aaf6b1cfc433a873cd9382395f1ee",
            "30f494100b1241cabbb9ce8109fc6eaf",
            "6e7e2137879a4e17a1677b3e15da223b",
            "8dc627ab510f42e491de0bedc1dd747c",
            "f86259b7f98b410099360bcac5ab799a",
            "fe5dd8a6908e4acd8215fae5047174a4",
            "06e9aa397142420ea428d1b4e5af8219"
          ],
          "base_uri": "https://localhost:8080/",
          "height": 343
        }
      },
      "outputs": [
        {
          "output_type": "display_data",
          "data": {
            "text/plain": [
              "interactive(children=(Dropdown(description='id', options=('A030F720057', 'A040F320538', 'A040F320657', 'A040F3…"
            ],
            "application/vnd.jupyter.widget-view+json": {
              "version_major": 2,
              "version_minor": 0,
              "model_id": "4a6aaf6b1cfc433a873cd9382395f1ee"
            }
          },
          "metadata": {}
        }
      ],
      "source": [
        "@interact(id = table_time_series.ID.unique().tolist())\n",
        "def plot(id):\n",
        "    plt.figure(figsize= (16,3))\n",
        "    ax = sns.lineplot(data = table_time_series[table_time_series.ID == id],\n",
        "                      x = 'Day',\n",
        "                      y = 'Time')   \n",
        "    plt.show()\n"
      ]
    },
    {
      "cell_type": "code",
      "source": [
        "# Join table\n",
        "table_final = pd.merge(table_time_series, table_equipments, on='ID', how='inner')\n",
        "\n",
        "# Read new table\n",
        "table_final.head()"
      ],
      "metadata": {
        "colab": {
          "base_uri": "https://localhost:8080/",
          "height": 206
        },
        "id": "KdbvHwF_qbUS",
        "outputId": "0cd54acc-ff0b-4e29-eb6f-98d592f72a68"
      },
      "execution_count": null,
      "outputs": [
        {
          "output_type": "execute_result",
          "data": {
            "text/plain": [
              "            ID        Day  Time  Região    País Dealer  Segmento Modelo  \\\n",
              "0  A030F720057 2016-12-09  0.00  Brasil  Brasil  Linck  Industry    ART   \n",
              "1  A030F720057 2016-12-10  5.75  Brasil  Brasil  Linck  Industry    ART   \n",
              "2  A030F720057 2016-12-11  8.95  Brasil  Brasil  Linck  Industry    ART   \n",
              "3  A030F720057 2016-12-12  1.60  Brasil  Brasil  Linck  Industry    ART   \n",
              "4  A030F720057 2016-12-13  8.20  Brasil  Brasil  Linck  Industry    ART   \n",
              "\n",
              "               PIN17 Delivery Date Obs.:  Estado Região.1  \n",
              "0  VCEA030FEG0720057    2019-01-15   NaN  Paraná      Sul  \n",
              "1  VCEA030FEG0720057    2019-01-15   NaN  Paraná      Sul  \n",
              "2  VCEA030FEG0720057    2019-01-15   NaN  Paraná      Sul  \n",
              "3  VCEA030FEG0720057    2019-01-15   NaN  Paraná      Sul  \n",
              "4  VCEA030FEG0720057    2019-01-15   NaN  Paraná      Sul  "
            ],
            "text/html": [
              "\n",
              "  <div id=\"df-58005602-1bb3-4f71-9414-fa08817bbdea\">\n",
              "    <div class=\"colab-df-container\">\n",
              "      <div>\n",
              "<style scoped>\n",
              "    .dataframe tbody tr th:only-of-type {\n",
              "        vertical-align: middle;\n",
              "    }\n",
              "\n",
              "    .dataframe tbody tr th {\n",
              "        vertical-align: top;\n",
              "    }\n",
              "\n",
              "    .dataframe thead th {\n",
              "        text-align: right;\n",
              "    }\n",
              "</style>\n",
              "<table border=\"1\" class=\"dataframe\">\n",
              "  <thead>\n",
              "    <tr style=\"text-align: right;\">\n",
              "      <th></th>\n",
              "      <th>ID</th>\n",
              "      <th>Day</th>\n",
              "      <th>Time</th>\n",
              "      <th>Região</th>\n",
              "      <th>País</th>\n",
              "      <th>Dealer</th>\n",
              "      <th>Segmento</th>\n",
              "      <th>Modelo</th>\n",
              "      <th>PIN17</th>\n",
              "      <th>Delivery Date</th>\n",
              "      <th>Obs.:</th>\n",
              "      <th>Estado</th>\n",
              "      <th>Região.1</th>\n",
              "    </tr>\n",
              "  </thead>\n",
              "  <tbody>\n",
              "    <tr>\n",
              "      <th>0</th>\n",
              "      <td>A030F720057</td>\n",
              "      <td>2016-12-09</td>\n",
              "      <td>0.00</td>\n",
              "      <td>Brasil</td>\n",
              "      <td>Brasil</td>\n",
              "      <td>Linck</td>\n",
              "      <td>Industry</td>\n",
              "      <td>ART</td>\n",
              "      <td>VCEA030FEG0720057</td>\n",
              "      <td>2019-01-15</td>\n",
              "      <td>NaN</td>\n",
              "      <td>Paraná</td>\n",
              "      <td>Sul</td>\n",
              "    </tr>\n",
              "    <tr>\n",
              "      <th>1</th>\n",
              "      <td>A030F720057</td>\n",
              "      <td>2016-12-10</td>\n",
              "      <td>5.75</td>\n",
              "      <td>Brasil</td>\n",
              "      <td>Brasil</td>\n",
              "      <td>Linck</td>\n",
              "      <td>Industry</td>\n",
              "      <td>ART</td>\n",
              "      <td>VCEA030FEG0720057</td>\n",
              "      <td>2019-01-15</td>\n",
              "      <td>NaN</td>\n",
              "      <td>Paraná</td>\n",
              "      <td>Sul</td>\n",
              "    </tr>\n",
              "    <tr>\n",
              "      <th>2</th>\n",
              "      <td>A030F720057</td>\n",
              "      <td>2016-12-11</td>\n",
              "      <td>8.95</td>\n",
              "      <td>Brasil</td>\n",
              "      <td>Brasil</td>\n",
              "      <td>Linck</td>\n",
              "      <td>Industry</td>\n",
              "      <td>ART</td>\n",
              "      <td>VCEA030FEG0720057</td>\n",
              "      <td>2019-01-15</td>\n",
              "      <td>NaN</td>\n",
              "      <td>Paraná</td>\n",
              "      <td>Sul</td>\n",
              "    </tr>\n",
              "    <tr>\n",
              "      <th>3</th>\n",
              "      <td>A030F720057</td>\n",
              "      <td>2016-12-12</td>\n",
              "      <td>1.60</td>\n",
              "      <td>Brasil</td>\n",
              "      <td>Brasil</td>\n",
              "      <td>Linck</td>\n",
              "      <td>Industry</td>\n",
              "      <td>ART</td>\n",
              "      <td>VCEA030FEG0720057</td>\n",
              "      <td>2019-01-15</td>\n",
              "      <td>NaN</td>\n",
              "      <td>Paraná</td>\n",
              "      <td>Sul</td>\n",
              "    </tr>\n",
              "    <tr>\n",
              "      <th>4</th>\n",
              "      <td>A030F720057</td>\n",
              "      <td>2016-12-13</td>\n",
              "      <td>8.20</td>\n",
              "      <td>Brasil</td>\n",
              "      <td>Brasil</td>\n",
              "      <td>Linck</td>\n",
              "      <td>Industry</td>\n",
              "      <td>ART</td>\n",
              "      <td>VCEA030FEG0720057</td>\n",
              "      <td>2019-01-15</td>\n",
              "      <td>NaN</td>\n",
              "      <td>Paraná</td>\n",
              "      <td>Sul</td>\n",
              "    </tr>\n",
              "  </tbody>\n",
              "</table>\n",
              "</div>\n",
              "      <button class=\"colab-df-convert\" onclick=\"convertToInteractive('df-58005602-1bb3-4f71-9414-fa08817bbdea')\"\n",
              "              title=\"Convert this dataframe to an interactive table.\"\n",
              "              style=\"display:none;\">\n",
              "        \n",
              "  <svg xmlns=\"http://www.w3.org/2000/svg\" height=\"24px\"viewBox=\"0 0 24 24\"\n",
              "       width=\"24px\">\n",
              "    <path d=\"M0 0h24v24H0V0z\" fill=\"none\"/>\n",
              "    <path d=\"M18.56 5.44l.94 2.06.94-2.06 2.06-.94-2.06-.94-.94-2.06-.94 2.06-2.06.94zm-11 1L8.5 8.5l.94-2.06 2.06-.94-2.06-.94L8.5 2.5l-.94 2.06-2.06.94zm10 10l.94 2.06.94-2.06 2.06-.94-2.06-.94-.94-2.06-.94 2.06-2.06.94z\"/><path d=\"M17.41 7.96l-1.37-1.37c-.4-.4-.92-.59-1.43-.59-.52 0-1.04.2-1.43.59L10.3 9.45l-7.72 7.72c-.78.78-.78 2.05 0 2.83L4 21.41c.39.39.9.59 1.41.59.51 0 1.02-.2 1.41-.59l7.78-7.78 2.81-2.81c.8-.78.8-2.07 0-2.86zM5.41 20L4 18.59l7.72-7.72 1.47 1.35L5.41 20z\"/>\n",
              "  </svg>\n",
              "      </button>\n",
              "      \n",
              "  <style>\n",
              "    .colab-df-container {\n",
              "      display:flex;\n",
              "      flex-wrap:wrap;\n",
              "      gap: 12px;\n",
              "    }\n",
              "\n",
              "    .colab-df-convert {\n",
              "      background-color: #E8F0FE;\n",
              "      border: none;\n",
              "      border-radius: 50%;\n",
              "      cursor: pointer;\n",
              "      display: none;\n",
              "      fill: #1967D2;\n",
              "      height: 32px;\n",
              "      padding: 0 0 0 0;\n",
              "      width: 32px;\n",
              "    }\n",
              "\n",
              "    .colab-df-convert:hover {\n",
              "      background-color: #E2EBFA;\n",
              "      box-shadow: 0px 1px 2px rgba(60, 64, 67, 0.3), 0px 1px 3px 1px rgba(60, 64, 67, 0.15);\n",
              "      fill: #174EA6;\n",
              "    }\n",
              "\n",
              "    [theme=dark] .colab-df-convert {\n",
              "      background-color: #3B4455;\n",
              "      fill: #D2E3FC;\n",
              "    }\n",
              "\n",
              "    [theme=dark] .colab-df-convert:hover {\n",
              "      background-color: #434B5C;\n",
              "      box-shadow: 0px 1px 3px 1px rgba(0, 0, 0, 0.15);\n",
              "      filter: drop-shadow(0px 1px 2px rgba(0, 0, 0, 0.3));\n",
              "      fill: #FFFFFF;\n",
              "    }\n",
              "  </style>\n",
              "\n",
              "      <script>\n",
              "        const buttonEl =\n",
              "          document.querySelector('#df-58005602-1bb3-4f71-9414-fa08817bbdea button.colab-df-convert');\n",
              "        buttonEl.style.display =\n",
              "          google.colab.kernel.accessAllowed ? 'block' : 'none';\n",
              "\n",
              "        async function convertToInteractive(key) {\n",
              "          const element = document.querySelector('#df-58005602-1bb3-4f71-9414-fa08817bbdea');\n",
              "          const dataTable =\n",
              "            await google.colab.kernel.invokeFunction('convertToInteractive',\n",
              "                                                     [key], {});\n",
              "          if (!dataTable) return;\n",
              "\n",
              "          const docLinkHtml = 'Like what you see? Visit the ' +\n",
              "            '<a target=\"_blank\" href=https://colab.research.google.com/notebooks/data_table.ipynb>data table notebook</a>'\n",
              "            + ' to learn more about interactive tables.';\n",
              "          element.innerHTML = '';\n",
              "          dataTable['output_type'] = 'display_data';\n",
              "          await google.colab.output.renderOutput(dataTable, element);\n",
              "          const docLink = document.createElement('div');\n",
              "          docLink.innerHTML = docLinkHtml;\n",
              "          element.appendChild(docLink);\n",
              "        }\n",
              "      </script>\n",
              "    </div>\n",
              "  </div>\n",
              "  "
            ]
          },
          "metadata": {},
          "execution_count": 52
        }
      ]
    },
    {
      "cell_type": "code",
      "source": [
        "# Group by ID and mean of Time\n",
        "table_final_mean_time = table_final.groupby('ID').mean()\n",
        "\n",
        "# Check result\n",
        "print(table_final_mean_time)"
      ],
      "metadata": {
        "colab": {
          "base_uri": "https://localhost:8080/"
        },
        "id": "NLuHrKELstOt",
        "outputId": "ef4245b1-c64b-4bc9-b8f5-a1ad935c73f6"
      },
      "execution_count": null,
      "outputs": [
        {
          "output_type": "stream",
          "name": "stdout",
          "text": [
            "                  Time\n",
            "ID                    \n",
            "A030F720057   6.851108\n",
            "A040F320538   2.885249\n",
            "A040F320657  14.792456\n",
            "A040F320672   4.596603\n",
            "A30F072791   11.465549\n",
            "...                ...\n",
            "L60F073972   14.318868\n",
            "L60F074089    4.702040\n",
            "L60F074104    4.625585\n",
            "L60F074121    3.062028\n",
            "L60F074213    6.495359\n",
            "\n",
            "[62 rows x 1 columns]\n"
          ]
        },
        {
          "output_type": "stream",
          "name": "stderr",
          "text": [
            "<ipython-input-55-90e9759087da>:2: FutureWarning: The default value of numeric_only in DataFrameGroupBy.mean is deprecated. In a future version, numeric_only will default to False. Either specify numeric_only or select only columns which should be valid for the function.\n",
            "  table_final_mean_time = table_final.groupby('ID').mean()\n"
          ]
        }
      ]
    },
    {
      "cell_type": "code",
      "source": [
        "# Group by Região and count IDs\n",
        "table_final_count_regiao = table_final.groupby('Região')['ID'].nunique()\n",
        "\n",
        "# Check result\n",
        "print(table_final_count_regiao)"
      ],
      "metadata": {
        "colab": {
          "base_uri": "https://localhost:8080/"
        },
        "id": "nvzxO93pvAvJ",
        "outputId": "577ebfbf-d8eb-4df7-9107-633289189db4"
      },
      "execution_count": null,
      "outputs": [
        {
          "output_type": "stream",
          "name": "stdout",
          "text": [
            "Região\n",
            "Brasil             44\n",
            "Hispânico Norte     9\n",
            "Hispânico Sul       9\n",
            "Name: ID, dtype: int64\n"
          ]
        }
      ]
    },
    {
      "cell_type": "code",
      "source": [
        "# Group by Pais and count IDs\n",
        "table_final_count_pais = table_final.groupby('País')['ID'].nunique()\n",
        "\n",
        "# Check result\n",
        "print(table_final_count_pais)"
      ],
      "metadata": {
        "colab": {
          "base_uri": "https://localhost:8080/"
        },
        "id": "ZTlukLZ_uzvh",
        "outputId": "372a6513-3326-4b37-e75a-f6a7209c9e27"
      },
      "execution_count": null,
      "outputs": [
        {
          "output_type": "stream",
          "name": "stdout",
          "text": [
            "País\n",
            "Argentina     9\n",
            "Brasil       44\n",
            "México        9\n",
            "Name: ID, dtype: int64\n"
          ]
        }
      ]
    },
    {
      "cell_type": "code",
      "source": [
        "# Group by Estado and count IDs\n",
        "table_final_count_estado = table_final.groupby('Estado')['ID'].nunique()\n",
        "\n",
        "# Check result\n",
        "print(table_final_count_estado)"
      ],
      "metadata": {
        "colab": {
          "base_uri": "https://localhost:8080/"
        },
        "id": "z3BbptA4vQc5",
        "outputId": "1f6a707a-ad62-4862-9611-cffc5ec527bb"
      },
      "execution_count": null,
      "outputs": [
        {
          "output_type": "stream",
          "name": "stdout",
          "text": [
            "Estado\n",
            "0                            3\n",
            "Bahia                        3\n",
            "Catamarca Province           1\n",
            "Coahuila de Zaragoza         1\n",
            "Entre Ríos                   1\n",
            "Estado de México             1\n",
            "Hidalgo                      1\n",
            "Jujuy                        1\n",
            "Mato Grosso                  5\n",
            "Mato Grosso do Sul           3\n",
            "Minas Gerais                 8\n",
            "Misiónes                     1\n",
            "Nuevo León                   2\n",
            "Paraná                       3\n",
            "Pará                         1\n",
            "Pernambuco                   2\n",
            "Provincia de Buenos Aires    1\n",
            "Querétaro                    1\n",
            "Rio Grande do Norte          1\n",
            "Rio Grande do Sul            6\n",
            "Rio de Janeiro               1\n",
            "Rondônia                     4\n",
            "San Juan                     1\n",
            "San Luis                     1\n",
            "Santa Catarina               1\n",
            "Sergipe                      2\n",
            "São Paulo                    4\n",
            "Tabasco                      1\n",
            "Veracruz                     1\n",
            "Name: ID, dtype: int64\n"
          ]
        }
      ]
    },
    {
      "cell_type": "code",
      "source": [
        "# Group by Dealer and count IDs\n",
        "table_final_count_dealer = table_final.groupby('Dealer')['ID'].nunique()\n",
        "\n",
        "# Check result\n",
        "print(table_final_count_dealer)"
      ],
      "metadata": {
        "colab": {
          "base_uri": "https://localhost:8080/"
        },
        "id": "RaI0fYYYvXsn",
        "outputId": "d3b16d79-9195-416c-e95f-44a0bf930d1a"
      },
      "execution_count": null,
      "outputs": [
        {
          "output_type": "stream",
          "name": "stdout",
          "text": [
            "Dealer\n",
            "Ascendum       9\n",
            "Dinâmica       9\n",
            "EPSA           9\n",
            "Gotemburgo     9\n",
            "Linck          9\n",
            "Tecnoeste     10\n",
            "Tracbel        7\n",
            "Name: ID, dtype: int64\n"
          ]
        }
      ]
    },
    {
      "cell_type": "code",
      "source": [
        "# Group by Segmento and count IDs\n",
        "table_final_count_segmento = table_final.groupby('Segmento')['ID'].nunique()\n",
        "\n",
        "# Check result\n",
        "print(table_final_count_segmento)"
      ],
      "metadata": {
        "colab": {
          "base_uri": "https://localhost:8080/"
        },
        "id": "U1HH6CXMvuei",
        "outputId": "6b42950a-bece-4e20-da0b-cf00b5bbd0e8"
      },
      "execution_count": null,
      "outputs": [
        {
          "output_type": "stream",
          "name": "stdout",
          "text": [
            "Segmento\n",
            "Agriculture     14\n",
            "Construction    18\n",
            "Forestry         2\n",
            "Industry         6\n",
            "Mining          22\n",
            "Name: ID, dtype: int64\n"
          ]
        }
      ]
    },
    {
      "cell_type": "code",
      "source": [
        "# Group by Modelo and count IDs\n",
        "table_final_count_modelo = table_final.groupby('Modelo')['ID'].nunique()\n",
        "\n",
        "# Check result\n",
        "print(table_final_count_modelo)"
      ],
      "metadata": {
        "colab": {
          "base_uri": "https://localhost:8080/"
        },
        "id": "9DrGjOKZv1HL",
        "outputId": "ec78dd3b-a7ec-4a15-dc75-e2959822bb1f"
      },
      "execution_count": null,
      "outputs": [
        {
          "output_type": "stream",
          "name": "stdout",
          "text": [
            "Modelo\n",
            "ART    20\n",
            "EXC    21\n",
            "WLO    21\n",
            "Name: ID, dtype: int64\n"
          ]
        }
      ]
    },
    {
      "cell_type": "code",
      "source": [
        "sns.set(style='white', rc={'figure.figsize':(14,5)})\n",
        "\n",
        "# Create boxplot by Modelo\n",
        "table_final.boxplot(by='Modelo', return_type='axes')\n",
        "     "
      ],
      "metadata": {
        "id": "mMfc-1pTwoFI",
        "outputId": "295b9e80-4d12-4057-c4e1-b85c0dd4d2d6",
        "colab": {
          "base_uri": "https://localhost:8080/",
          "height": 538
        }
      },
      "execution_count": null,
      "outputs": [
        {
          "output_type": "execute_result",
          "data": {
            "text/plain": [
              "Time    Axes(0.1,0.15;0.8x0.75)\n",
              "dtype: object"
            ]
          },
          "metadata": {},
          "execution_count": 77
        },
        {
          "output_type": "display_data",
          "data": {
            "text/plain": [
              "<Figure size 1400x500 with 1 Axes>"
            ],
            "image/png": "[encoded data removed]"
          },
          "metadata": {}
        }
      ]
    },
    {
      "cell_type": "code",
      "source": [
        "sns.set(style='white', rc={'figure.figsize':(14,5)})\n",
        "\n",
        "# Create boxplot by Região\n",
        "table_final.boxplot(by='Região', return_type='axes')"
      ],
      "metadata": {
        "id": "dnpf4MEzxTOp",
        "outputId": "bb1489b1-68e0-4c8e-e072-96a82b09a5a8",
        "colab": {
          "base_uri": "https://localhost:8080/",
          "height": 539
        }
      },
      "execution_count": null,
      "outputs": [
        {
          "output_type": "execute_result",
          "data": {
            "text/plain": [
              "Time    Axes(0.1,0.15;0.8x0.75)\n",
              "dtype: object"
            ]
          },
          "metadata": {},
          "execution_count": 78
        },
        {
          "output_type": "display_data",
          "data": {
            "text/plain": [
              "<Figure size 1400x500 with 1 Axes>"
            ],
            "image/png": "[encoded data removed]"
          },
          "metadata": {}
        }
      ]
    },
    {
      "cell_type": "code",
      "source": [
        "sns.set(style='white', rc={'figure.figsize':(14,5)})\n",
        "\n",
        "# Create boxplot by Segmento\n",
        "table_final.boxplot(by='Segmento', return_type='axes')"
      ],
      "metadata": {
        "id": "H0kINO8pxpgS",
        "outputId": "5515e70c-4df2-423b-aa0a-e45079f24cb7",
        "colab": {
          "base_uri": "https://localhost:8080/",
          "height": 538
        }
      },
      "execution_count": null,
      "outputs": [
        {
          "output_type": "execute_result",
          "data": {
            "text/plain": [
              "Time    Axes(0.1,0.15;0.8x0.75)\n",
              "dtype: object"
            ]
          },
          "metadata": {},
          "execution_count": 79
        },
        {
          "output_type": "display_data",
          "data": {
            "text/plain": [
              "<Figure size 1400x500 with 1 Axes>"
            ],
            "image/png": "[encoded data removed]"
          },
          "metadata": {}
        }
      ]
    },
    {
      "cell_type": "code",
      "source": [
        "sns.set(style='white', rc={'figure.figsize':(14,5)})\n",
        "\n",
        "# Create boxplot by Dealer\n",
        "table_final.boxplot(by='Dealer', return_type='axes')"
      ],
      "metadata": {
        "id": "hWXyV6qgzAcP",
        "outputId": "40cae533-2bed-4bda-e5d0-3309b98da159",
        "colab": {
          "base_uri": "https://localhost:8080/",
          "height": 538
        }
      },
      "execution_count": null,
      "outputs": [
        {
          "output_type": "execute_result",
          "data": {
            "text/plain": [
              "Time    Axes(0.1,0.15;0.8x0.75)\n",
              "dtype: object"
            ]
          },
          "metadata": {},
          "execution_count": 80
        },
        {
          "output_type": "display_data",
          "data": {
            "text/plain": [
              "<Figure size 1400x500 with 1 Axes>"
            ],
            "image/png": "[encoded data removed]"
          },
          "metadata": {}
        }
      ]
    },
    {
      "cell_type": "code",
      "source": [
        "sns.set(style='white', rc={'figure.figsize':(14,5)})\n",
        "\n",
        "# Create boxplot by ID\n",
        "table_final.boxplot(by='ID', return_type='axes')"
      ],
      "metadata": {
        "id": "Y3pQF59xzScc",
        "outputId": "6f52ae6d-6289-4510-9292-baa799e01baa",
        "colab": {
          "base_uri": "https://localhost:8080/",
          "height": 538
        }
      },
      "execution_count": null,
      "outputs": [
        {
          "output_type": "execute_result",
          "data": {
            "text/plain": [
              "Time    Axes(0.1,0.15;0.8x0.75)\n",
              "dtype: object"
            ]
          },
          "metadata": {},
          "execution_count": 76
        },
        {
          "output_type": "display_data",
          "data": {
            "text/plain": [
              "<Figure size 1400x500 with 1 Axes>"
            ],
            "image/png": "[encoded data removed]"
          },
          "metadata": {}
        }
      ]
    },
    {
      "cell_type": "markdown",
      "metadata": {
        "id": "Edl53pOXrM0-"
      },
      "source": [
        "# Observações / ideias "
      ]
    },
    {
      "cell_type": "markdown",
      "metadata": {
        "id": "s3nsOubcrM0-"
      },
      "source": [
        "* O que fazer com os casos com quantidade de hora trabalhada superior a 24hrs"
      ]
    }
  ],
  "metadata": {
    "kernelspec": {
      "display_name": "base",
      "language": "python",
      "name": "python3"
    },
    "language_info": {
      "codemirror_mode": {
        "name": "ipython",
        "version": 3
      },
      "file_extension": ".py",
      "mimetype": "text/x-python",
      "name": "python",
      "nbconvert_exporter": "python",
      "pygments_lexer": "ipython3",
      "version": "3.10.9"
    },
    "orig_nbformat": 4,
    "colab": {
      "provenance": [],
      "include_colab_link": true
    },
    "widgets": {
      "application/vnd.jupyter.widget-state+json": {
        "6e2e3ca0448040cf887f04f4d9b9f485": {
          "model_module": "@jupyter-widgets/controls",
          "model_name": "VBoxModel",
          "model_module_version": "1.5.0",
          "state": {
            "_dom_classes": [
              "widget-interact"
            ],
            "_model_module": "@jupyter-widgets/controls",
            "_model_module_version": "1.5.0",
            "_model_name": "VBoxModel",
            "_view_count": null,
            "_view_module": "@jupyter-widgets/controls",
            "_view_module_version": "1.5.0",
            "_view_name": "VBoxView",
            "box_style": "",
            "children": [
              "IPY_MODEL_9d70eb06c18749abbb21d4ec0e7c64a2",
              "IPY_MODEL_57bf425b42bd4662929e58cc803cd569"
            ],
            "layout": "IPY_MODEL_9f5bdfecdadf4314b611d360007fe927"
          }
        },
        "9d70eb06c18749abbb21d4ec0e7c64a2": {
          "model_module": "@jupyter-widgets/controls",
          "model_name": "DropdownModel",
          "model_module_version": "1.5.0",
          "state": {
            "_dom_classes": [],
            "_model_module": "@jupyter-widgets/controls",
            "_model_module_version": "1.5.0",
            "_model_name": "DropdownModel",
            "_options_labels": [
              "sum",
              "mean",
              "max"
            ],
            "_view_count": null,
            "_view_module": "@jupyter-widgets/controls",
            "_view_module_version": "1.5.0",
            "_view_name": "DropdownView",
            "description": "agg_fun",
            "description_tooltip": null,
            "disabled": false,
            "index": 0,
            "layout": "IPY_MODEL_c1cc33dccb534b3f979412de6b0a6945",
            "style": "IPY_MODEL_698e2acdfb314f029d4a5f22015f72ca"
          }
        },
        "57bf425b42bd4662929e58cc803cd569": {
          "model_module": "@jupyter-widgets/output",
          "model_name": "OutputModel",
          "model_module_version": "1.0.0",
          "state": {
            "_dom_classes": [],
            "_model_module": "@jupyter-widgets/output",
            "_model_module_version": "1.0.0",
            "_model_name": "OutputModel",
            "_view_count": null,
            "_view_module": "@jupyter-widgets/output",
            "_view_module_version": "1.0.0",
            "_view_name": "OutputView",
            "layout": "IPY_MODEL_62c8852e5fc74a2596c5c9a2a09beb7e",
            "msg_id": "",
            "outputs": [
              {
                "output_type": "display_data",
                "data": {
                  "text/plain": "             ID          Time\n4    A30F072791  34866.733302\n5    A30F072792  34114.998207\n2   A040F320657  31374.799993\n10   A30G732008  22328.700000\n52   L60F073176  20759.325003\n8    A30F072960  20031.582174\n50   L60F072957  19716.249997\n51   L60F073082  19024.484009\n29  EC220240605  17361.542157\n11   A30G732028  16391.977772\n42   L60F071852  15644.111229\n45   L60F072447  15060.499988\n48   L60F072664  14808.658335\n13   A30G732035  14321.608705\n41   L60F007228  14232.816662\n49   L60F072903  13962.450017\n57   L60F073972  13187.677268\n6    A30F072882  12641.563738\n28  EC220240485  12562.325004\n54   L60F073325  12434.700000\n0   A030F720057  12366.250015\n27  EC220240477  12132.398330\n47   L60F072640  12056.400011\n35  EC220245244  11410.300011\n30  EC220240814  11028.771619",
                  "text/html": "\n  <div id=\"df-49c5d18e-6067-4744-864f-b40511ff4c25\">\n    <div class=\"colab-df-container\">\n      <div>\n<style scoped>\n    .dataframe tbody tr th:only-of-type {\n        vertical-align: middle;\n    }\n\n    .dataframe tbody tr th {\n        vertical-align: top;\n    }\n\n    .dataframe thead th {\n        text-align: right;\n    }\n</style>\n<table border=\"1\" class=\"dataframe\">\n  <thead>\n    <tr style=\"text-align: right;\">\n      <th></th>\n      <th>ID</th>\n      <th>Time</th>\n    </tr>\n  </thead>\n  <tbody>\n    <tr>\n      <th>4</th>\n      <td>A30F072791</td>\n      <td>34866.733302</td>\n    </tr>\n    <tr>\n      <th>5</th>\n      <td>A30F072792</td>\n      <td>34114.998207</td>\n    </tr>\n    <tr>\n      <th>2</th>\n      <td>A040F320657</td>\n      <td>31374.799993</td>\n    </tr>\n    <tr>\n      <th>10</th>\n      <td>A30G732008</td>\n      <td>22328.700000</td>\n    </tr>\n    <tr>\n      <th>52</th>\n      <td>L60F073176</td>\n      <td>20759.325003</td>\n    </tr>\n    <tr>\n      <th>8</th>\n      <td>A30F072960</td>\n      <td>20031.582174</td>\n    </tr>\n    <tr>\n      <th>50</th>\n      <td>L60F072957</td>\n      <td>19716.249997</td>\n    </tr>\n    <tr>\n      <th>51</th>\n      <td>L60F073082</td>\n      <td>19024.484009</td>\n    </tr>\n    <tr>\n      <th>29</th>\n      <td>EC220240605</td>\n      <td>17361.542157</td>\n    </tr>\n    <tr>\n      <th>11</th>\n      <td>A30G732028</td>\n      <td>16391.977772</td>\n    </tr>\n    <tr>\n      <th>42</th>\n      <td>L60F071852</td>\n      <td>15644.111229</td>\n    </tr>\n    <tr>\n      <th>45</th>\n      <td>L60F072447</td>\n      <td>15060.499988</td>\n    </tr>\n    <tr>\n      <th>48</th>\n      <td>L60F072664</td>\n      <td>14808.658335</td>\n    </tr>\n    <tr>\n      <th>13</th>\n      <td>A30G732035</td>\n      <td>14321.608705</td>\n    </tr>\n    <tr>\n      <th>41</th>\n      <td>L60F007228</td>\n      <td>14232.816662</td>\n    </tr>\n    <tr>\n      <th>49</th>\n      <td>L60F072903</td>\n      <td>13962.450017</td>\n    </tr>\n    <tr>\n      <th>57</th>\n      <td>L60F073972</td>\n      <td>13187.677268</td>\n    </tr>\n    <tr>\n      <th>6</th>\n      <td>A30F072882</td>\n      <td>12641.563738</td>\n    </tr>\n    <tr>\n      <th>28</th>\n      <td>EC220240485</td>\n      <td>12562.325004</td>\n    </tr>\n    <tr>\n      <th>54</th>\n      <td>L60F073325</td>\n      <td>12434.700000</td>\n    </tr>\n    <tr>\n      <th>0</th>\n      <td>A030F720057</td>\n      <td>12366.250015</td>\n    </tr>\n    <tr>\n      <th>27</th>\n      <td>EC220240477</td>\n      <td>12132.398330</td>\n    </tr>\n    <tr>\n      <th>47</th>\n      <td>L60F072640</td>\n      <td>12056.400011</td>\n    </tr>\n    <tr>\n      <th>35</th>\n      <td>EC220245244</td>\n      <td>11410.300011</td>\n    </tr>\n    <tr>\n      <th>30</th>\n      <td>EC220240814</td>\n      <td>11028.771619</td>\n    </tr>\n  </tbody>\n</table>\n</div>\n      <button class=\"colab-df-convert\" onclick=\"convertToInteractive('df-49c5d18e-6067-4744-864f-b40511ff4c25')\"\n              title=\"Convert this dataframe to an interactive table.\"\n              style=\"display:none;\">\n        \n  <svg xmlns=\"http://www.w3.org/2000/svg\" height=\"24px\"viewBox=\"0 0 24 24\"\n       width=\"24px\">\n    <path d=\"M0 0h24v24H0V0z\" fill=\"none\"/>\n    <path d=\"M18.56 5.44l.94 2.06.94-2.06 2.06-.94-2.06-.94-.94-2.06-.94 2.06-2.06.94zm-11 1L8.5 8.5l.94-2.06 2.06-.94-2.06-.94L8.5 2.5l-.94 2.06-2.06.94zm10 10l.94 2.06.94-2.06 2.06-.94-2.06-.94-.94-2.06-.94 2.06-2.06.94z\"/><path d=\"M17.41 7.96l-1.37-1.37c-.4-.4-.92-.59-1.43-.59-.52 0-1.04.2-1.43.59L10.3 9.45l-7.72 7.72c-.78.78-.78 2.05 0 2.83L4 21.41c.39.39.9.59 1.41.59.51 0 1.02-.2 1.41-.59l7.78-7.78 2.81-2.81c.8-.78.8-2.07 0-2.86zM5.41 20L4 18.59l7.72-7.72 1.47 1.35L5.41 20z\"/>\n  </svg>\n      </button>\n      \n  <style>\n    .colab-df-container {\n      display:flex;\n      flex-wrap:wrap;\n      gap: 12px;\n    }\n\n    .colab-df-convert {\n      background-color: #E8F0FE;\n      border: none;\n      border-radius: 50%;\n      cursor: pointer;\n      display: none;\n      fill: #1967D2;\n      height: 32px;\n      padding: 0 0 0 0;\n      width: 32px;\n    }\n\n    .colab-df-convert:hover {\n      background-color: #E2EBFA;\n      box-shadow: 0px 1px 2px rgba(60, 64, 67, 0.3), 0px 1px 3px 1px rgba(60, 64, 67, 0.15);\n      fill: #174EA6;\n    }\n\n    [theme=dark] .colab-df-convert {\n      background-color: #3B4455;\n      fill: #D2E3FC;\n    }\n\n    [theme=dark] .colab-df-convert:hover {\n      background-color: #434B5C;\n      box-shadow: 0px 1px 3px 1px rgba(0, 0, 0, 0.15);\n      filter: drop-shadow(0px 1px 2px rgba(0, 0, 0, 0.3));\n      fill: #FFFFFF;\n    }\n  </style>\n\n      <script>\n        const buttonEl =\n          document.querySelector('#df-49c5d18e-6067-4744-864f-b40511ff4c25 button.colab-df-convert');\n        buttonEl.style.display =\n          google.colab.kernel.accessAllowed ? 'block' : 'none';\n\n        async function convertToInteractive(key) {\n          const element = document.querySelector('#df-49c5d18e-6067-4744-864f-b40511ff4c25');\n          const dataTable =\n            await google.colab.kernel.invokeFunction('convertToInteractive',\n                                                     [key], {});\n          if (!dataTable) return;\n\n          const docLinkHtml = 'Like what you see? Visit the ' +\n            '<a target=\"_blank\" href=https://colab.research.google.com/notebooks/data_table.ipynb>data table notebook</a>'\n            + ' to learn more about interactive tables.';\n          element.innerHTML = '';\n          dataTable['output_type'] = 'display_data';\n          await google.colab.output.renderOutput(dataTable, element);\n          const docLink = document.createElement('div');\n          docLink.innerHTML = docLinkHtml;\n          element.appendChild(docLink);\n        }\n      </script>\n    </div>\n  </div>\n  "
                },
                "metadata": {}
              }
            ]
          }
        },
        "9f5bdfecdadf4314b611d360007fe927": {
          "model_module": "@jupyter-widgets/base",
          "model_name": "LayoutModel",
          "model_module_version": "1.2.0",
          "state": {
            "_model_module": "@jupyter-widgets/base",
            "_model_module_version": "1.2.0",
            "_model_name": "LayoutModel",
            "_view_count": null,
            "_view_module": "@jupyter-widgets/base",
            "_view_module_version": "1.2.0",
            "_view_name": "LayoutView",
            "align_content": null,
            "align_items": null,
            "align_self": null,
            "border": null,
            "bottom": null,
            "display": null,
            "flex": null,
            "flex_flow": null,
            "grid_area": null,
            "grid_auto_columns": null,
            "grid_auto_flow": null,
            "grid_auto_rows": null,
            "grid_column": null,
            "grid_gap": null,
            "grid_row": null,
            "grid_template_areas": null,
            "grid_template_columns": null,
            "grid_template_rows": null,
            "height": null,
            "justify_content": null,
            "justify_items": null,
            "left": null,
            "margin": null,
            "max_height": null,
            "max_width": null,
            "min_height": null,
            "min_width": null,
            "object_fit": null,
            "object_position": null,
            "order": null,
            "overflow": null,
            "overflow_x": null,
            "overflow_y": null,
            "padding": null,
            "right": null,
            "top": null,
            "visibility": null,
            "width": null
          }
        },
        "c1cc33dccb534b3f979412de6b0a6945": {
          "model_module": "@jupyter-widgets/base",
          "model_name": "LayoutModel",
          "model_module_version": "1.2.0",
          "state": {
            "_model_module": "@jupyter-widgets/base",
            "_model_module_version": "1.2.0",
            "_model_name": "LayoutModel",
            "_view_count": null,
            "_view_module": "@jupyter-widgets/base",
            "_view_module_version": "1.2.0",
            "_view_name": "LayoutView",
            "align_content": null,
            "align_items": null,
            "align_self": null,
            "border": null,
            "bottom": null,
            "display": null,
            "flex": null,
            "flex_flow": null,
            "grid_area": null,
            "grid_auto_columns": null,
            "grid_auto_flow": null,
            "grid_auto_rows": null,
            "grid_column": null,
            "grid_gap": null,
            "grid_row": null,
            "grid_template_areas": null,
            "grid_template_columns": null,
            "grid_template_rows": null,
            "height": null,
            "justify_content": null,
            "justify_items": null,
            "left": null,
            "margin": null,
            "max_height": null,
            "max_width": null,
            "min_height": null,
            "min_width": null,
            "object_fit": null,
            "object_position": null,
            "order": null,
            "overflow": null,
            "overflow_x": null,
            "overflow_y": null,
            "padding": null,
            "right": null,
            "top": null,
            "visibility": null,
            "width": null
          }
        },
        "698e2acdfb314f029d4a5f22015f72ca": {
          "model_module": "@jupyter-widgets/controls",
          "model_name": "DescriptionStyleModel",
          "model_module_version": "1.5.0",
          "state": {
            "_model_module": "@jupyter-widgets/controls",
            "_model_module_version": "1.5.0",
            "_model_name": "DescriptionStyleModel",
            "_view_count": null,
            "_view_module": "@jupyter-widgets/base",
            "_view_module_version": "1.2.0",
            "_view_name": "StyleView",
            "description_width": ""
          }
        },
        "62c8852e5fc74a2596c5c9a2a09beb7e": {
          "model_module": "@jupyter-widgets/base",
          "model_name": "LayoutModel",
          "model_module_version": "1.2.0",
          "state": {
            "_model_module": "@jupyter-widgets/base",
            "_model_module_version": "1.2.0",
            "_model_name": "LayoutModel",
            "_view_count": null,
            "_view_module": "@jupyter-widgets/base",
            "_view_module_version": "1.2.0",
            "_view_name": "LayoutView",
            "align_content": null,
            "align_items": null,
            "align_self": null,
            "border": null,
            "bottom": null,
            "display": null,
            "flex": null,
            "flex_flow": null,
            "grid_area": null,
            "grid_auto_columns": null,
            "grid_auto_flow": null,
            "grid_auto_rows": null,
            "grid_column": null,
            "grid_gap": null,
            "grid_row": null,
            "grid_template_areas": null,
            "grid_template_columns": null,
            "grid_template_rows": null,
            "height": null,
            "justify_content": null,
            "justify_items": null,
            "left": null,
            "margin": null,
            "max_height": null,
            "max_width": null,
            "min_height": null,
            "min_width": null,
            "object_fit": null,
            "object_position": null,
            "order": null,
            "overflow": null,
            "overflow_x": null,
            "overflow_y": null,
            "padding": null,
            "right": null,
            "top": null,
            "visibility": null,
            "width": null
          }
        },
        "4a6aaf6b1cfc433a873cd9382395f1ee": {
          "model_module": "@jupyter-widgets/controls",
          "model_name": "VBoxModel",
          "model_module_version": "1.5.0",
          "state": {
            "_dom_classes": [
              "widget-interact"
            ],
            "_model_module": "@jupyter-widgets/controls",
            "_model_module_version": "1.5.0",
            "_model_name": "VBoxModel",
            "_view_count": null,
            "_view_module": "@jupyter-widgets/controls",
            "_view_module_version": "1.5.0",
            "_view_name": "VBoxView",
            "box_style": "",
            "children": [
              "IPY_MODEL_30f494100b1241cabbb9ce8109fc6eaf",
              "IPY_MODEL_6e7e2137879a4e17a1677b3e15da223b"
            ],
            "layout": "IPY_MODEL_8dc627ab510f42e491de0bedc1dd747c"
          }
        },
        "30f494100b1241cabbb9ce8109fc6eaf": {
          "model_module": "@jupyter-widgets/controls",
          "model_name": "DropdownModel",
          "model_module_version": "1.5.0",
          "state": {
            "_dom_classes": [],
            "_model_module": "@jupyter-widgets/controls",
            "_model_module_version": "1.5.0",
            "_model_name": "DropdownModel",
            "_options_labels": [
              "A030F720057",
              "A040F320538",
              "A040F320657",
              "A040F320672",
              "A30F072791",
              "A30F072792",
              "A30F072882",
              "A30F072956",
              "A30F072960",
              "A30F072964",
              "A30G732008",
              "A30G732028",
              "A30G732029",
              "A30G732035",
              "A30G732052",
              "A30G732079",
              "A40G341530",
              "A45G332087",
              "A45G332090",
              "A45G332092",
              "EC210240111",
              "EC210282764",
              "EC210282811",
              "EC220240109",
              "EC220240223",
              "EC220240341",
              "EC220240448",
              "EC220240477",
              "EC220240485",
              "EC220240605",
              "EC220240814",
              "EC220245052",
              "EC220245079",
              "EC220245238",
              "EC220245239",
              "EC220245244",
              "EC220245253",
              "EC220245261",
              "EC220245288",
              "EC220245388",
              "EC220245461",
              "L60F007228",
              "L60F071852",
              "L60F072205",
              "L60F072286",
              "L60F072447",
              "L60F072499",
              "L60F072640",
              "L60F072664",
              "L60F072903",
              "L60F072957",
              "L60F073082",
              "L60F073176",
              "L60F073321",
              "L60F073325",
              "L60F073726",
              "L60F073882",
              "L60F073972",
              "L60F074089",
              "L60F074104",
              "L60F074121",
              "L60F074213"
            ],
            "_view_count": null,
            "_view_module": "@jupyter-widgets/controls",
            "_view_module_version": "1.5.0",
            "_view_name": "DropdownView",
            "description": "id",
            "description_tooltip": null,
            "disabled": false,
            "index": 15,
            "layout": "IPY_MODEL_f86259b7f98b410099360bcac5ab799a",
            "style": "IPY_MODEL_fe5dd8a6908e4acd8215fae5047174a4"
          }
        },
        "6e7e2137879a4e17a1677b3e15da223b": {
          "model_module": "@jupyter-widgets/output",
          "model_name": "OutputModel",
          "model_module_version": "1.0.0",
          "state": {
            "_dom_classes": [],
            "_model_module": "@jupyter-widgets/output",
            "_model_module_version": "1.0.0",
            "_model_name": "OutputModel",
            "_view_count": null,
            "_view_module": "@jupyter-widgets/output",
            "_view_module_version": "1.0.0",
            "_view_name": "OutputView",
            "layout": "IPY_MODEL_06e9aa397142420ea428d1b4e5af8219",
            "msg_id": "",
            "outputs": [
              {
                "output_type": "display_data",
                "data": {
                  "text/plain": "<Figure size 1600x300 with 1 Axes>",
                  "image/png": "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\n"
                },
                "metadata": {}
              }
            ]
          }
        },
        "8dc627ab510f42e491de0bedc1dd747c": {
          "model_module": "@jupyter-widgets/base",
          "model_name": "LayoutModel",
          "model_module_version": "1.2.0",
          "state": {
            "_model_module": "@jupyter-widgets/base",
            "_model_module_version": "1.2.0",
            "_model_name": "LayoutModel",
            "_view_count": null,
            "_view_module": "@jupyter-widgets/base",
            "_view_module_version": "1.2.0",
            "_view_name": "LayoutView",
            "align_content": null,
            "align_items": null,
            "align_self": null,
            "border": null,
            "bottom": null,
            "display": null,
            "flex": null,
            "flex_flow": null,
            "grid_area": null,
            "grid_auto_columns": null,
            "grid_auto_flow": null,
            "grid_auto_rows": null,
            "grid_column": null,
            "grid_gap": null,
            "grid_row": null,
            "grid_template_areas": null,
            "grid_template_columns": null,
            "grid_template_rows": null,
            "height": null,
            "justify_content": null,
            "justify_items": null,
            "left": null,
            "margin": null,
            "max_height": null,
            "max_width": null,
            "min_height": null,
            "min_width": null,
            "object_fit": null,
            "object_position": null,
            "order": null,
            "overflow": null,
            "overflow_x": null,
            "overflow_y": null,
            "padding": null,
            "right": null,
            "top": null,
            "visibility": null,
            "width": null
          }
        },
        "f86259b7f98b410099360bcac5ab799a": {
          "model_module": "@jupyter-widgets/base",
          "model_name": "LayoutModel",
          "model_module_version": "1.2.0",
          "state": {
            "_model_module": "@jupyter-widgets/base",
            "_model_module_version": "1.2.0",
            "_model_name": "LayoutModel",
            "_view_count": null,
            "_view_module": "@jupyter-widgets/base",
            "_view_module_version": "1.2.0",
            "_view_name": "LayoutView",
            "align_content": null,
            "align_items": null,
            "align_self": null,
            "border": null,
            "bottom": null,
            "display": null,
            "flex": null,
            "flex_flow": null,
            "grid_area": null,
            "grid_auto_columns": null,
            "grid_auto_flow": null,
            "grid_auto_rows": null,
            "grid_column": null,
            "grid_gap": null,
            "grid_row": null,
            "grid_template_areas": null,
            "grid_template_columns": null,
            "grid_template_rows": null,
            "height": null,
            "justify_content": null,
            "justify_items": null,
            "left": null,
            "margin": null,
            "max_height": null,
            "max_width": null,
            "min_height": null,
            "min_width": null,
            "object_fit": null,
            "object_position": null,
            "order": null,
            "overflow": null,
            "overflow_x": null,
            "overflow_y": null,
            "padding": null,
            "right": null,
            "top": null,
            "visibility": null,
            "width": null
          }
        },
        "fe5dd8a6908e4acd8215fae5047174a4": {
          "model_module": "@jupyter-widgets/controls",
          "model_name": "DescriptionStyleModel",
          "model_module_version": "1.5.0",
          "state": {
            "_model_module": "@jupyter-widgets/controls",
            "_model_module_version": "1.5.0",
            "_model_name": "DescriptionStyleModel",
            "_view_count": null,
            "_view_module": "@jupyter-widgets/base",
            "_view_module_version": "1.2.0",
            "_view_name": "StyleView",
            "description_width": ""
          }
        },
        "06e9aa397142420ea428d1b4e5af8219": {
          "model_module": "@jupyter-widgets/base",
          "model_name": "LayoutModel",
          "model_module_version": "1.2.0",
          "state": {
            "_model_module": "@jupyter-widgets/base",
            "_model_module_version": "1.2.0",
            "_model_name": "LayoutModel",
            "_view_count": null,
            "_view_module": "@jupyter-widgets/base",
            "_view_module_version": "1.2.0",
            "_view_name": "LayoutView",
            "align_content": null,
            "align_items": null,
            "align_self": null,
            "border": null,
            "bottom": null,
            "display": null,
            "flex": null,
            "flex_flow": null,
            "grid_area": null,
            "grid_auto_columns": null,
            "grid_auto_flow": null,
            "grid_auto_rows": null,
            "grid_column": null,
            "grid_gap": null,
            "grid_row": null,
            "grid_template_areas": null,
            "grid_template_columns": null,
            "grid_template_rows": null,
            "height": null,
            "justify_content": null,
            "justify_items": null,
            "left": null,
            "margin": null,
            "max_height": null,
            "max_width": null,
            "min_height": null,
            "min_width": null,
            "object_fit": null,
            "object_position": null,
            "order": null,
            "overflow": null,
            "overflow_x": null,
            "overflow_y": null,
            "padding": null,
            "right": null,
            "top": null,
            "visibility": null,
            "width": null
          }
        }
      }
    }
  },
  "nbformat": 4,
  "nbformat_minor": 0
}